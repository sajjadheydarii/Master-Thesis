{
 "cells": [
  {
   "cell_type": "markdown",
   "id": "7b8d70c7",
   "metadata": {},
   "source": [
    "# Import the Libraries"
   ]
  },
  {
   "cell_type": "code",
   "execution_count": 1,
   "id": "75ec7c61",
   "metadata": {},
   "outputs": [],
   "source": [
    "import pandas as pd\n",
    "import numpy as np\n",
    "import matplotlib.pyplot as plt\n",
    "import seaborn as sns\n",
    "from datetime import datetime\n",
    "import statistics as st\n",
    "from scipy import stats\n",
    "import statsmodels.api as sm\n",
    "from statsmodels.formula.api import ols\n",
    "from scipy.stats import f_oneway\n",
    "import sklearn\n",
    "from sklearn.preprocessing import MinMaxScaler\n",
    "from scipy import spatial\n",
    "from collections import defaultdict\n",
    "from sklearn.metrics.pairwise import euclidean_distances\n",
    "from sklearn.preprocessing import StandardScaler\n",
    "from pgmpy.estimators import HillClimbSearch\n",
    "from sklearn import feature_selection as fs\n",
    "import collections\n",
    "import mdptoolbox, mdptoolbox.example\n",
    "import argparse\n",
    "from keras.layers import Dense, Dropout, Activation\n",
    "from keras.models import Sequential\n",
    "from keras.optimizers import Adam\n",
    "from keras import backend as k\n",
    "from collections import deque\n",
    "import gym\n",
    "import warnings\n",
    "from stable_baselines.common.policies import MlpPolicy\n",
    "from stable_baselines.common.vec_env import DummyVecEnv\n",
    "from stable_baselines.common.evaluation import evaluate_policy\n",
    "from stable_baselines.common.noise import NormalActionNoise, OrnsteinUhlenbeckActionNoise, AdaptiveParamNoiseSpec\n",
    "from stable_baselines import DDPG"
   ]
  },
  {
   "cell_type": "markdown",
   "id": "eb496182",
   "metadata": {},
   "source": [
    "# Import the Dataset"
   ]
  },
  {
   "cell_type": "code",
   "execution_count": 2,
   "id": "5f5ad2f8",
   "metadata": {},
   "outputs": [
    {
     "data": {
      "text/html": [
       "<div>\n",
       "<style scoped>\n",
       "    .dataframe tbody tr th:only-of-type {\n",
       "        vertical-align: middle;\n",
       "    }\n",
       "\n",
       "    .dataframe tbody tr th {\n",
       "        vertical-align: top;\n",
       "    }\n",
       "\n",
       "    .dataframe thead th {\n",
       "        text-align: right;\n",
       "    }\n",
       "</style>\n",
       "<table border=\"1\" class=\"dataframe\">\n",
       "  <thead>\n",
       "    <tr style=\"text-align: right;\">\n",
       "      <th></th>\n",
       "      <th>id</th>\n",
       "      <th>timestamp</th>\n",
       "      <th>hour</th>\n",
       "      <th>day</th>\n",
       "      <th>month</th>\n",
       "      <th>datetime</th>\n",
       "      <th>timezone</th>\n",
       "      <th>source</th>\n",
       "      <th>destination</th>\n",
       "      <th>cab_type</th>\n",
       "      <th>...</th>\n",
       "      <th>precipIntensityMax</th>\n",
       "      <th>uvIndexTime</th>\n",
       "      <th>temperatureMin</th>\n",
       "      <th>temperatureMinTime</th>\n",
       "      <th>temperatureMax</th>\n",
       "      <th>temperatureMaxTime</th>\n",
       "      <th>apparentTemperatureMin</th>\n",
       "      <th>apparentTemperatureMinTime</th>\n",
       "      <th>apparentTemperatureMax</th>\n",
       "      <th>apparentTemperatureMaxTime</th>\n",
       "    </tr>\n",
       "  </thead>\n",
       "  <tbody>\n",
       "    <tr>\n",
       "      <th>0</th>\n",
       "      <td>424553bb-7174-41ea-aeb4-fe06d4f4b9d7</td>\n",
       "      <td>1.544953e+09</td>\n",
       "      <td>9</td>\n",
       "      <td>16</td>\n",
       "      <td>12</td>\n",
       "      <td>2018-12-16 09:30:07</td>\n",
       "      <td>America/New_York</td>\n",
       "      <td>Haymarket Square</td>\n",
       "      <td>North Station</td>\n",
       "      <td>Lyft</td>\n",
       "      <td>...</td>\n",
       "      <td>0.1276</td>\n",
       "      <td>1544979600</td>\n",
       "      <td>39.89</td>\n",
       "      <td>1545012000</td>\n",
       "      <td>43.68</td>\n",
       "      <td>1544968800</td>\n",
       "      <td>33.73</td>\n",
       "      <td>1545012000</td>\n",
       "      <td>38.07</td>\n",
       "      <td>1544958000</td>\n",
       "    </tr>\n",
       "    <tr>\n",
       "      <th>1</th>\n",
       "      <td>4bd23055-6827-41c6-b23b-3c491f24e74d</td>\n",
       "      <td>1.543284e+09</td>\n",
       "      <td>2</td>\n",
       "      <td>27</td>\n",
       "      <td>11</td>\n",
       "      <td>2018-11-27 02:00:23</td>\n",
       "      <td>America/New_York</td>\n",
       "      <td>Haymarket Square</td>\n",
       "      <td>North Station</td>\n",
       "      <td>Lyft</td>\n",
       "      <td>...</td>\n",
       "      <td>0.1300</td>\n",
       "      <td>1543251600</td>\n",
       "      <td>40.49</td>\n",
       "      <td>1543233600</td>\n",
       "      <td>47.30</td>\n",
       "      <td>1543251600</td>\n",
       "      <td>36.20</td>\n",
       "      <td>1543291200</td>\n",
       "      <td>43.92</td>\n",
       "      <td>1543251600</td>\n",
       "    </tr>\n",
       "    <tr>\n",
       "      <th>2</th>\n",
       "      <td>981a3613-77af-4620-a42a-0c0866077d1e</td>\n",
       "      <td>1.543367e+09</td>\n",
       "      <td>1</td>\n",
       "      <td>28</td>\n",
       "      <td>11</td>\n",
       "      <td>2018-11-28 01:00:22</td>\n",
       "      <td>America/New_York</td>\n",
       "      <td>Haymarket Square</td>\n",
       "      <td>North Station</td>\n",
       "      <td>Lyft</td>\n",
       "      <td>...</td>\n",
       "      <td>0.1064</td>\n",
       "      <td>1543338000</td>\n",
       "      <td>35.36</td>\n",
       "      <td>1543377600</td>\n",
       "      <td>47.55</td>\n",
       "      <td>1543320000</td>\n",
       "      <td>31.04</td>\n",
       "      <td>1543377600</td>\n",
       "      <td>44.12</td>\n",
       "      <td>1543320000</td>\n",
       "    </tr>\n",
       "    <tr>\n",
       "      <th>3</th>\n",
       "      <td>c2d88af2-d278-4bfd-a8d0-29ca77cc5512</td>\n",
       "      <td>1.543554e+09</td>\n",
       "      <td>4</td>\n",
       "      <td>30</td>\n",
       "      <td>11</td>\n",
       "      <td>2018-11-30 04:53:02</td>\n",
       "      <td>America/New_York</td>\n",
       "      <td>Haymarket Square</td>\n",
       "      <td>North Station</td>\n",
       "      <td>Lyft</td>\n",
       "      <td>...</td>\n",
       "      <td>0.0000</td>\n",
       "      <td>1543507200</td>\n",
       "      <td>34.67</td>\n",
       "      <td>1543550400</td>\n",
       "      <td>45.03</td>\n",
       "      <td>1543510800</td>\n",
       "      <td>30.30</td>\n",
       "      <td>1543550400</td>\n",
       "      <td>38.53</td>\n",
       "      <td>1543510800</td>\n",
       "    </tr>\n",
       "    <tr>\n",
       "      <th>4</th>\n",
       "      <td>e0126e1f-8ca9-4f2e-82b3-50505a09db9a</td>\n",
       "      <td>1.543463e+09</td>\n",
       "      <td>3</td>\n",
       "      <td>29</td>\n",
       "      <td>11</td>\n",
       "      <td>2018-11-29 03:49:20</td>\n",
       "      <td>America/New_York</td>\n",
       "      <td>Haymarket Square</td>\n",
       "      <td>North Station</td>\n",
       "      <td>Lyft</td>\n",
       "      <td>...</td>\n",
       "      <td>0.0001</td>\n",
       "      <td>1543420800</td>\n",
       "      <td>33.10</td>\n",
       "      <td>1543402800</td>\n",
       "      <td>42.18</td>\n",
       "      <td>1543420800</td>\n",
       "      <td>29.11</td>\n",
       "      <td>1543392000</td>\n",
       "      <td>35.75</td>\n",
       "      <td>1543420800</td>\n",
       "    </tr>\n",
       "  </tbody>\n",
       "</table>\n",
       "<p>5 rows × 57 columns</p>\n",
       "</div>"
      ],
      "text/plain": [
       "                                     id     timestamp  hour  day  month  \\\n",
       "0  424553bb-7174-41ea-aeb4-fe06d4f4b9d7  1.544953e+09     9   16     12   \n",
       "1  4bd23055-6827-41c6-b23b-3c491f24e74d  1.543284e+09     2   27     11   \n",
       "2  981a3613-77af-4620-a42a-0c0866077d1e  1.543367e+09     1   28     11   \n",
       "3  c2d88af2-d278-4bfd-a8d0-29ca77cc5512  1.543554e+09     4   30     11   \n",
       "4  e0126e1f-8ca9-4f2e-82b3-50505a09db9a  1.543463e+09     3   29     11   \n",
       "\n",
       "              datetime          timezone            source    destination  \\\n",
       "0  2018-12-16 09:30:07  America/New_York  Haymarket Square  North Station   \n",
       "1  2018-11-27 02:00:23  America/New_York  Haymarket Square  North Station   \n",
       "2  2018-11-28 01:00:22  America/New_York  Haymarket Square  North Station   \n",
       "3  2018-11-30 04:53:02  America/New_York  Haymarket Square  North Station   \n",
       "4  2018-11-29 03:49:20  America/New_York  Haymarket Square  North Station   \n",
       "\n",
       "  cab_type  ... precipIntensityMax uvIndexTime  temperatureMin  \\\n",
       "0     Lyft  ...             0.1276  1544979600           39.89   \n",
       "1     Lyft  ...             0.1300  1543251600           40.49   \n",
       "2     Lyft  ...             0.1064  1543338000           35.36   \n",
       "3     Lyft  ...             0.0000  1543507200           34.67   \n",
       "4     Lyft  ...             0.0001  1543420800           33.10   \n",
       "\n",
       "   temperatureMinTime  temperatureMax  temperatureMaxTime  \\\n",
       "0          1545012000           43.68          1544968800   \n",
       "1          1543233600           47.30          1543251600   \n",
       "2          1543377600           47.55          1543320000   \n",
       "3          1543550400           45.03          1543510800   \n",
       "4          1543402800           42.18          1543420800   \n",
       "\n",
       "   apparentTemperatureMin  apparentTemperatureMinTime  apparentTemperatureMax  \\\n",
       "0                   33.73                  1545012000                   38.07   \n",
       "1                   36.20                  1543291200                   43.92   \n",
       "2                   31.04                  1543377600                   44.12   \n",
       "3                   30.30                  1543550400                   38.53   \n",
       "4                   29.11                  1543392000                   35.75   \n",
       "\n",
       "  apparentTemperatureMaxTime  \n",
       "0                 1544958000  \n",
       "1                 1543251600  \n",
       "2                 1543320000  \n",
       "3                 1543510800  \n",
       "4                 1543420800  \n",
       "\n",
       "[5 rows x 57 columns]"
      ]
     },
     "execution_count": 2,
     "metadata": {},
     "output_type": "execute_result"
    }
   ],
   "source": [
    "data = pd.read_csv(\"ride.csv\")\n",
    "data.head()"
   ]
  },
  {
   "cell_type": "code",
   "execution_count": 3,
   "id": "6531bbf1",
   "metadata": {},
   "outputs": [
    {
     "data": {
      "text/plain": [
       "(693071, 57)"
      ]
     },
     "execution_count": 3,
     "metadata": {},
     "output_type": "execute_result"
    }
   ],
   "source": [
    "data.shape"
   ]
  },
  {
   "cell_type": "code",
   "execution_count": 4,
   "id": "91861cc0",
   "metadata": {},
   "outputs": [
    {
     "data": {
      "text/plain": [
       "Index(['id', 'timestamp', 'hour', 'day', 'month', 'datetime', 'timezone',\n",
       "       'source', 'destination', 'cab_type', 'product_id', 'name', 'price',\n",
       "       'distance', 'surge_multiplier', 'latitude', 'longitude', 'temperature',\n",
       "       'apparentTemperature', 'short_summary', 'long_summary',\n",
       "       'precipIntensity', 'precipProbability', 'humidity', 'windSpeed',\n",
       "       'windGust', 'windGustTime', 'visibility', 'temperatureHigh',\n",
       "       'temperatureHighTime', 'temperatureLow', 'temperatureLowTime',\n",
       "       'apparentTemperatureHigh', 'apparentTemperatureHighTime',\n",
       "       'apparentTemperatureLow', 'apparentTemperatureLowTime', 'icon',\n",
       "       'dewPoint', 'pressure', 'windBearing', 'cloudCover', 'uvIndex',\n",
       "       'visibility.1', 'ozone', 'sunriseTime', 'sunsetTime', 'moonPhase',\n",
       "       'precipIntensityMax', 'uvIndexTime', 'temperatureMin',\n",
       "       'temperatureMinTime', 'temperatureMax', 'temperatureMaxTime',\n",
       "       'apparentTemperatureMin', 'apparentTemperatureMinTime',\n",
       "       'apparentTemperatureMax', 'apparentTemperatureMaxTime'],\n",
       "      dtype='object')"
      ]
     },
     "execution_count": 4,
     "metadata": {},
     "output_type": "execute_result"
    }
   ],
   "source": [
    "data.columns"
   ]
  },
  {
   "cell_type": "markdown",
   "id": "3752af99",
   "metadata": {},
   "source": [
    "##### Removing irrelevant features"
   ]
  },
  {
   "cell_type": "code",
   "execution_count": 5,
   "id": "7d1f02dc",
   "metadata": {},
   "outputs": [],
   "source": [
    "data = data.drop(['id', 'timestamp','timezone', 'product_id', 'surge_multiplier'], axis = 1)"
   ]
  },
  {
   "cell_type": "code",
   "execution_count": 6,
   "id": "08aa0e12",
   "metadata": {},
   "outputs": [],
   "source": [
    "data_x = data.drop(\"price\", axis = 1)\n",
    "data_y = data.iloc[:,8]\n",
    "data = pd.concat([data_x, data_y], axis = 1)"
   ]
  },
  {
   "cell_type": "markdown",
   "id": "4e6d2498",
   "metadata": {},
   "source": [
    "##### Sample from data associated with Uber"
   ]
  },
  {
   "cell_type": "code",
   "execution_count": 7,
   "id": "4b769479",
   "metadata": {},
   "outputs": [],
   "source": [
    "data = data[data[\"cab_type\"] == \"Uber\"].reset_index().drop([\"index\", \"cab_type\"], axis = 1)"
   ]
  },
  {
   "cell_type": "code",
   "execution_count": 8,
   "id": "1455071b",
   "metadata": {},
   "outputs": [
    {
     "data": {
      "text/plain": [
       "Index(['hour', 'day', 'month', 'datetime', 'source', 'destination', 'name',\n",
       "       'distance', 'latitude', 'longitude', 'temperature',\n",
       "       'apparentTemperature', 'short_summary', 'long_summary',\n",
       "       'precipIntensity', 'precipProbability', 'humidity', 'windSpeed',\n",
       "       'windGust', 'windGustTime', 'visibility', 'temperatureHigh',\n",
       "       'temperatureHighTime', 'temperatureLow', 'temperatureLowTime',\n",
       "       'apparentTemperatureHigh', 'apparentTemperatureHighTime',\n",
       "       'apparentTemperatureLow', 'apparentTemperatureLowTime', 'icon',\n",
       "       'dewPoint', 'pressure', 'windBearing', 'cloudCover', 'uvIndex',\n",
       "       'visibility.1', 'ozone', 'sunriseTime', 'sunsetTime', 'moonPhase',\n",
       "       'precipIntensityMax', 'uvIndexTime', 'temperatureMin',\n",
       "       'temperatureMinTime', 'temperatureMax', 'temperatureMaxTime',\n",
       "       'apparentTemperatureMin', 'apparentTemperatureMinTime',\n",
       "       'apparentTemperatureMax', 'apparentTemperatureMaxTime', 'price'],\n",
       "      dtype='object')"
      ]
     },
     "execution_count": 8,
     "metadata": {},
     "output_type": "execute_result"
    }
   ],
   "source": [
    "data.columns"
   ]
  },
  {
   "cell_type": "markdown",
   "id": "39e80b05",
   "metadata": {},
   "source": [
    "# EDA"
   ]
  },
  {
   "cell_type": "markdown",
   "id": "b672e0be",
   "metadata": {},
   "source": [
    "### Data Visualization"
   ]
  },
  {
   "cell_type": "code",
   "execution_count": 9,
   "id": "1a69aa8c",
   "metadata": {},
   "outputs": [
    {
     "data": {
      "text/plain": [
       "<AxesSubplot:xlabel='count', ylabel='icon'>"
      ]
     },
     "execution_count": 9,
     "metadata": {},
     "output_type": "execute_result"
    },
    {
     "data": {
      "image/png": "[encoded data removed]",
      "text/plain": [
       "<Figure size 1440x864 with 1 Axes>"
      ]
     },
     "metadata": {
      "needs_background": "light"
     },
     "output_type": "display_data"
    }
   ],
   "source": [
    "fig = plt.figure(figsize = (20,12))\n",
    "plt.xlim(2000, 150000)\n",
    "sns.countplot(y = \"icon\", data = data)"
   ]
  },
  {
   "cell_type": "code",
   "execution_count": 10,
   "id": "56306a72",
   "metadata": {},
   "outputs": [
    {
     "data": {
      "text/plain": [
       "<seaborn.axisgrid.FacetGrid at 0x233129c9e20>"
      ]
     },
     "execution_count": 10,
     "metadata": {},
     "output_type": "execute_result"
    },
    {
     "data": {
      "image/png": "[encoded data removed]",
      "text/plain": [
       "<Figure size 440.375x360 with 1 Axes>"
      ]
     },
     "metadata": {
      "needs_background": "light"
     },
     "output_type": "display_data"
    }
   ],
   "source": [
    "sns.catplot(x = \"icon\", y = \"distance\", hue = \"name\",kind = \"bar\", data = data[(data[\"name\"] == \"UberXL\") | (data[\"name\"] == \"UberX\") | (data[\"name\"] == \"UberPool\")])"
   ]
  },
  {
   "cell_type": "code",
   "execution_count": 11,
   "id": "cf86eb73",
   "metadata": {},
   "outputs": [
    {
     "data": {
      "text/plain": [
       "<seaborn.axisgrid.FacetGrid at 0x23314db6850>"
      ]
     },
     "execution_count": 11,
     "metadata": {},
     "output_type": "execute_result"
    },
    {
     "data": {
      "image/png": "[encoded data removed]",
      "text/plain": [
       "<Figure size 446.75x360 with 1 Axes>"
      ]
     },
     "metadata": {
      "needs_background": "light"
     },
     "output_type": "display_data"
    }
   ],
   "source": [
    "sns.catplot(x = \"icon\", y = \"distance\", hue = \"name\",kind = \"bar\", data = data[(data[\"name\"] == \"Black\") | (data[\"name\"] == \"Black SUV\")])"
   ]
  },
  {
   "cell_type": "code",
   "execution_count": 12,
   "id": "72769c4e",
   "metadata": {},
   "outputs": [
    {
     "data": {
      "text/plain": [
       "<seaborn.axisgrid.FacetGrid at 0x23314af9c70>"
      ]
     },
     "execution_count": 12,
     "metadata": {},
     "output_type": "execute_result"
    },
    {
     "data": {
      "image/png": "[encoded data removed]",
      "text/plain": [
       "<Figure size 418.5x360 with 1 Axes>"
      ]
     },
     "metadata": {
      "needs_background": "light"
     },
     "output_type": "display_data"
    }
   ],
   "source": [
    "sns.catplot(x = \"icon\", y = \"distance\", hue = \"name\",kind = \"bar\", data = data[(data[\"name\"] == \"Taxi\") | (data[\"name\"] == \"WAV\")])"
   ]
  },
  {
   "cell_type": "markdown",
   "id": "8d0c49c7",
   "metadata": {},
   "source": [
    "### Data manipulation"
   ]
  },
  {
   "cell_type": "code",
   "execution_count": 13,
   "id": "3caed2c9",
   "metadata": {},
   "outputs": [
    {
     "data": {
      "text/html": [
       "<div>\n",
       "<style scoped>\n",
       "    .dataframe tbody tr th:only-of-type {\n",
       "        vertical-align: middle;\n",
       "    }\n",
       "\n",
       "    .dataframe tbody tr th {\n",
       "        vertical-align: top;\n",
       "    }\n",
       "\n",
       "    .dataframe thead th {\n",
       "        text-align: right;\n",
       "    }\n",
       "</style>\n",
       "<table border=\"1\" class=\"dataframe\">\n",
       "  <thead>\n",
       "    <tr style=\"text-align: right;\">\n",
       "      <th></th>\n",
       "      <th>distance</th>\n",
       "      <th>temperatureMin</th>\n",
       "      <th>temperatureMax</th>\n",
       "    </tr>\n",
       "    <tr>\n",
       "      <th>name</th>\n",
       "      <th></th>\n",
       "      <th></th>\n",
       "      <th></th>\n",
       "    </tr>\n",
       "  </thead>\n",
       "  <tbody>\n",
       "    <tr>\n",
       "      <th>Black</th>\n",
       "      <td>2.191399</td>\n",
       "      <td>33.451900</td>\n",
       "      <td>45.243680</td>\n",
       "    </tr>\n",
       "    <tr>\n",
       "      <th>Black SUV</th>\n",
       "      <td>2.191378</td>\n",
       "      <td>33.475143</td>\n",
       "      <td>45.275384</td>\n",
       "    </tr>\n",
       "    <tr>\n",
       "      <th>Taxi</th>\n",
       "      <td>2.191383</td>\n",
       "      <td>33.476342</td>\n",
       "      <td>45.277155</td>\n",
       "    </tr>\n",
       "    <tr>\n",
       "      <th>UberPool</th>\n",
       "      <td>2.191396</td>\n",
       "      <td>33.453702</td>\n",
       "      <td>45.253569</td>\n",
       "    </tr>\n",
       "    <tr>\n",
       "      <th>UberX</th>\n",
       "      <td>2.191390</td>\n",
       "      <td>33.423663</td>\n",
       "      <td>45.221049</td>\n",
       "    </tr>\n",
       "    <tr>\n",
       "      <th>UberXL</th>\n",
       "      <td>2.191378</td>\n",
       "      <td>33.426031</td>\n",
       "      <td>45.219920</td>\n",
       "    </tr>\n",
       "    <tr>\n",
       "      <th>WAV</th>\n",
       "      <td>2.191378</td>\n",
       "      <td>33.447161</td>\n",
       "      <td>45.237931</td>\n",
       "    </tr>\n",
       "  </tbody>\n",
       "</table>\n",
       "</div>"
      ],
      "text/plain": [
       "           distance  temperatureMin  temperatureMax\n",
       "name                                               \n",
       "Black      2.191399       33.451900       45.243680\n",
       "Black SUV  2.191378       33.475143       45.275384\n",
       "Taxi       2.191383       33.476342       45.277155\n",
       "UberPool   2.191396       33.453702       45.253569\n",
       "UberX      2.191390       33.423663       45.221049\n",
       "UberXL     2.191378       33.426031       45.219920\n",
       "WAV        2.191378       33.447161       45.237931"
      ]
     },
     "execution_count": 13,
     "metadata": {},
     "output_type": "execute_result"
    }
   ],
   "source": [
    "data[[\"name\",\"distance\",\"temperatureMin\", \"temperatureMax\"]].groupby([\"name\"]).mean()"
   ]
  },
  {
   "cell_type": "code",
   "execution_count": 14,
   "id": "330efdae",
   "metadata": {},
   "outputs": [
    {
     "data": {
      "text/html": [
       "<div>\n",
       "<style scoped>\n",
       "    .dataframe tbody tr th:only-of-type {\n",
       "        vertical-align: middle;\n",
       "    }\n",
       "\n",
       "    .dataframe tbody tr th {\n",
       "        vertical-align: top;\n",
       "    }\n",
       "\n",
       "    .dataframe thead th {\n",
       "        text-align: right;\n",
       "    }\n",
       "</style>\n",
       "<table border=\"1\" class=\"dataframe\">\n",
       "  <thead>\n",
       "    <tr style=\"text-align: right;\">\n",
       "      <th></th>\n",
       "      <th>precipProbability</th>\n",
       "      <th>precipIntensity</th>\n",
       "    </tr>\n",
       "    <tr>\n",
       "      <th>name</th>\n",
       "      <th></th>\n",
       "      <th></th>\n",
       "    </tr>\n",
       "  </thead>\n",
       "  <tbody>\n",
       "    <tr>\n",
       "      <th>Black</th>\n",
       "      <td>0.148658</td>\n",
       "      <td>0.009139</td>\n",
       "    </tr>\n",
       "    <tr>\n",
       "      <th>Black SUV</th>\n",
       "      <td>0.147089</td>\n",
       "      <td>0.008988</td>\n",
       "    </tr>\n",
       "    <tr>\n",
       "      <th>Taxi</th>\n",
       "      <td>0.147634</td>\n",
       "      <td>0.009071</td>\n",
       "    </tr>\n",
       "    <tr>\n",
       "      <th>UberPool</th>\n",
       "      <td>0.146511</td>\n",
       "      <td>0.008881</td>\n",
       "    </tr>\n",
       "    <tr>\n",
       "      <th>UberX</th>\n",
       "      <td>0.146558</td>\n",
       "      <td>0.008895</td>\n",
       "    </tr>\n",
       "    <tr>\n",
       "      <th>UberXL</th>\n",
       "      <td>0.145548</td>\n",
       "      <td>0.008896</td>\n",
       "    </tr>\n",
       "    <tr>\n",
       "      <th>WAV</th>\n",
       "      <td>0.146176</td>\n",
       "      <td>0.008905</td>\n",
       "    </tr>\n",
       "  </tbody>\n",
       "</table>\n",
       "</div>"
      ],
      "text/plain": [
       "           precipProbability  precipIntensity\n",
       "name                                         \n",
       "Black               0.148658         0.009139\n",
       "Black SUV           0.147089         0.008988\n",
       "Taxi                0.147634         0.009071\n",
       "UberPool            0.146511         0.008881\n",
       "UberX               0.146558         0.008895\n",
       "UberXL              0.145548         0.008896\n",
       "WAV                 0.146176         0.008905"
      ]
     },
     "execution_count": 14,
     "metadata": {},
     "output_type": "execute_result"
    }
   ],
   "source": [
    "data[[\"name\", 'precipProbability', 'precipIntensity']].groupby([\"name\"]).mean()"
   ]
  },
  {
   "cell_type": "code",
   "execution_count": 15,
   "id": "1c0beb52",
   "metadata": {},
   "outputs": [
    {
     "data": {
      "text/html": [
       "<div>\n",
       "<style scoped>\n",
       "    .dataframe tbody tr th:only-of-type {\n",
       "        vertical-align: middle;\n",
       "    }\n",
       "\n",
       "    .dataframe tbody tr th {\n",
       "        vertical-align: top;\n",
       "    }\n",
       "\n",
       "    .dataframe thead th {\n",
       "        text-align: right;\n",
       "    }\n",
       "</style>\n",
       "<table border=\"1\" class=\"dataframe\">\n",
       "  <thead>\n",
       "    <tr style=\"text-align: right;\">\n",
       "      <th></th>\n",
       "      <th></th>\n",
       "      <th>humidity</th>\n",
       "      <th>windSpeed</th>\n",
       "      <th>windGust</th>\n",
       "    </tr>\n",
       "    <tr>\n",
       "      <th>name</th>\n",
       "      <th>month</th>\n",
       "      <th></th>\n",
       "      <th></th>\n",
       "      <th></th>\n",
       "    </tr>\n",
       "  </thead>\n",
       "  <tbody>\n",
       "    <tr>\n",
       "      <th rowspan=\"2\" valign=\"top\">Black</th>\n",
       "      <th>11</th>\n",
       "      <td>0.745498</td>\n",
       "      <td>7.467438</td>\n",
       "      <td>10.207559</td>\n",
       "    </tr>\n",
       "    <tr>\n",
       "      <th>12</th>\n",
       "      <td>0.738597</td>\n",
       "      <td>5.306961</td>\n",
       "      <td>7.276161</td>\n",
       "    </tr>\n",
       "    <tr>\n",
       "      <th rowspan=\"2\" valign=\"top\">Black SUV</th>\n",
       "      <th>11</th>\n",
       "      <td>0.744968</td>\n",
       "      <td>7.477981</td>\n",
       "      <td>10.221739</td>\n",
       "    </tr>\n",
       "    <tr>\n",
       "      <th>12</th>\n",
       "      <td>0.739494</td>\n",
       "      <td>5.311679</td>\n",
       "      <td>7.301344</td>\n",
       "    </tr>\n",
       "    <tr>\n",
       "      <th rowspan=\"2\" valign=\"top\">Taxi</th>\n",
       "      <th>11</th>\n",
       "      <td>0.745884</td>\n",
       "      <td>7.437383</td>\n",
       "      <td>10.169528</td>\n",
       "    </tr>\n",
       "    <tr>\n",
       "      <th>12</th>\n",
       "      <td>0.739022</td>\n",
       "      <td>5.299795</td>\n",
       "      <td>7.265235</td>\n",
       "    </tr>\n",
       "    <tr>\n",
       "      <th rowspan=\"2\" valign=\"top\">UberPool</th>\n",
       "      <th>11</th>\n",
       "      <td>0.743970</td>\n",
       "      <td>7.450539</td>\n",
       "      <td>10.181427</td>\n",
       "    </tr>\n",
       "    <tr>\n",
       "      <th>12</th>\n",
       "      <td>0.739545</td>\n",
       "      <td>5.306338</td>\n",
       "      <td>7.273438</td>\n",
       "    </tr>\n",
       "    <tr>\n",
       "      <th rowspan=\"2\" valign=\"top\">UberX</th>\n",
       "      <th>11</th>\n",
       "      <td>0.744837</td>\n",
       "      <td>7.436100</td>\n",
       "      <td>10.155595</td>\n",
       "    </tr>\n",
       "    <tr>\n",
       "      <th>12</th>\n",
       "      <td>0.738536</td>\n",
       "      <td>5.338477</td>\n",
       "      <td>7.341719</td>\n",
       "    </tr>\n",
       "    <tr>\n",
       "      <th rowspan=\"2\" valign=\"top\">UberXL</th>\n",
       "      <th>11</th>\n",
       "      <td>0.744898</td>\n",
       "      <td>7.436583</td>\n",
       "      <td>10.151311</td>\n",
       "    </tr>\n",
       "    <tr>\n",
       "      <th>12</th>\n",
       "      <td>0.738563</td>\n",
       "      <td>5.296979</td>\n",
       "      <td>7.258975</td>\n",
       "    </tr>\n",
       "    <tr>\n",
       "      <th rowspan=\"2\" valign=\"top\">WAV</th>\n",
       "      <th>11</th>\n",
       "      <td>0.744607</td>\n",
       "      <td>7.428919</td>\n",
       "      <td>10.159479</td>\n",
       "    </tr>\n",
       "    <tr>\n",
       "      <th>12</th>\n",
       "      <td>0.738804</td>\n",
       "      <td>5.314374</td>\n",
       "      <td>7.277432</td>\n",
       "    </tr>\n",
       "  </tbody>\n",
       "</table>\n",
       "</div>"
      ],
      "text/plain": [
       "                 humidity  windSpeed   windGust\n",
       "name      month                                \n",
       "Black     11     0.745498   7.467438  10.207559\n",
       "          12     0.738597   5.306961   7.276161\n",
       "Black SUV 11     0.744968   7.477981  10.221739\n",
       "          12     0.739494   5.311679   7.301344\n",
       "Taxi      11     0.745884   7.437383  10.169528\n",
       "          12     0.739022   5.299795   7.265235\n",
       "UberPool  11     0.743970   7.450539  10.181427\n",
       "          12     0.739545   5.306338   7.273438\n",
       "UberX     11     0.744837   7.436100  10.155595\n",
       "          12     0.738536   5.338477   7.341719\n",
       "UberXL    11     0.744898   7.436583  10.151311\n",
       "          12     0.738563   5.296979   7.258975\n",
       "WAV       11     0.744607   7.428919  10.159479\n",
       "          12     0.738804   5.314374   7.277432"
      ]
     },
     "execution_count": 15,
     "metadata": {},
     "output_type": "execute_result"
    }
   ],
   "source": [
    "data[[\"name\",\"month\",'humidity', 'windSpeed', 'windGust']].groupby([\"name\", 'month']).mean()"
   ]
  },
  {
   "cell_type": "markdown",
   "id": "f09c3d12",
   "metadata": {},
   "source": [
    "# Data Preparation"
   ]
  },
  {
   "cell_type": "markdown",
   "id": "acaa42e5",
   "metadata": {},
   "source": [
    "### Data Integration and Combining"
   ]
  },
  {
   "cell_type": "markdown",
   "id": "034526aa",
   "metadata": {},
   "source": [
    "##### Convert Datetime values into month, day, hour, and minute features"
   ]
  },
  {
   "cell_type": "code",
   "execution_count": 16,
   "id": "2d042f52",
   "metadata": {},
   "outputs": [],
   "source": [
    "data['datetime_'] = pd.to_datetime(data.datetime, format='%Y-%m-%d %H:%M:%S')\n",
    "data = data.drop(\"datetime\", axis = 1)"
   ]
  },
  {
   "cell_type": "code",
   "execution_count": 17,
   "id": "8b4359a0",
   "metadata": {},
   "outputs": [],
   "source": [
    "data[\"minute\"] = data[\"datetime_\"].dt.minute"
   ]
  },
  {
   "cell_type": "code",
   "execution_count": 18,
   "id": "d1a572bb",
   "metadata": {},
   "outputs": [],
   "source": [
    "data_min = data.iloc[:,-1]\n",
    "data_xx = data.iloc[:,:-2]\n",
    "data = pd.concat([data_min, data_xx], axis = 1)"
   ]
  },
  {
   "cell_type": "code",
   "execution_count": 19,
   "id": "546790f1",
   "metadata": {},
   "outputs": [
    {
     "data": {
      "text/plain": [
       "Index(['minute', 'hour', 'day', 'month', 'source', 'destination', 'name',\n",
       "       'distance', 'latitude', 'longitude', 'temperature',\n",
       "       'apparentTemperature', 'short_summary', 'long_summary',\n",
       "       'precipIntensity', 'precipProbability', 'humidity', 'windSpeed',\n",
       "       'windGust', 'windGustTime', 'visibility', 'temperatureHigh',\n",
       "       'temperatureHighTime', 'temperatureLow', 'temperatureLowTime',\n",
       "       'apparentTemperatureHigh', 'apparentTemperatureHighTime',\n",
       "       'apparentTemperatureLow', 'apparentTemperatureLowTime', 'icon',\n",
       "       'dewPoint', 'pressure', 'windBearing', 'cloudCover', 'uvIndex',\n",
       "       'visibility.1', 'ozone', 'sunriseTime', 'sunsetTime', 'moonPhase',\n",
       "       'precipIntensityMax', 'uvIndexTime', 'temperatureMin',\n",
       "       'temperatureMinTime', 'temperatureMax', 'temperatureMaxTime',\n",
       "       'apparentTemperatureMin', 'apparentTemperatureMinTime',\n",
       "       'apparentTemperatureMax', 'apparentTemperatureMaxTime', 'price'],\n",
       "      dtype='object')"
      ]
     },
     "execution_count": 19,
     "metadata": {},
     "output_type": "execute_result"
    }
   ],
   "source": [
    "data.columns"
   ]
  },
  {
   "cell_type": "code",
   "execution_count": 20,
   "id": "0caf7868",
   "metadata": {},
   "outputs": [],
   "source": [
    "#apparentTemperatureMaxTime\n",
    "list_of_atmaxt = []\n",
    "for i in data.iloc[:,-2]:\n",
    "    j = datetime.fromtimestamp(i).strftime('%d-%m-%y %H:%M')\n",
    "    list_of_atmaxt.append(j)\n",
    "\n",
    "#apparentTemperatureMinTime\n",
    "list_of_atmint = []\n",
    "for k in data.iloc[:,-4]:\n",
    "    l = datetime.fromtimestamp(k).strftime('%d-%m-%y %H:%M')\n",
    "    list_of_atmint.append(l)\n",
    "    \n",
    "#temperatureMaxTime  \n",
    "list_of_tmaxt = []\n",
    "for a in data.iloc[:,-6]:\n",
    "    b = datetime.fromtimestamp(a).strftime('%d-%m-%y %H:%M')\n",
    "    list_of_tmaxt.append(b)\n",
    "\n",
    "#temperatureMinTime\n",
    "list_of_tmint = []\n",
    "for c in data.iloc[:,-8]:\n",
    "    d = datetime.fromtimestamp(c).strftime('%d-%m-%y %H:%M')\n",
    "    list_of_tmint.append(d)\n",
    "\n",
    "\n",
    "#uvIndexTime\n",
    "list_of_uvit = []\n",
    "for e in data.iloc[:,-10]:\n",
    "    f = datetime.fromtimestamp(e).strftime('%d-%m-%y %H:%M')\n",
    "    list_of_uvit.append(f)\n",
    "\n",
    "\n",
    "\n",
    "#sunsetTime\n",
    "list_of_sst = []\n",
    "for g in data.iloc[:,-13]:\n",
    "    h = datetime.fromtimestamp(g).strftime('%d-%m-%y %H:%M')\n",
    "    list_of_sst.append(h)\n",
    "\n",
    "\n",
    "#sunriseTime\n",
    "list_of_srt = []\n",
    "for m in data.iloc[:,-14]:\n",
    "    n = datetime.fromtimestamp(m).strftime('%d-%m-%y %H:%M')\n",
    "    list_of_srt.append(n)\n",
    "\n",
    "\n",
    "#apparentTemperatureLowTime\n",
    "list_of_atlt = []\n",
    "for o in data.iloc[:,-23]:\n",
    "    p = datetime.fromtimestamp(o).strftime('%d-%m-%y %H:%M')\n",
    "    list_of_atlt.append(p)\n",
    "\n",
    "#apparentTemperatureHighTime\n",
    "list_of_atht = []\n",
    "for q in data.iloc[:,-25]:\n",
    "    r = datetime.fromtimestamp(q).strftime('%d-%m-%y %H:%M')\n",
    "    list_of_atht.append(r)\n",
    "\n",
    "\n",
    "#temperatureLowTime\n",
    "list_of_tlt = []\n",
    "for s in data.iloc[:,-27]:\n",
    "    t = datetime.fromtimestamp(s).strftime('%d-%m-%y %H:%M')\n",
    "    list_of_tlt.append(t)\n",
    "\n",
    "\n",
    "#temperatureHighTime\n",
    "list_of_tht = []\n",
    "for u in data.iloc[:,-29]:\n",
    "    v = datetime.fromtimestamp(u).strftime('%d-%m-%y %H:%M')\n",
    "    list_of_tht.append(v)\n",
    "\n",
    "#windGustTime\n",
    "list_of_wgt = []\n",
    "for w in data.iloc[:,-32]:\n",
    "    x = datetime.fromtimestamp(w).strftime('%d-%m-%y %H:%M')\n",
    "    list_of_wgt.append(x)    \n",
    "    \n",
    "data_times = pd.DataFrame({\"apparentTemperatureMaxTime\" : list_of_atmaxt, \n",
    "                           \"apparentTemperatureMinTime\" : list_of_atmint,\n",
    "                           \"temperatureMaxTime\" : list_of_tmaxt,\n",
    "                           \"temperatureMinTime\" : list_of_tmint, \n",
    "                           \"uvIndexTime\" : list_of_uvit, \n",
    "                           \"sunsetTime\" : list_of_sst, \n",
    "                           \"sunriseTime\" : list_of_srt,\n",
    "                           \"apparentTemperatureLowTime\" : list_of_atlt,\n",
    "                           \"apparentTemperatureHighTime\" : list_of_atht, \n",
    "                           \"temperatureLowTime\" : list_of_tlt, \n",
    "                           \"temperatureHighTime\" : list_of_tht,\n",
    "                           \"windGustTime\" : list_of_wgt})\n",
    "\n",
    "data_xxx = data.drop([\"apparentTemperatureMaxTime\",\n",
    "                      \"apparentTemperatureMinTime\",\n",
    "                      \"temperatureMaxTime\", \n",
    "                      \"temperatureMinTime\", \n",
    "                      \"uvIndexTime\", \n",
    "                      \"sunsetTime\", \n",
    "                      \"sunriseTime\", \n",
    "                      \"apparentTemperatureLowTime\", \n",
    "                      \"apparentTemperatureHighTime\", \n",
    "                      \"temperatureLowTime\", \n",
    "                      \"temperatureHighTime\", \n",
    "                      \"windGustTime\"], axis = 1)\n",
    "\n",
    "data1 = pd.concat([data_xxx, data_times], axis = 1)"
   ]
  },
  {
   "cell_type": "code",
   "execution_count": 21,
   "id": "f6960f41",
   "metadata": {},
   "outputs": [],
   "source": [
    "data1['apparentTemperatureMaxTime_'] = pd.to_datetime(data1.apparentTemperatureMaxTime, format='%d-%m-%y %H:%M')\n",
    "\n",
    "data1['apparentTemperatureMinTime_'] = pd.to_datetime(data1.apparentTemperatureMinTime, format='%d-%m-%y %H:%M')\n",
    "\n",
    "data1['temperatureMaxTime_'] = pd.to_datetime(data1.temperatureMaxTime, format='%d-%m-%y %H:%M')\n",
    "\n",
    "data1['temperatureMinTime_'] = pd.to_datetime(data1.temperatureMinTime, format='%d-%m-%y %H:%M')\n",
    "\n",
    "data1['uvIndexTime_'] = pd.to_datetime(data1.uvIndexTime, format='%d-%m-%y %H:%M')\n",
    "\n",
    "data1['sunsetTime_'] = pd.to_datetime(data1.sunsetTime, format='%d-%m-%y %H:%M')\n",
    "\n",
    "data1['sunriseTime_'] = pd.to_datetime(data1.sunriseTime, format='%d-%m-%y %H:%M')\n",
    "\n",
    "data1['apparentTemperatureLowTime_'] = pd.to_datetime(data1.apparentTemperatureLowTime, format='%d-%m-%y %H:%M')\n",
    "\n",
    "data1['apparentTemperatureHighTime_'] = pd.to_datetime(data1.apparentTemperatureHighTime, format='%d-%m-%y %H:%M')\n",
    "\n",
    "data1['temperatureLowTime_'] = pd.to_datetime(data1.temperatureLowTime, format='%d-%m-%y %H:%M')\n",
    "\n",
    "data1['temperatureHighTime_'] = pd.to_datetime(data1.temperatureHighTime, format='%d-%m-%y %H:%M')\n",
    "\n",
    "data1['windGustTime_'] = pd.to_datetime(data1.windGustTime, format='%d-%m-%y %H:%M')"
   ]
  },
  {
   "cell_type": "code",
   "execution_count": 22,
   "id": "6c479446",
   "metadata": {},
   "outputs": [],
   "source": [
    "data1[\"atmaxt_month\"] = data1[\"apparentTemperatureMaxTime_\"].dt.month"
   ]
  },
  {
   "cell_type": "code",
   "execution_count": 23,
   "id": "c47f86fc",
   "metadata": {},
   "outputs": [],
   "source": [
    "#apparentTemperatureMaxTime\n",
    "data1[\"atmaxt_day\"] = data1[\"apparentTemperatureMaxTime_\"].dt.day\n",
    "data1[\"atmaxt_hour\"] = data1[\"apparentTemperatureMaxTime_\"].dt.hour\n",
    "data1[\"atmaxt_minute\"] = data1[\"apparentTemperatureMaxTime_\"].dt.minute\n",
    "\n",
    "#apparentTemperatureMinTime\n",
    "data1[\"atmint_month\"] = data1[\"apparentTemperatureMinTime_\"].dt.month\n",
    "data1[\"atmint_day\"] = data1[\"apparentTemperatureMinTime_\"].dt.day\n",
    "data1[\"atmint_hour\"] = data1[\"apparentTemperatureMinTime_\"].dt.hour\n",
    "data1[\"atmint_minute\"] = data1[\"apparentTemperatureMinTime_\"].dt.minute\n",
    "\n",
    "#temperatureMaxTime\n",
    "data1[\"tmaxt_month\"] = data1[\"temperatureMaxTime_\"].dt.month\n",
    "data1[\"tmaxt_day\"] = data1[\"temperatureMaxTime_\"].dt.day\n",
    "data1[\"tmaxt_hour\"] = data1[\"temperatureMaxTime_\"].dt.hour\n",
    "data1[\"tmaxt_minute\"] = data1[\"temperatureMaxTime_\"].dt.minute\n",
    "\n",
    "#temperatureMinTime\n",
    "data1[\"tmint_month\"] = data1[\"temperatureMinTime_\"].dt.month\n",
    "data1[\"tmint_day\"] = data1[\"temperatureMinTime_\"].dt.day\n",
    "data1[\"tmint_hour\"] = data1[\"temperatureMinTime_\"].dt.hour\n",
    "data1[\"tmint_minute\"] = data1[\"temperatureMinTime_\"].dt.minute\n",
    "\n",
    "#uvIndexTime\n",
    "data1[\"uvit_month\"] = data1[\"uvIndexTime_\"].dt.month\n",
    "data1[\"uvit_day\"] = data1[\"uvIndexTime_\"].dt.day\n",
    "data1[\"uvit_hour\"] = data1[\"uvIndexTime_\"].dt.hour\n",
    "data1[\"uvit_minute\"] = data1[\"uvIndexTime_\"].dt.minute\n",
    "\n",
    "#sunsetTime\n",
    "data1[\"sst_month\"] = data1[\"sunsetTime_\"].dt.month\n",
    "data1[\"sst_day\"] = data1[\"sunsetTime_\"].dt.day\n",
    "data1[\"sst_hour\"] = data1[\"sunsetTime_\"].dt.hour\n",
    "data1[\"sst_minute\"] = data1[\"sunsetTime_\"].dt.minute\n",
    "\n",
    "#sunriseTime\n",
    "data1[\"srt_month\"] = data1[\"sunriseTime_\"].dt.month\n",
    "data1[\"srt_day\"] = data1[\"sunriseTime_\"].dt.day\n",
    "data1[\"srt_hour\"] = data1[\"sunriseTime_\"].dt.hour\n",
    "data1[\"srt_minute\"] = data1[\"sunriseTime_\"].dt.minute\n",
    "\n",
    "#apparentTemperatureLowTime\n",
    "data1[\"atlt_month\"] = data1[\"apparentTemperatureLowTime_\"].dt.month\n",
    "data1[\"atlt_day\"] = data1[\"apparentTemperatureLowTime_\"].dt.day\n",
    "data1[\"atlt_hour\"] = data1[\"apparentTemperatureLowTime_\"].dt.hour\n",
    "data1[\"atlt_minute\"] = data1[\"apparentTemperatureLowTime_\"].dt.minute\n",
    "\n",
    "#apparentTemperatureHighTime\n",
    "data1[\"atht_month\"] = data1[\"apparentTemperatureHighTime_\"].dt.month\n",
    "data1[\"atht_day\"] = data1[\"apparentTemperatureHighTime_\"].dt.day\n",
    "data1[\"atht_hour\"] = data1[\"apparentTemperatureHighTime_\"].dt.hour\n",
    "data1[\"atht_minute\"] = data1[\"apparentTemperatureHighTime_\"].dt.minute\n",
    "\n",
    "#temperatureLowTime\n",
    "data1[\"tlt_month\"] = data1[\"temperatureLowTime_\"].dt.month\n",
    "data1[\"tlt_day\"] = data1[\"temperatureLowTime_\"].dt.day\n",
    "data1[\"tlt_hour\"] = data1[\"temperatureLowTime_\"].dt.hour\n",
    "data1[\"tlt_minute\"] = data1[\"temperatureLowTime_\"].dt.minute\n",
    "\n",
    "#temperatureHighTime\n",
    "data1[\"tht_month\"] = data1[\"temperatureHighTime_\"].dt.month\n",
    "data1[\"tht_day\"] = data1[\"temperatureHighTime_\"].dt.day\n",
    "data1[\"tht_hour\"] = data1[\"temperatureHighTime_\"].dt.hour\n",
    "data1[\"tht_minute\"] = data1[\"temperatureHighTime_\"].dt.minute\n",
    "\n",
    "#WindGustTime\n",
    "data1[\"wgt_month\"] = data1[\"windGustTime_\"].dt.month\n",
    "data1[\"wgt_day\"] = data1[\"windGustTime_\"].dt.day\n",
    "data1[\"wgt_hour\"] = data1[\"windGustTime_\"].dt.hour\n",
    "data1[\"wgt_minute\"] = data1[\"windGustTime_\"].dt.minute\n"
   ]
  },
  {
   "cell_type": "code",
   "execution_count": 24,
   "id": "4d5f5a38",
   "metadata": {},
   "outputs": [],
   "source": [
    "data1 = data1.drop([\"apparentTemperatureMaxTime\",\n",
    "                      \"apparentTemperatureMinTime\",\n",
    "                      \"temperatureMaxTime\", \n",
    "                      \"temperatureMinTime\", \n",
    "                      \"uvIndexTime\", \n",
    "                      \"sunsetTime\", \n",
    "                      \"sunriseTime\", \n",
    "                      \"apparentTemperatureLowTime\", \n",
    "                      \"apparentTemperatureHighTime\", \n",
    "                      \"temperatureLowTime\", \n",
    "                      \"temperatureHighTime\",\n",
    "                      \"apparentTemperatureMaxTime_\",\n",
    "                      \"apparentTemperatureMinTime_\",\n",
    "                      \"temperatureMaxTime_\", \n",
    "                      \"temperatureMinTime_\", \n",
    "                      \"uvIndexTime_\", \n",
    "                      \"sunsetTime_\", \n",
    "                      \"sunriseTime_\", \n",
    "                      \"apparentTemperatureLowTime_\", \n",
    "                      \"apparentTemperatureHighTime_\", \n",
    "                      \"temperatureLowTime_\", \n",
    "                      \"temperatureHighTime_\", \n",
    "                      \"windGustTime_\"], axis = 1)"
   ]
  },
  {
   "cell_type": "code",
   "execution_count": 25,
   "id": "35a81504",
   "metadata": {},
   "outputs": [],
   "source": [
    "data1['temperatureMean'] = (data1['temperatureMax'] + data1['temperatureMin']) / 2\n",
    "\n",
    "data1['apparentTemperatureMean'] = (data1['apparentTemperatureMax'] + data1['apparentTemperatureMin']) / 2"
   ]
  },
  {
   "cell_type": "code",
   "execution_count": 26,
   "id": "32c80d08",
   "metadata": {},
   "outputs": [
    {
     "data": {
      "text/plain": [
       "Index(['minute', 'hour', 'day', 'month', 'source', 'destination', 'name',\n",
       "       'distance', 'latitude', 'longitude', 'temperature',\n",
       "       'apparentTemperature', 'short_summary', 'long_summary',\n",
       "       'precipIntensity', 'precipProbability', 'humidity', 'windSpeed',\n",
       "       'windGust', 'visibility', 'temperatureHigh', 'temperatureLow',\n",
       "       'apparentTemperatureHigh', 'apparentTemperatureLow', 'icon', 'dewPoint',\n",
       "       'pressure', 'windBearing', 'cloudCover', 'uvIndex', 'visibility.1',\n",
       "       'ozone', 'moonPhase', 'precipIntensityMax', 'temperatureMin',\n",
       "       'temperatureMax', 'apparentTemperatureMin', 'apparentTemperatureMax',\n",
       "       'price', 'windGustTime', 'atmaxt_month', 'atmaxt_day', 'atmaxt_hour',\n",
       "       'atmaxt_minute', 'atmint_month', 'atmint_day', 'atmint_hour',\n",
       "       'atmint_minute', 'tmaxt_month', 'tmaxt_day', 'tmaxt_hour',\n",
       "       'tmaxt_minute', 'tmint_month', 'tmint_day', 'tmint_hour',\n",
       "       'tmint_minute', 'uvit_month', 'uvit_day', 'uvit_hour', 'uvit_minute',\n",
       "       'sst_month', 'sst_day', 'sst_hour', 'sst_minute', 'srt_month',\n",
       "       'srt_day', 'srt_hour', 'srt_minute', 'atlt_month', 'atlt_day',\n",
       "       'atlt_hour', 'atlt_minute', 'atht_month', 'atht_day', 'atht_hour',\n",
       "       'atht_minute', 'tlt_month', 'tlt_day', 'tlt_hour', 'tlt_minute',\n",
       "       'tht_month', 'tht_day', 'tht_hour', 'tht_minute', 'wgt_month',\n",
       "       'wgt_day', 'wgt_hour', 'wgt_minute', 'temperatureMean',\n",
       "       'apparentTemperatureMean'],\n",
       "      dtype='object')"
      ]
     },
     "execution_count": 26,
     "metadata": {},
     "output_type": "execute_result"
    }
   ],
   "source": [
    "data1.columns"
   ]
  },
  {
   "cell_type": "markdown",
   "id": "ce1ae862",
   "metadata": {},
   "source": [
    "##### Convert Latitude and Longtitude to cartesian (x, y, z) Scale"
   ]
  },
  {
   "cell_type": "code",
   "execution_count": 27,
   "id": "c5db771e",
   "metadata": {},
   "outputs": [],
   "source": [
    "# Define function of Converting lat/long to cartesian\n",
    "\n",
    "def get_cartesian(lat,long):\n",
    "    \n",
    "    lat, long = np.deg2rad(lat), np.deg2rad(long)\n",
    "    \n",
    "    R = 6371           # radius of the earth\n",
    "    \n",
    "    x = R * np.cos(lat) * np.cos(long)\n",
    "    y = R * np.cos(lat) * np.sin(long)\n",
    "    z = R * np.sin(lat)\n",
    "    \n",
    "    return x,y,z"
   ]
  },
  {
   "cell_type": "code",
   "execution_count": 28,
   "id": "a85500b1",
   "metadata": {},
   "outputs": [],
   "source": [
    "x,y,z = get_cartesian(data1.iloc[:,8].values,data1.iloc[:,9].values)"
   ]
  },
  {
   "cell_type": "code",
   "execution_count": 29,
   "id": "44f5457b",
   "metadata": {},
   "outputs": [],
   "source": [
    "df_x = pd.DataFrame(x, columns = [\"X\"])\n",
    "df_y = pd.DataFrame(y, columns = [\"Y\"])\n",
    "df_z = pd.DataFrame(z, columns = [\"Z\"])"
   ]
  },
  {
   "cell_type": "code",
   "execution_count": 30,
   "id": "c72ac314",
   "metadata": {},
   "outputs": [],
   "source": [
    "data1_xxxx = data1.drop(['latitude', 'longitude'], axis = 1)"
   ]
  },
  {
   "cell_type": "code",
   "execution_count": 31,
   "id": "85397005",
   "metadata": {},
   "outputs": [],
   "source": [
    "data2 = pd.concat([data1_xxxx, df_x, df_y, df_z], axis = 1)"
   ]
  },
  {
   "cell_type": "code",
   "execution_count": 32,
   "id": "0cd01dff",
   "metadata": {},
   "outputs": [
    {
     "data": {
      "text/plain": [
       "Index(['minute', 'hour', 'day', 'month', 'source', 'destination', 'name',\n",
       "       'distance', 'temperature', 'apparentTemperature', 'short_summary',\n",
       "       'long_summary', 'precipIntensity', 'precipProbability', 'humidity',\n",
       "       'windSpeed', 'windGust', 'visibility', 'temperatureHigh',\n",
       "       'temperatureLow', 'apparentTemperatureHigh', 'apparentTemperatureLow',\n",
       "       'icon', 'dewPoint', 'pressure', 'windBearing', 'cloudCover', 'uvIndex',\n",
       "       'visibility.1', 'ozone', 'moonPhase', 'precipIntensityMax',\n",
       "       'temperatureMin', 'temperatureMax', 'apparentTemperatureMin',\n",
       "       'apparentTemperatureMax', 'price', 'windGustTime', 'atmaxt_month',\n",
       "       'atmaxt_day', 'atmaxt_hour', 'atmaxt_minute', 'atmint_month',\n",
       "       'atmint_day', 'atmint_hour', 'atmint_minute', 'tmaxt_month',\n",
       "       'tmaxt_day', 'tmaxt_hour', 'tmaxt_minute', 'tmint_month', 'tmint_day',\n",
       "       'tmint_hour', 'tmint_minute', 'uvit_month', 'uvit_day', 'uvit_hour',\n",
       "       'uvit_minute', 'sst_month', 'sst_day', 'sst_hour', 'sst_minute',\n",
       "       'srt_month', 'srt_day', 'srt_hour', 'srt_minute', 'atlt_month',\n",
       "       'atlt_day', 'atlt_hour', 'atlt_minute', 'atht_month', 'atht_day',\n",
       "       'atht_hour', 'atht_minute', 'tlt_month', 'tlt_day', 'tlt_hour',\n",
       "       'tlt_minute', 'tht_month', 'tht_day', 'tht_hour', 'tht_minute',\n",
       "       'wgt_month', 'wgt_day', 'wgt_hour', 'wgt_minute', 'temperatureMean',\n",
       "       'apparentTemperatureMean', 'X', 'Y', 'Z'],\n",
       "      dtype='object')"
      ]
     },
     "execution_count": 32,
     "metadata": {},
     "output_type": "execute_result"
    }
   ],
   "source": [
    "data2.columns"
   ]
  },
  {
   "cell_type": "code",
   "execution_count": 33,
   "id": "89aff258",
   "metadata": {},
   "outputs": [
    {
     "data": {
      "text/plain": [
       "(385663, 91)"
      ]
     },
     "execution_count": 33,
     "metadata": {},
     "output_type": "execute_result"
    }
   ],
   "source": [
    "data2.shape"
   ]
  },
  {
   "cell_type": "code",
   "execution_count": 34,
   "id": "9f1d1d26",
   "metadata": {},
   "outputs": [
    {
     "data": {
      "text/plain": [
       "Financial District         32620\n",
       "Theatre District           32283\n",
       "Boston University          32144\n",
       "North End                  32143\n",
       "Northeastern University    32142\n",
       "Back Bay                   32137\n",
       "Fenway                     32137\n",
       "South Station              32130\n",
       "Haymarket Square           32122\n",
       "West End                   32074\n",
       "Beacon Hill                31939\n",
       "North Station              31792\n",
       "Name: source, dtype: int64"
      ]
     },
     "execution_count": 34,
     "metadata": {},
     "output_type": "execute_result"
    }
   ],
   "source": [
    "data2.source.value_counts()"
   ]
  },
  {
   "cell_type": "code",
   "execution_count": 35,
   "id": "37f330b9",
   "metadata": {},
   "outputs": [
    {
     "data": {
      "text/plain": [
       "Financial District         32613\n",
       "Theatre District           32262\n",
       "Haymarket Square           32151\n",
       "Boston University          32150\n",
       "North End                  32142\n",
       "Fenway                     32137\n",
       "Northeastern University    32136\n",
       "Back Bay                   32130\n",
       "South Station              32129\n",
       "West End                   32081\n",
       "Beacon Hill                31939\n",
       "North Station              31793\n",
       "Name: destination, dtype: int64"
      ]
     },
     "execution_count": 35,
     "metadata": {},
     "output_type": "execute_result"
    }
   ],
   "source": [
    "data2.destination.value_counts()"
   ]
  },
  {
   "cell_type": "code",
   "execution_count": 36,
   "id": "99c7c781",
   "metadata": {},
   "outputs": [
    {
     "data": {
      "text/plain": [
       "8     13575\n",
       "5     13853\n",
       "7     13912\n",
       "20    15067\n",
       "19    15094\n",
       "21    15252\n",
       "6     15401\n",
       "3     15591\n",
       "4     15828\n",
       "1     15879\n",
       "2     16000\n",
       "9     16023\n",
       "22    16189\n",
       "17    16531\n",
       "12    16751\n",
       "13    16881\n",
       "18    16980\n",
       "15    16989\n",
       "11    17012\n",
       "16    17035\n",
       "10    17059\n",
       "14    17078\n",
       "0     17756\n",
       "23    17927\n",
       "Name: hour, dtype: int64"
      ]
     },
     "execution_count": 36,
     "metadata": {},
     "output_type": "execute_result"
    }
   ],
   "source": [
    "data2.hour.value_counts(ascending = True)"
   ]
  },
  {
   "cell_type": "markdown",
   "id": "541b3a21",
   "metadata": {},
   "source": [
    "# MAKING SHIFTS"
   ]
  },
  {
   "cell_type": "code",
   "execution_count": 37,
   "id": "a3cac62b",
   "metadata": {},
   "outputs": [],
   "source": [
    "data2 = data2[(data2[\"hour\"] != 11) & (data2[\"hour\"] < 20) & (data2[\"hour\"] >= 6)]"
   ]
  },
  {
   "cell_type": "code",
   "execution_count": 38,
   "id": "da1796b8",
   "metadata": {},
   "outputs": [
    {
     "data": {
      "text/plain": [
       "14    17078\n",
       "10    17059\n",
       "16    17035\n",
       "15    16989\n",
       "18    16980\n",
       "13    16881\n",
       "12    16751\n",
       "17    16531\n",
       "9     16023\n",
       "6     15401\n",
       "19    15094\n",
       "7     13912\n",
       "8     13575\n",
       "Name: hour, dtype: int64"
      ]
     },
     "execution_count": 38,
     "metadata": {},
     "output_type": "execute_result"
    }
   ],
   "source": [
    "data2.hour.value_counts()"
   ]
  },
  {
   "cell_type": "code",
   "execution_count": 39,
   "id": "49cc2b7a",
   "metadata": {},
   "outputs": [
    {
     "data": {
      "text/plain": [
       "Index(['minute', 'hour', 'day', 'month', 'source', 'destination', 'name',\n",
       "       'distance', 'temperature', 'apparentTemperature', 'short_summary',\n",
       "       'long_summary', 'precipIntensity', 'precipProbability', 'humidity',\n",
       "       'windSpeed', 'windGust', 'visibility', 'temperatureHigh',\n",
       "       'temperatureLow', 'apparentTemperatureHigh', 'apparentTemperatureLow',\n",
       "       'icon', 'dewPoint', 'pressure', 'windBearing', 'cloudCover', 'uvIndex',\n",
       "       'visibility.1', 'ozone', 'moonPhase', 'precipIntensityMax',\n",
       "       'temperatureMin', 'temperatureMax', 'apparentTemperatureMin',\n",
       "       'apparentTemperatureMax', 'price', 'windGustTime', 'atmaxt_month',\n",
       "       'atmaxt_day', 'atmaxt_hour', 'atmaxt_minute', 'atmint_month',\n",
       "       'atmint_day', 'atmint_hour', 'atmint_minute', 'tmaxt_month',\n",
       "       'tmaxt_day', 'tmaxt_hour', 'tmaxt_minute', 'tmint_month', 'tmint_day',\n",
       "       'tmint_hour', 'tmint_minute', 'uvit_month', 'uvit_day', 'uvit_hour',\n",
       "       'uvit_minute', 'sst_month', 'sst_day', 'sst_hour', 'sst_minute',\n",
       "       'srt_month', 'srt_day', 'srt_hour', 'srt_minute', 'atlt_month',\n",
       "       'atlt_day', 'atlt_hour', 'atlt_minute', 'atht_month', 'atht_day',\n",
       "       'atht_hour', 'atht_minute', 'tlt_month', 'tlt_day', 'tlt_hour',\n",
       "       'tlt_minute', 'tht_month', 'tht_day', 'tht_hour', 'tht_minute',\n",
       "       'wgt_month', 'wgt_day', 'wgt_hour', 'wgt_minute', 'temperatureMean',\n",
       "       'apparentTemperatureMean', 'X', 'Y', 'Z'],\n",
       "      dtype='object')"
      ]
     },
     "execution_count": 39,
     "metadata": {},
     "output_type": "execute_result"
    }
   ],
   "source": [
    "data2.columns"
   ]
  },
  {
   "cell_type": "code",
   "execution_count": 40,
   "id": "a21e9474",
   "metadata": {},
   "outputs": [],
   "source": [
    "shifts = [6, 10, 12, 14, 15, 19]\n",
    "\n",
    "morning_trips = data2[(data2['hour'] >= shifts[0]) &\n",
    "                               (data2['hour'] < shifts[1])]\n",
    "noon_trips = data2[(data2['hour'] >= shifts[2]) &\n",
    "                           (data2['hour'] < shifts[3])]\n",
    "afterrnoon_trips = data2[(data2['hour'] >= shifts[4]) &\n",
    "                             (data2['hour'] < shifts[5])]\n",
    "\n",
    "data3 = pd.concat([morning_trips, noon_trips, afterrnoon_trips], axis = 0).reset_index().drop(\"index\", axis = 1)\n",
    "\n",
    "\n",
    "data4 = data3.assign(time_cat_rush = pd.cut(data3[\"hour\"], bins = [6,11,15,20], labels = [\"morning\", \"noon\", \"afternoon\"]))"
   ]
  },
  {
   "cell_type": "code",
   "execution_count": 41,
   "id": "01a7a719",
   "metadata": {},
   "outputs": [],
   "source": [
    "data4[\"time_cat_rush\"] = data4[\"time_cat_rush\"].astype(\"object\")"
   ]
  },
  {
   "cell_type": "code",
   "execution_count": 42,
   "id": "7f0c55fc",
   "metadata": {},
   "outputs": [
    {
     "data": {
      "text/plain": [
       "(160078, 92)"
      ]
     },
     "execution_count": 42,
     "metadata": {},
     "output_type": "execute_result"
    }
   ],
   "source": [
    "data4.shape"
   ]
  },
  {
   "cell_type": "markdown",
   "id": "f5caa6fc",
   "metadata": {},
   "source": [
    "### Handle Categorical Data"
   ]
  },
  {
   "cell_type": "code",
   "execution_count": 43,
   "id": "35e7d212",
   "metadata": {},
   "outputs": [
    {
     "data": {
      "text/plain": [
       "minute                       int64\n",
       "hour                         int64\n",
       "day                          int64\n",
       "month                        int64\n",
       "source                      object\n",
       "destination                 object\n",
       "name                        object\n",
       "distance                   float64\n",
       "temperature                float64\n",
       "apparentTemperature        float64\n",
       "short_summary               object\n",
       "long_summary                object\n",
       "precipIntensity            float64\n",
       "precipProbability          float64\n",
       "humidity                   float64\n",
       "windSpeed                  float64\n",
       "windGust                   float64\n",
       "visibility                 float64\n",
       "temperatureHigh            float64\n",
       "temperatureLow             float64\n",
       "apparentTemperatureHigh    float64\n",
       "apparentTemperatureLow     float64\n",
       "icon                        object\n",
       "dewPoint                   float64\n",
       "pressure                   float64\n",
       "windBearing                  int64\n",
       "cloudCover                 float64\n",
       "uvIndex                      int64\n",
       "visibility.1               float64\n",
       "ozone                      float64\n",
       "moonPhase                  float64\n",
       "precipIntensityMax         float64\n",
       "temperatureMin             float64\n",
       "temperatureMax             float64\n",
       "apparentTemperatureMin     float64\n",
       "apparentTemperatureMax     float64\n",
       "price                      float64\n",
       "windGustTime                object\n",
       "atmaxt_month                 int64\n",
       "atmaxt_day                   int64\n",
       "atmaxt_hour                  int64\n",
       "atmaxt_minute                int64\n",
       "atmint_month                 int64\n",
       "atmint_day                   int64\n",
       "atmint_hour                  int64\n",
       "atmint_minute                int64\n",
       "tmaxt_month                  int64\n",
       "tmaxt_day                    int64\n",
       "tmaxt_hour                   int64\n",
       "tmaxt_minute                 int64\n",
       "tmint_month                  int64\n",
       "dtype: object"
      ]
     },
     "execution_count": 43,
     "metadata": {},
     "output_type": "execute_result"
    }
   ],
   "source": [
    "data4.iloc[:,0:51].dtypes"
   ]
  },
  {
   "cell_type": "code",
   "execution_count": 44,
   "id": "ed57dcac",
   "metadata": {},
   "outputs": [
    {
     "data": {
      "text/plain": [
       "tmint_day                    int64\n",
       "tmint_hour                   int64\n",
       "tmint_minute                 int64\n",
       "uvit_month                   int64\n",
       "uvit_day                     int64\n",
       "uvit_hour                    int64\n",
       "uvit_minute                  int64\n",
       "sst_month                    int64\n",
       "sst_day                      int64\n",
       "sst_hour                     int64\n",
       "sst_minute                   int64\n",
       "srt_month                    int64\n",
       "srt_day                      int64\n",
       "srt_hour                     int64\n",
       "srt_minute                   int64\n",
       "atlt_month                   int64\n",
       "atlt_day                     int64\n",
       "atlt_hour                    int64\n",
       "atlt_minute                  int64\n",
       "atht_month                   int64\n",
       "atht_day                     int64\n",
       "atht_hour                    int64\n",
       "atht_minute                  int64\n",
       "tlt_month                    int64\n",
       "tlt_day                      int64\n",
       "tlt_hour                     int64\n",
       "tlt_minute                   int64\n",
       "tht_month                    int64\n",
       "tht_day                      int64\n",
       "tht_hour                     int64\n",
       "tht_minute                   int64\n",
       "wgt_month                    int64\n",
       "wgt_day                      int64\n",
       "wgt_hour                     int64\n",
       "wgt_minute                   int64\n",
       "temperatureMean            float64\n",
       "apparentTemperatureMean    float64\n",
       "X                          float64\n",
       "Y                          float64\n",
       "Z                          float64\n",
       "time_cat_rush               object\n",
       "dtype: object"
      ]
     },
     "execution_count": 44,
     "metadata": {},
     "output_type": "execute_result"
    }
   ],
   "source": [
    "data4.iloc[:,51:92].dtypes"
   ]
  },
  {
   "cell_type": "code",
   "execution_count": 45,
   "id": "46c682c0",
   "metadata": {},
   "outputs": [],
   "source": [
    "data5_1 = data4.drop([\"source\", \"destination\", \"short_summary\", \"long_summary\", \"windGustTime\"], axis = 1)\n",
    "data5 = pd.get_dummies(data5_1)"
   ]
  },
  {
   "cell_type": "markdown",
   "id": "1cf908fd",
   "metadata": {},
   "source": [
    "### Handle Missing Values"
   ]
  },
  {
   "cell_type": "code",
   "execution_count": 46,
   "id": "c7054a05",
   "metadata": {},
   "outputs": [
    {
     "data": {
      "text/plain": [
       "minute                         0\n",
       "hour                           0\n",
       "day                            0\n",
       "month                          0\n",
       "distance                       0\n",
       "temperature                    0\n",
       "apparentTemperature            0\n",
       "precipIntensity                0\n",
       "precipProbability              0\n",
       "humidity                       0\n",
       "windSpeed                      0\n",
       "windGust                       0\n",
       "visibility                     0\n",
       "temperatureHigh                0\n",
       "temperatureLow                 0\n",
       "apparentTemperatureHigh        0\n",
       "apparentTemperatureLow         0\n",
       "dewPoint                       0\n",
       "pressure                       0\n",
       "windBearing                    0\n",
       "cloudCover                     0\n",
       "uvIndex                        0\n",
       "visibility.1                   0\n",
       "ozone                          0\n",
       "moonPhase                      0\n",
       "precipIntensityMax             0\n",
       "temperatureMin                 0\n",
       "temperatureMax                 0\n",
       "apparentTemperatureMin         0\n",
       "apparentTemperatureMax         0\n",
       "price                      22867\n",
       "atmaxt_month                   0\n",
       "atmaxt_day                     0\n",
       "atmaxt_hour                    0\n",
       "atmaxt_minute                  0\n",
       "atmint_month                   0\n",
       "atmint_day                     0\n",
       "atmint_hour                    0\n",
       "atmint_minute                  0\n",
       "tmaxt_month                    0\n",
       "tmaxt_day                      0\n",
       "tmaxt_hour                     0\n",
       "tmaxt_minute                   0\n",
       "tmint_month                    0\n",
       "tmint_day                      0\n",
       "tmint_hour                     0\n",
       "tmint_minute                   0\n",
       "uvit_month                     0\n",
       "uvit_day                       0\n",
       "uvit_hour                      0\n",
       "uvit_minute                    0\n",
       "dtype: int64"
      ]
     },
     "execution_count": 46,
     "metadata": {},
     "output_type": "execute_result"
    }
   ],
   "source": [
    "data5.iloc[:,0:51].isnull().sum()"
   ]
  },
  {
   "cell_type": "code",
   "execution_count": 47,
   "id": "0de846ee",
   "metadata": {},
   "outputs": [
    {
     "data": {
      "text/plain": [
       "sst_month                     0\n",
       "sst_day                       0\n",
       "sst_hour                      0\n",
       "sst_minute                    0\n",
       "srt_month                     0\n",
       "srt_day                       0\n",
       "srt_hour                      0\n",
       "srt_minute                    0\n",
       "atlt_month                    0\n",
       "atlt_day                      0\n",
       "atlt_hour                     0\n",
       "atlt_minute                   0\n",
       "atht_month                    0\n",
       "atht_day                      0\n",
       "atht_hour                     0\n",
       "atht_minute                   0\n",
       "tlt_month                     0\n",
       "tlt_day                       0\n",
       "tlt_hour                      0\n",
       "tlt_minute                    0\n",
       "tht_month                     0\n",
       "tht_day                       0\n",
       "tht_hour                      0\n",
       "tht_minute                    0\n",
       "wgt_month                     0\n",
       "wgt_day                       0\n",
       "wgt_hour                      0\n",
       "wgt_minute                    0\n",
       "temperatureMean               0\n",
       "apparentTemperatureMean       0\n",
       "X                             0\n",
       "Y                             0\n",
       "Z                             0\n",
       "name_Black                    0\n",
       "name_Black SUV                0\n",
       "name_Taxi                     0\n",
       "name_UberPool                 0\n",
       "name_UberX                    0\n",
       "name_UberXL                   0\n",
       "name_WAV                      0\n",
       "icon_ clear-day               0\n",
       "icon_ clear-night             0\n",
       "icon_ cloudy                  0\n",
       "icon_ fog                     0\n",
       "icon_ partly-cloudy-day       0\n",
       "icon_ partly-cloudy-night     0\n",
       "icon_ rain                    0\n",
       "time_cat_rush_afternoon       0\n",
       "time_cat_rush_morning         0\n",
       "time_cat_rush_noon            0\n",
       "dtype: int64"
      ]
     },
     "execution_count": 47,
     "metadata": {},
     "output_type": "execute_result"
    }
   ],
   "source": [
    "data5.iloc[:,51:].isnull().sum()"
   ]
  },
  {
   "cell_type": "code",
   "execution_count": 48,
   "id": "6b59a8a4",
   "metadata": {},
   "outputs": [],
   "source": [
    "data6 = data5.dropna().reset_index().drop([\"index\", \"visibility.1\"], axis = 1)"
   ]
  },
  {
   "cell_type": "markdown",
   "id": "d6424bfd",
   "metadata": {},
   "source": [
    "### Handle Outliers"
   ]
  },
  {
   "cell_type": "code",
   "execution_count": 49,
   "id": "30b61c0a",
   "metadata": {},
   "outputs": [
    {
     "data": {
      "text/plain": [
       "<AxesSubplot:>"
      ]
     },
     "execution_count": 49,
     "metadata": {},
     "output_type": "execute_result"
    },
    {
     "data": {
      "image/png": "[encoded data removed]",
      "text/plain": [
       "<Figure size 1800x864 with 1 Axes>"
      ]
     },
     "metadata": {
      "needs_background": "light"
     },
     "output_type": "display_data"
    }
   ],
   "source": [
    "fig = plt.figure(figsize = (25,12))\n",
    "data6.iloc[:,[4,5,6,10,11,12,13,14,15,16,17,-18,-19]].boxplot()"
   ]
  },
  {
   "cell_type": "code",
   "execution_count": 50,
   "id": "7b144a20",
   "metadata": {},
   "outputs": [
    {
     "data": {
      "text/plain": [
       "<AxesSubplot:>"
      ]
     },
     "execution_count": 50,
     "metadata": {},
     "output_type": "execute_result"
    },
    {
     "data": {
      "image/png": "[encoded data removed]",
      "text/plain": [
       "<Figure size 1440x576 with 1 Axes>"
      ]
     },
     "metadata": {
      "needs_background": "light"
     },
     "output_type": "display_data"
    }
   ],
   "source": [
    "fig = plt.figure(figsize = (20,8))\n",
    "data6.iloc[:,[18,19,22]].boxplot()"
   ]
  },
  {
   "cell_type": "code",
   "execution_count": 51,
   "id": "8b7dd695",
   "metadata": {},
   "outputs": [
    {
     "data": {
      "text/plain": [
       "<AxesSubplot:>"
      ]
     },
     "execution_count": 51,
     "metadata": {},
     "output_type": "execute_result"
    },
    {
     "data": {
      "image/png": "[encoded data removed]",
      "text/plain": [
       "<Figure size 1440x864 with 1 Axes>"
      ]
     },
     "metadata": {
      "needs_background": "light"
     },
     "output_type": "display_data"
    }
   ],
   "source": [
    "fig = plt.figure(figsize = (20,12))\n",
    "data6.iloc[:,[9,20,23]].boxplot()"
   ]
  },
  {
   "cell_type": "code",
   "execution_count": 52,
   "id": "d2dc7bae",
   "metadata": {},
   "outputs": [
    {
     "data": {
      "text/plain": [
       "<AxesSubplot:>"
      ]
     },
     "execution_count": 52,
     "metadata": {},
     "output_type": "execute_result"
    },
    {
     "data": {
      "image/png": "[encoded data removed]",
      "text/plain": [
       "<Figure size 576x576 with 1 Axes>"
      ]
     },
     "metadata": {
      "needs_background": "light"
     },
     "output_type": "display_data"
    }
   ],
   "source": [
    "fig = plt.figure(figsize = (8,8))\n",
    "data6.iloc[:,[7]].boxplot()"
   ]
  },
  {
   "cell_type": "markdown",
   "id": "0e26671c",
   "metadata": {},
   "source": [
    "### Handle Duplicate Data"
   ]
  },
  {
   "cell_type": "code",
   "execution_count": 53,
   "id": "dfb0e0e8",
   "metadata": {},
   "outputs": [
    {
     "data": {
      "text/plain": [
       "1375"
      ]
     },
     "execution_count": 53,
     "metadata": {},
     "output_type": "execute_result"
    }
   ],
   "source": [
    "data6.duplicated().sum()"
   ]
  },
  {
   "cell_type": "code",
   "execution_count": 54,
   "id": "9e88a603",
   "metadata": {},
   "outputs": [],
   "source": [
    "data7 = data6.drop_duplicates().reset_index().drop(\"index\", axis = 1)"
   ]
  },
  {
   "cell_type": "code",
   "execution_count": 55,
   "id": "c4d7771b",
   "metadata": {},
   "outputs": [
    {
     "data": {
      "text/plain": [
       "(135836, 100)"
      ]
     },
     "execution_count": 55,
     "metadata": {},
     "output_type": "execute_result"
    }
   ],
   "source": [
    "data7.shape"
   ]
  },
  {
   "cell_type": "code",
   "execution_count": 56,
   "id": "329327ec",
   "metadata": {},
   "outputs": [],
   "source": [
    "data7_1 = data7.drop(\"price\", axis = 1)\n",
    "data7_2 = data7.iloc[:,29]\n",
    "data8 = pd.concat([data7_1, data7_2], axis = 1)"
   ]
  },
  {
   "cell_type": "code",
   "execution_count": 57,
   "id": "61cd6bfc",
   "metadata": {},
   "outputs": [
    {
     "data": {
      "text/plain": [
       "Index(['minute', 'hour', 'day', 'month', 'distance', 'temperature',\n",
       "       'apparentTemperature', 'precipIntensity', 'precipProbability',\n",
       "       'humidity', 'windSpeed', 'windGust', 'visibility', 'temperatureHigh',\n",
       "       'temperatureLow', 'apparentTemperatureHigh', 'apparentTemperatureLow',\n",
       "       'dewPoint', 'pressure', 'windBearing', 'cloudCover', 'uvIndex', 'ozone',\n",
       "       'moonPhase', 'precipIntensityMax', 'temperatureMin', 'temperatureMax',\n",
       "       'apparentTemperatureMin', 'apparentTemperatureMax', 'atmaxt_month',\n",
       "       'atmaxt_day', 'atmaxt_hour', 'atmaxt_minute', 'atmint_month',\n",
       "       'atmint_day', 'atmint_hour', 'atmint_minute', 'tmaxt_month',\n",
       "       'tmaxt_day', 'tmaxt_hour', 'tmaxt_minute', 'tmint_month', 'tmint_day',\n",
       "       'tmint_hour', 'tmint_minute', 'uvit_month', 'uvit_day', 'uvit_hour',\n",
       "       'uvit_minute', 'sst_month', 'sst_day', 'sst_hour', 'sst_minute',\n",
       "       'srt_month', 'srt_day', 'srt_hour', 'srt_minute', 'atlt_month',\n",
       "       'atlt_day', 'atlt_hour', 'atlt_minute', 'atht_month', 'atht_day',\n",
       "       'atht_hour', 'atht_minute', 'tlt_month', 'tlt_day', 'tlt_hour',\n",
       "       'tlt_minute', 'tht_month', 'tht_day', 'tht_hour', 'tht_minute',\n",
       "       'wgt_month', 'wgt_day', 'wgt_hour', 'wgt_minute', 'temperatureMean',\n",
       "       'apparentTemperatureMean', 'X', 'Y', 'Z', 'name_Black',\n",
       "       'name_Black SUV', 'name_Taxi', 'name_UberPool', 'name_UberX',\n",
       "       'name_UberXL', 'name_WAV', 'icon_ clear-day ', 'icon_ clear-night ',\n",
       "       'icon_ cloudy ', 'icon_ fog ', 'icon_ partly-cloudy-day ',\n",
       "       'icon_ partly-cloudy-night ', 'icon_ rain ', 'time_cat_rush_afternoon',\n",
       "       'time_cat_rush_morning', 'time_cat_rush_noon', 'price'],\n",
       "      dtype='object')"
      ]
     },
     "execution_count": 57,
     "metadata": {},
     "output_type": "execute_result"
    }
   ],
   "source": [
    "data8.columns"
   ]
  },
  {
   "cell_type": "markdown",
   "id": "4cdbe86a",
   "metadata": {},
   "source": [
    "### Statistical Analysis"
   ]
  },
  {
   "cell_type": "code",
   "execution_count": 58,
   "id": "8ddc1868",
   "metadata": {},
   "outputs": [
    {
     "data": {
      "text/plain": [
       "<AxesSubplot:>"
      ]
     },
     "execution_count": 58,
     "metadata": {},
     "output_type": "execute_result"
    },
    {
     "data": {
      "image/png": "[encoded data removed]",
      "text/plain": [
       "<Figure size 1512x1512 with 2 Axes>"
      ]
     },
     "metadata": {
      "needs_background": "light"
     },
     "output_type": "display_data"
    }
   ],
   "source": [
    "fig = plt.figure(figsize = (21,21))\n",
    "sns.heatmap(data8.iloc[:,[i for i in range(5,27) if i != 8]].corr(), vmin = -1, vmax = 1, annot = True, cmap = \"plasma\")  #cmap = \"BuPu\""
   ]
  },
  {
   "cell_type": "code",
   "execution_count": 59,
   "id": "0a262246",
   "metadata": {},
   "outputs": [
    {
     "data": {
      "text/html": [
       "<div>\n",
       "<style scoped>\n",
       "    .dataframe tbody tr th:only-of-type {\n",
       "        vertical-align: middle;\n",
       "    }\n",
       "\n",
       "    .dataframe tbody tr th {\n",
       "        vertical-align: top;\n",
       "    }\n",
       "\n",
       "    .dataframe thead th {\n",
       "        text-align: right;\n",
       "    }\n",
       "</style>\n",
       "<table border=\"1\" class=\"dataframe\">\n",
       "  <thead>\n",
       "    <tr style=\"text-align: right;\">\n",
       "      <th></th>\n",
       "      <th>distance</th>\n",
       "      <th>temperature</th>\n",
       "      <th>apparentTemperature</th>\n",
       "      <th>precipIntensity</th>\n",
       "      <th>humidity</th>\n",
       "      <th>windSpeed</th>\n",
       "      <th>windGust</th>\n",
       "      <th>visibility</th>\n",
       "      <th>temperatureHigh</th>\n",
       "      <th>temperatureLow</th>\n",
       "    </tr>\n",
       "  </thead>\n",
       "  <tbody>\n",
       "    <tr>\n",
       "      <th>mean</th>\n",
       "      <td>2.196046</td>\n",
       "      <td>39.117792</td>\n",
       "      <td>35.273965</td>\n",
       "      <td>0.00662</td>\n",
       "      <td>0.747553</td>\n",
       "      <td>6.355578</td>\n",
       "      <td>8.943117</td>\n",
       "      <td>8.307542</td>\n",
       "      <td>44.832485</td>\n",
       "      <td>33.675340</td>\n",
       "    </tr>\n",
       "    <tr>\n",
       "      <th>std</th>\n",
       "      <td>1.182877</td>\n",
       "      <td>7.494224</td>\n",
       "      <td>8.909465</td>\n",
       "      <td>0.01923</td>\n",
       "      <td>0.146973</td>\n",
       "      <td>3.434181</td>\n",
       "      <td>6.082697</td>\n",
       "      <td>2.733811</td>\n",
       "      <td>6.271329</td>\n",
       "      <td>6.506584</td>\n",
       "    </tr>\n",
       "    <tr>\n",
       "      <th>min</th>\n",
       "      <td>0.020000</td>\n",
       "      <td>18.910000</td>\n",
       "      <td>12.130000</td>\n",
       "      <td>0.00000</td>\n",
       "      <td>0.400000</td>\n",
       "      <td>1.030000</td>\n",
       "      <td>1.050000</td>\n",
       "      <td>0.717000</td>\n",
       "      <td>32.680000</td>\n",
       "      <td>19.630000</td>\n",
       "    </tr>\n",
       "    <tr>\n",
       "      <th>50%</th>\n",
       "      <td>2.170000</td>\n",
       "      <td>40.770000</td>\n",
       "      <td>35.840000</td>\n",
       "      <td>0.00000</td>\n",
       "      <td>0.750000</td>\n",
       "      <td>5.890000</td>\n",
       "      <td>7.000000</td>\n",
       "      <td>9.868000</td>\n",
       "      <td>44.660000</td>\n",
       "      <td>33.850000</td>\n",
       "    </tr>\n",
       "    <tr>\n",
       "      <th>max</th>\n",
       "      <td>7.860000</td>\n",
       "      <td>57.220000</td>\n",
       "      <td>57.220000</td>\n",
       "      <td>0.09230</td>\n",
       "      <td>0.960000</td>\n",
       "      <td>14.950000</td>\n",
       "      <td>27.250000</td>\n",
       "      <td>10.000000</td>\n",
       "      <td>57.870000</td>\n",
       "      <td>46.600000</td>\n",
       "    </tr>\n",
       "  </tbody>\n",
       "</table>\n",
       "</div>"
      ],
      "text/plain": [
       "      distance  temperature  apparentTemperature  precipIntensity  humidity  \\\n",
       "mean  2.196046    39.117792            35.273965          0.00662  0.747553   \n",
       "std   1.182877     7.494224             8.909465          0.01923  0.146973   \n",
       "min   0.020000    18.910000            12.130000          0.00000  0.400000   \n",
       "50%   2.170000    40.770000            35.840000          0.00000  0.750000   \n",
       "max   7.860000    57.220000            57.220000          0.09230  0.960000   \n",
       "\n",
       "      windSpeed   windGust  visibility  temperatureHigh  temperatureLow  \n",
       "mean   6.355578   8.943117    8.307542        44.832485       33.675340  \n",
       "std    3.434181   6.082697    2.733811         6.271329        6.506584  \n",
       "min    1.030000   1.050000    0.717000        32.680000       19.630000  \n",
       "50%    5.890000   7.000000    9.868000        44.660000       33.850000  \n",
       "max   14.950000  27.250000   10.000000        57.870000       46.600000  "
      ]
     },
     "execution_count": 59,
     "metadata": {},
     "output_type": "execute_result"
    }
   ],
   "source": [
    "data8.iloc[:,[i for i in range(4,15) if i != 8]].describe().drop([\"count\", \"25%\", \"75%\"], axis = 0)"
   ]
  },
  {
   "cell_type": "code",
   "execution_count": 60,
   "id": "badcb737",
   "metadata": {},
   "outputs": [
    {
     "data": {
      "text/html": [
       "<div>\n",
       "<style scoped>\n",
       "    .dataframe tbody tr th:only-of-type {\n",
       "        vertical-align: middle;\n",
       "    }\n",
       "\n",
       "    .dataframe tbody tr th {\n",
       "        vertical-align: top;\n",
       "    }\n",
       "\n",
       "    .dataframe thead th {\n",
       "        text-align: right;\n",
       "    }\n",
       "</style>\n",
       "<table border=\"1\" class=\"dataframe\">\n",
       "  <thead>\n",
       "    <tr style=\"text-align: right;\">\n",
       "      <th></th>\n",
       "      <th>apparentTemperatureHigh</th>\n",
       "      <th>apparentTemperatureLow</th>\n",
       "      <th>dewPoint</th>\n",
       "      <th>pressure</th>\n",
       "      <th>windBearing</th>\n",
       "      <th>cloudCover</th>\n",
       "      <th>uvIndex</th>\n",
       "      <th>ozone</th>\n",
       "      <th>moonPhase</th>\n",
       "      <th>precipIntensityMax</th>\n",
       "      <th>temperatureMin</th>\n",
       "      <th>temperatureMax</th>\n",
       "    </tr>\n",
       "  </thead>\n",
       "  <tbody>\n",
       "    <tr>\n",
       "      <th>mean</th>\n",
       "      <td>41.287883</td>\n",
       "      <td>29.669534</td>\n",
       "      <td>31.379033</td>\n",
       "      <td>1010.116287</td>\n",
       "      <td>226.996695</td>\n",
       "      <td>0.692835</td>\n",
       "      <td>0.479932</td>\n",
       "      <td>313.684934</td>\n",
       "      <td>0.576922</td>\n",
       "      <td>0.037257</td>\n",
       "      <td>33.267421</td>\n",
       "      <td>45.199957</td>\n",
       "    </tr>\n",
       "    <tr>\n",
       "      <th>std</th>\n",
       "      <td>8.164319</td>\n",
       "      <td>8.296897</td>\n",
       "      <td>10.084113</td>\n",
       "      <td>13.845676</td>\n",
       "      <td>99.680888</td>\n",
       "      <td>0.357133</td>\n",
       "      <td>0.583123</td>\n",
       "      <td>28.579168</td>\n",
       "      <td>0.242542</td>\n",
       "      <td>0.054970</td>\n",
       "      <td>6.430369</td>\n",
       "      <td>5.701718</td>\n",
       "    </tr>\n",
       "    <tr>\n",
       "      <th>min</th>\n",
       "      <td>22.620000</td>\n",
       "      <td>11.810000</td>\n",
       "      <td>6.460000</td>\n",
       "      <td>988.090000</td>\n",
       "      <td>13.000000</td>\n",
       "      <td>0.000000</td>\n",
       "      <td>0.000000</td>\n",
       "      <td>269.400000</td>\n",
       "      <td>0.210000</td>\n",
       "      <td>0.000000</td>\n",
       "      <td>17.850000</td>\n",
       "      <td>33.510000</td>\n",
       "    </tr>\n",
       "    <tr>\n",
       "      <th>50%</th>\n",
       "      <td>40.690000</td>\n",
       "      <td>29.880000</td>\n",
       "      <td>29.570000</td>\n",
       "      <td>1010.580000</td>\n",
       "      <td>261.000000</td>\n",
       "      <td>0.870000</td>\n",
       "      <td>0.000000</td>\n",
       "      <td>309.100000</td>\n",
       "      <td>0.680000</td>\n",
       "      <td>0.000700</td>\n",
       "      <td>34.220000</td>\n",
       "      <td>44.660000</td>\n",
       "    </tr>\n",
       "    <tr>\n",
       "      <th>max</th>\n",
       "      <td>57.200000</td>\n",
       "      <td>47.250000</td>\n",
       "      <td>49.270000</td>\n",
       "      <td>1035.550000</td>\n",
       "      <td>356.000000</td>\n",
       "      <td>1.000000</td>\n",
       "      <td>2.000000</td>\n",
       "      <td>378.700000</td>\n",
       "      <td>0.930000</td>\n",
       "      <td>0.143300</td>\n",
       "      <td>43.100000</td>\n",
       "      <td>57.870000</td>\n",
       "    </tr>\n",
       "  </tbody>\n",
       "</table>\n",
       "</div>"
      ],
      "text/plain": [
       "      apparentTemperatureHigh  apparentTemperatureLow   dewPoint     pressure  \\\n",
       "mean                41.287883               29.669534  31.379033  1010.116287   \n",
       "std                  8.164319                8.296897  10.084113    13.845676   \n",
       "min                 22.620000               11.810000   6.460000   988.090000   \n",
       "50%                 40.690000               29.880000  29.570000  1010.580000   \n",
       "max                 57.200000               47.250000  49.270000  1035.550000   \n",
       "\n",
       "      windBearing  cloudCover   uvIndex       ozone  moonPhase  \\\n",
       "mean   226.996695    0.692835  0.479932  313.684934   0.576922   \n",
       "std     99.680888    0.357133  0.583123   28.579168   0.242542   \n",
       "min     13.000000    0.000000  0.000000  269.400000   0.210000   \n",
       "50%    261.000000    0.870000  0.000000  309.100000   0.680000   \n",
       "max    356.000000    1.000000  2.000000  378.700000   0.930000   \n",
       "\n",
       "      precipIntensityMax  temperatureMin  temperatureMax  \n",
       "mean            0.037257       33.267421       45.199957  \n",
       "std             0.054970        6.430369        5.701718  \n",
       "min             0.000000       17.850000       33.510000  \n",
       "50%             0.000700       34.220000       44.660000  \n",
       "max             0.143300       43.100000       57.870000  "
      ]
     },
     "execution_count": 60,
     "metadata": {},
     "output_type": "execute_result"
    }
   ],
   "source": [
    "data8.iloc[:,[i for i in range(15,27) if i != 8]].describe().drop([\"count\", \"25%\", \"75%\"], axis = 0)"
   ]
  },
  {
   "cell_type": "code",
   "execution_count": 61,
   "id": "54a0ac6a",
   "metadata": {},
   "outputs": [
    {
     "data": {
      "text/html": [
       "<div>\n",
       "<style scoped>\n",
       "    .dataframe tbody tr th:only-of-type {\n",
       "        vertical-align: middle;\n",
       "    }\n",
       "\n",
       "    .dataframe tbody tr th {\n",
       "        vertical-align: top;\n",
       "    }\n",
       "\n",
       "    .dataframe thead th {\n",
       "        text-align: right;\n",
       "    }\n",
       "</style>\n",
       "<table border=\"1\" class=\"dataframe\">\n",
       "  <thead>\n",
       "    <tr style=\"text-align: right;\">\n",
       "      <th></th>\n",
       "      <th>temperature</th>\n",
       "      <th>apparentTemperature</th>\n",
       "      <th>precipIntensity</th>\n",
       "      <th>humidity</th>\n",
       "      <th>windSpeed</th>\n",
       "      <th>windGust</th>\n",
       "      <th>visibility</th>\n",
       "      <th>temperatureHigh</th>\n",
       "      <th>temperatureLow</th>\n",
       "      <th>apparentTemperatureHigh</th>\n",
       "      <th>...</th>\n",
       "      <th>dewPoint</th>\n",
       "      <th>pressure</th>\n",
       "      <th>windBearing</th>\n",
       "      <th>cloudCover</th>\n",
       "      <th>uvIndex</th>\n",
       "      <th>ozone</th>\n",
       "      <th>moonPhase</th>\n",
       "      <th>precipIntensityMax</th>\n",
       "      <th>temperatureMin</th>\n",
       "      <th>temperatureMax</th>\n",
       "    </tr>\n",
       "  </thead>\n",
       "  <tbody>\n",
       "    <tr>\n",
       "      <th>0</th>\n",
       "      <td>37.368114</td>\n",
       "      <td>32.211307</td>\n",
       "      <td>0.0</td>\n",
       "      <td>0.715583</td>\n",
       "      <td>4.394302</td>\n",
       "      <td>5.638035</td>\n",
       "      <td>6.265072</td>\n",
       "      <td>43.916762</td>\n",
       "      <td>32.265812</td>\n",
       "      <td>39.452079</td>\n",
       "      <td>...</td>\n",
       "      <td>26.027297</td>\n",
       "      <td>1009.926653</td>\n",
       "      <td>133.833548</td>\n",
       "      <td>0.0</td>\n",
       "      <td>0.0</td>\n",
       "      <td>311.14537</td>\n",
       "      <td>0.450799</td>\n",
       "      <td>0.0</td>\n",
       "      <td>31.694438</td>\n",
       "      <td>44.483716</td>\n",
       "    </tr>\n",
       "  </tbody>\n",
       "</table>\n",
       "<p>1 rows × 21 columns</p>\n",
       "</div>"
      ],
      "text/plain": [
       "   temperature  apparentTemperature  precipIntensity  humidity  windSpeed  \\\n",
       "0    37.368114            32.211307              0.0  0.715583   4.394302   \n",
       "\n",
       "   windGust  visibility  temperatureHigh  temperatureLow  \\\n",
       "0  5.638035    6.265072        43.916762       32.265812   \n",
       "\n",
       "   apparentTemperatureHigh  ...   dewPoint     pressure  windBearing  \\\n",
       "0                39.452079  ...  26.027297  1009.926653   133.833548   \n",
       "\n",
       "   cloudCover  uvIndex      ozone  moonPhase  precipIntensityMax  \\\n",
       "0         0.0      0.0  311.14537   0.450799                 0.0   \n",
       "\n",
       "   temperatureMin  temperatureMax  \n",
       "0       31.694438       44.483716  \n",
       "\n",
       "[1 rows x 21 columns]"
      ]
     },
     "execution_count": 61,
     "metadata": {},
     "output_type": "execute_result"
    }
   ],
   "source": [
    "# Harmonic Mean of the  column in dataframe\n",
    "hmean = stats.hmean(data8.iloc[:,[i for i in range(5,27) if i != 8]],axis=0)\n",
    "hmean_df = pd.DataFrame(hmean.reshape(1,-1), columns = data8.iloc[:,[i for i in range(5,27) if i != 8]].columns)\n",
    "hmean_df"
   ]
  },
  {
   "cell_type": "code",
   "execution_count": 62,
   "id": "48570964",
   "metadata": {},
   "outputs": [
    {
     "data": {
      "text/html": [
       "<div>\n",
       "<style scoped>\n",
       "    .dataframe tbody tr th:only-of-type {\n",
       "        vertical-align: middle;\n",
       "    }\n",
       "\n",
       "    .dataframe tbody tr th {\n",
       "        vertical-align: top;\n",
       "    }\n",
       "\n",
       "    .dataframe thead th {\n",
       "        text-align: right;\n",
       "    }\n",
       "</style>\n",
       "<table border=\"1\" class=\"dataframe\">\n",
       "  <thead>\n",
       "    <tr style=\"text-align: right;\">\n",
       "      <th></th>\n",
       "      <th>kurtosis</th>\n",
       "      <th>skew</th>\n",
       "    </tr>\n",
       "  </thead>\n",
       "  <tbody>\n",
       "    <tr>\n",
       "      <th>temperature</th>\n",
       "      <td>0.315705</td>\n",
       "      <td>-0.488725</td>\n",
       "    </tr>\n",
       "    <tr>\n",
       "      <th>apparentTemperature</th>\n",
       "      <td>0.553118</td>\n",
       "      <td>-0.341965</td>\n",
       "    </tr>\n",
       "    <tr>\n",
       "      <th>precipIntensity</th>\n",
       "      <td>8.814515</td>\n",
       "      <td>3.168272</td>\n",
       "    </tr>\n",
       "    <tr>\n",
       "      <th>humidity</th>\n",
       "      <td>-1.086370</td>\n",
       "      <td>-0.290235</td>\n",
       "    </tr>\n",
       "    <tr>\n",
       "      <th>windSpeed</th>\n",
       "      <td>-0.818541</td>\n",
       "      <td>0.464851</td>\n",
       "    </tr>\n",
       "    <tr>\n",
       "      <th>windGust</th>\n",
       "      <td>0.458243</td>\n",
       "      <td>1.084877</td>\n",
       "    </tr>\n",
       "    <tr>\n",
       "      <th>visibility</th>\n",
       "      <td>0.296981</td>\n",
       "      <td>-1.404406</td>\n",
       "    </tr>\n",
       "    <tr>\n",
       "      <th>temperatureHigh</th>\n",
       "      <td>-0.000579</td>\n",
       "      <td>-0.016623</td>\n",
       "    </tr>\n",
       "    <tr>\n",
       "      <th>temperatureLow</th>\n",
       "      <td>-0.502362</td>\n",
       "      <td>-0.272700</td>\n",
       "    </tr>\n",
       "    <tr>\n",
       "      <th>apparentTemperatureHigh</th>\n",
       "      <td>0.140702</td>\n",
       "      <td>-0.120984</td>\n",
       "    </tr>\n",
       "    <tr>\n",
       "      <th>apparentTemperatureLow</th>\n",
       "      <td>0.281916</td>\n",
       "      <td>-0.442132</td>\n",
       "    </tr>\n",
       "    <tr>\n",
       "      <th>dewPoint</th>\n",
       "      <td>-0.110079</td>\n",
       "      <td>-0.519292</td>\n",
       "    </tr>\n",
       "    <tr>\n",
       "      <th>pressure</th>\n",
       "      <td>-1.111587</td>\n",
       "      <td>0.068909</td>\n",
       "    </tr>\n",
       "    <tr>\n",
       "      <th>windBearing</th>\n",
       "      <td>-0.919836</td>\n",
       "      <td>-0.692296</td>\n",
       "    </tr>\n",
       "    <tr>\n",
       "      <th>cloudCover</th>\n",
       "      <td>-0.986513</td>\n",
       "      <td>-0.738452</td>\n",
       "    </tr>\n",
       "    <tr>\n",
       "      <th>uvIndex</th>\n",
       "      <td>-0.406223</td>\n",
       "      <td>0.762125</td>\n",
       "    </tr>\n",
       "    <tr>\n",
       "      <th>ozone</th>\n",
       "      <td>-0.866333</td>\n",
       "      <td>0.365355</td>\n",
       "    </tr>\n",
       "    <tr>\n",
       "      <th>moonPhase</th>\n",
       "      <td>-1.572583</td>\n",
       "      <td>-0.306868</td>\n",
       "    </tr>\n",
       "    <tr>\n",
       "      <th>precipIntensityMax</th>\n",
       "      <td>-0.830955</td>\n",
       "      <td>1.007221</td>\n",
       "    </tr>\n",
       "    <tr>\n",
       "      <th>temperatureMin</th>\n",
       "      <td>0.028534</td>\n",
       "      <td>-0.771009</td>\n",
       "    </tr>\n",
       "    <tr>\n",
       "      <th>temperatureMax</th>\n",
       "      <td>0.104574</td>\n",
       "      <td>0.299156</td>\n",
       "    </tr>\n",
       "  </tbody>\n",
       "</table>\n",
       "</div>"
      ],
      "text/plain": [
       "                         kurtosis      skew\n",
       "temperature              0.315705 -0.488725\n",
       "apparentTemperature      0.553118 -0.341965\n",
       "precipIntensity          8.814515  3.168272\n",
       "humidity                -1.086370 -0.290235\n",
       "windSpeed               -0.818541  0.464851\n",
       "windGust                 0.458243  1.084877\n",
       "visibility               0.296981 -1.404406\n",
       "temperatureHigh         -0.000579 -0.016623\n",
       "temperatureLow          -0.502362 -0.272700\n",
       "apparentTemperatureHigh  0.140702 -0.120984\n",
       "apparentTemperatureLow   0.281916 -0.442132\n",
       "dewPoint                -0.110079 -0.519292\n",
       "pressure                -1.111587  0.068909\n",
       "windBearing             -0.919836 -0.692296\n",
       "cloudCover              -0.986513 -0.738452\n",
       "uvIndex                 -0.406223  0.762125\n",
       "ozone                   -0.866333  0.365355\n",
       "moonPhase               -1.572583 -0.306868\n",
       "precipIntensityMax      -0.830955  1.007221\n",
       "temperatureMin           0.028534 -0.771009\n",
       "temperatureMax           0.104574  0.299156"
      ]
     },
     "execution_count": 62,
     "metadata": {},
     "output_type": "execute_result"
    }
   ],
   "source": [
    "kurtosis = pd.DataFrame(data8.iloc[:,[i for i in range(5,27) if i != 8]].kurtosis(), columns = [\"kurtosis\"])\n",
    "skew = pd.DataFrame(data8.iloc[:,[i for i in range(5,27) if i != 8]].skew(), columns = [\"skew\"])\n",
    "dist_st = pd.concat([kurtosis, skew], axis = 1)\n",
    "dist_st"
   ]
  },
  {
   "cell_type": "code",
   "execution_count": 63,
   "id": "913b8b8d",
   "metadata": {},
   "outputs": [
    {
     "data": {
      "text/plain": [
       "Text(0.5, 1.0, 'windGust')"
      ]
     },
     "execution_count": 63,
     "metadata": {},
     "output_type": "execute_result"
    },
    {
     "data": {
      "image/png": "[encoded data removed]",
      "text/plain": [
       "<Figure size 1080x720 with 4 Axes>"
      ]
     },
     "metadata": {
      "needs_background": "light"
     },
     "output_type": "display_data"
    }
   ],
   "source": [
    "fig = plt.figure(figsize = (15,10))\n",
    "\n",
    "#temperature\n",
    "plt.subplot(2,2,1)\n",
    "\n",
    "samples = data8.iloc[:,5]\n",
    "shape, loc, scale= stats.lognorm.fit(samples, floc=0)\n",
    "num_bins = 50\n",
    "clr = \"#EFEFEF\"\n",
    "counts,edges,patches = plt.hist(samples, bins = num_bins, color = clr)\n",
    "centers = 0.5 * (edges[:-1] + edges[1:])\n",
    "cdf = stats.lognorm.cdf(edges, shape, loc = loc, scale = scale)\n",
    "prob = np.diff(cdf)\n",
    "plt.plot(centers, samples.size * prob, 'k-', linewidth=2)\n",
    "plt.title(\"temperature\")\n",
    "\n",
    "\n",
    "#apparentTemperature\n",
    "plt.subplot(2,2,2)\n",
    "\n",
    "samples = data8.iloc[:,6]\n",
    "shape,loc,scale = stats.lognorm.fit(samples, floc = 0)\n",
    "num_bins = 50\n",
    "clr = \"#EFEFEF\"\n",
    "counts,edges,patches = plt.hist(samples,bins = num_bins, color = clr)\n",
    "centers = 0.5 * (edges[:-1] + edges[1:])\n",
    "cdf = stats.lognorm.cdf(edges, shape,loc = loc, scale = scale)\n",
    "prob = np.diff(cdf)\n",
    "plt.plot(centers, samples.size * prob,'k-', linewidth = 2)\n",
    "plt.title(\"apparentTemperature\")\n",
    "\n",
    "\n",
    "#windSpeed\n",
    "plt.subplot(2,2,3)\n",
    "\n",
    "samples = data8.iloc[:,10]\n",
    "shape,loc,scale = stats.lognorm.fit(samples, floc = 0)\n",
    "num_bins = 50\n",
    "clr=\"#EFEFEF\"\n",
    "counts,edges,patches = plt.hist(samples,bins = num_bins, color = clr)\n",
    "centers = 0.5 * (edges[:-1] + edges[1:])\n",
    "cdf = stats.lognorm.cdf(edges,shape, loc = loc,scale = scale)\n",
    "prob = np.diff(cdf)\n",
    "plt.plot(centers, samples.size * prob, 'k-', linewidth = 2)\n",
    "plt.title(\"windSpeed\")\n",
    "\n",
    "\n",
    "#windGust\n",
    "plt.subplot(2,2,4)\n",
    "\n",
    "samples = data8.iloc[:,11]\n",
    "shape,loc,scale = stats.lognorm.fit(samples, floc = 0)\n",
    "num_bins = 50\n",
    "clr = \"#EFEFEF\"\n",
    "counts,edges,patches = plt.hist(samples, bins = num_bins, color = clr)\n",
    "centers = 0.5 * (edges[:-1] + edges[1:])\n",
    "cdf = stats.lognorm.cdf(edges,shape,loc = loc, scale = scale)\n",
    "prob = np.diff(cdf)\n",
    "plt.plot(centers, samples.size * prob, 'k-', linewidth = 2)\n",
    "plt.title(\"windGust\")"
   ]
  },
  {
   "cell_type": "code",
   "execution_count": 64,
   "id": "aa41b4b3",
   "metadata": {},
   "outputs": [
    {
     "data": {
      "text/plain": [
       "F_onewayResult(statistic=5405780.596481732, pvalue=0.0)"
      ]
     },
     "execution_count": 64,
     "metadata": {},
     "output_type": "execute_result"
    }
   ],
   "source": [
    "f_oneway(data8[\"temperatureMean\"], data8[\"distance\"])"
   ]
  },
  {
   "cell_type": "code",
   "execution_count": 65,
   "id": "c8bd6190",
   "metadata": {},
   "outputs": [
    {
     "name": "stdout",
     "output_type": "stream",
     "text": [
      "ANOVA table\n",
      "----------------------\n",
      "                sum_sq        df         F    PR(>F)\n",
      "distance  3.811285e+01       1.0  1.152458  0.283037\n",
      "Residual  4.492155e+06  135834.0       NaN       NaN\n",
      "\n"
     ]
    }
   ],
   "source": [
    "mod = ols('temperatureMean ~ distance', data = data8).fit()\n",
    "\n",
    "# do type 2 anova\n",
    "aov_table = sm.stats.anova_lm(mod, typ=2)\n",
    "print('ANOVA table')\n",
    "print('----------------------')\n",
    "print(aov_table)\n",
    "print()"
   ]
  },
  {
   "cell_type": "markdown",
   "id": "d478345a",
   "metadata": {},
   "source": [
    "# Feature Selection"
   ]
  },
  {
   "cell_type": "code",
   "execution_count": 66,
   "id": "b578aeaf",
   "metadata": {},
   "outputs": [],
   "source": [
    "x = data8.iloc[:,[4,5,6,7,8,9,10,11,12,13,14,15,16,17,18,19,20,21,22,23,24,25,26,27,28,77,78]]\n",
    "binary = data8.iloc[:,[-2,-3,-4,-5,-6,-7,-8,-9,-10,-11,-12,-13,-14,-15,-16,-17]]\n",
    "y = data8.iloc[:,-1]"
   ]
  },
  {
   "cell_type": "code",
   "execution_count": 67,
   "id": "bb121194",
   "metadata": {},
   "outputs": [],
   "source": [
    "from sklearn.preprocessing import MinMaxScaler\n",
    "mm = MinMaxScaler()\n",
    "x_mm = mm.fit_transform(x)"
   ]
  },
  {
   "cell_type": "code",
   "execution_count": 68,
   "id": "1a6e61b2",
   "metadata": {},
   "outputs": [],
   "source": [
    "x_mm_df = pd.DataFrame(x_mm, columns = x.columns)"
   ]
  },
  {
   "cell_type": "code",
   "execution_count": 69,
   "id": "bb5a58f9",
   "metadata": {},
   "outputs": [],
   "source": [
    "data_mm = pd.concat([x_mm_df, binary, y], axis = 1)"
   ]
  },
  {
   "cell_type": "markdown",
   "id": "c07254f6",
   "metadata": {},
   "source": [
    "### method1 (PFA)"
   ]
  },
  {
   "cell_type": "code",
   "execution_count": null,
   "id": "735a1711",
   "metadata": {},
   "outputs": [],
   "source": [
    "from sklearn.decomposition import PCA\n",
    "from sklearn.cluster import KMeans\n",
    "from collections import defaultdict\n",
    "from sklearn.metrics.pairwise import euclidean_distances\n",
    "from sklearn.preprocessing import StandardScaler\n",
    "\n",
    "class PFA(object):\n",
    "    def __init__(self, n_features, q=None):\n",
    "        self.q = q\n",
    "        self.n_features = n_features\n",
    "\n",
    "    def fit(self, X):\n",
    "        if not self.q:\n",
    "            self.q = X.shape[1]\n",
    "\n",
    "        sc = StandardScaler()\n",
    "        X = sc.fit_transform(X)\n",
    "\n",
    "        pca = PCA(n_components=self.q).fit(X)\n",
    "        A_q = pca.components_.T\n",
    "\n",
    "        kmeans = KMeans(n_clusters=self.n_features).fit(A_q)\n",
    "        clusters = kmeans.predict(A_q)\n",
    "        cluster_centers = kmeans.cluster_centers_\n",
    "\n",
    "        dists = defaultdict(list)\n",
    "        for i, c in enumerate(clusters):\n",
    "            dist = euclidean_distances([A_q[i, :]], [cluster_centers[c, :]])[0][0]\n",
    "            dists[c].append((i, dist))\n",
    "\n",
    "        self.indices_ = [sorted(f, key=lambda x: x[1])[0][0] for f in dists.values()]\n",
    "        self.features_ = X[:, self.indices_]"
   ]
  },
  {
   "cell_type": "code",
   "execution_count": null,
   "id": "65b8a568",
   "metadata": {},
   "outputs": [],
   "source": [
    "pfa = PFA(n_features=15)\n",
    "pfa.fit(x)\n",
    "\n",
    "# To get the transformed matrix\n",
    "x = pfa.features_\n",
    "\n",
    "# To get the column indices of the kept features\n",
    "column_indices = pfa.indices_"
   ]
  },
  {
   "cell_type": "markdown",
   "id": "922f0ddf",
   "metadata": {},
   "source": [
    "### method2 (HillClimbSearch)"
   ]
  },
  {
   "cell_type": "code",
   "execution_count": null,
   "id": "628737d5",
   "metadata": {},
   "outputs": [],
   "source": [
    "hc = HillClimbSearch(x, scoring_method = BicScore(x))\n",
    "best_model = hc.estimate()\n",
    "print(best_model.edges())"
   ]
  },
  {
   "cell_type": "code",
   "execution_count": 71,
   "id": "74741698",
   "metadata": {},
   "outputs": [
    {
     "data": {
      "text/plain": [
       "Index(['distance', 'temperature', 'apparentTemperature', 'precipIntensity',\n",
       "       'precipProbability', 'humidity', 'windSpeed', 'windGust', 'visibility',\n",
       "       'temperatureHigh', 'temperatureLow', 'apparentTemperatureHigh',\n",
       "       'apparentTemperatureLow', 'dewPoint', 'pressure', 'windBearing',\n",
       "       'cloudCover', 'uvIndex', 'ozone', 'moonPhase', 'precipIntensityMax',\n",
       "       'temperatureMin', 'temperatureMax', 'apparentTemperatureMin',\n",
       "       'apparentTemperatureMax', 'temperatureMean', 'apparentTemperatureMean'],\n",
       "      dtype='object')"
      ]
     },
     "execution_count": 71,
     "metadata": {},
     "output_type": "execute_result"
    }
   ],
   "source": [
    "x.columns"
   ]
  },
  {
   "cell_type": "markdown",
   "id": "6801211a",
   "metadata": {},
   "source": [
    "### method3 (Eliminate low variance features)"
   ]
  },
  {
   "cell_type": "code",
   "execution_count": null,
   "id": "2db988ba",
   "metadata": {},
   "outputs": [],
   "source": [
    "## Define the variance threhold and fit the threshold to the feature array. \n",
    "sel = fs.VarianceThreshold(threshold=(.8 * (1 - .8)))\n",
    "Features_reduced = sel.fit_transform(x)\n",
    "\n",
    "## Print the support and shape for the transformed features\n",
    "print(sel.get_support())\n",
    "print(Features_reduced.shape)"
   ]
  },
  {
   "cell_type": "markdown",
   "id": "e2139e7e",
   "metadata": {},
   "source": [
    "### method4 (NDFS)"
   ]
  },
  {
   "cell_type": "code",
   "execution_count": null,
   "id": "69c94b02",
   "metadata": {},
   "outputs": [],
   "source": [
    "import scipy.io\n",
    "from skfeature.function.sparse_learning_based import NDFS\n",
    "from skfeature.utility import construct_W\n",
    "from skfeature.utility.sparse_learning import feature_ranking\n",
    "from skfeature.utility import unsupervised_evaluation\n",
    "\n",
    "\n",
    "def main():\n",
    "\n",
    "    # construct affinity matrix\n",
    "    kwargs = {\"metric\": \"euclidean\", \"neighborMode\": \"knn\", \"weightMode\": \"heatKernel\", \"k\": 5, 't': 1}\n",
    "    W = construct_W.construct_W(x, **kwargs)\n",
    "\n",
    "    # obtain the feature weight matrix\n",
    "    Weight = NDFS.ndfs(x, W = W, n_clusters=20)\n",
    "\n",
    "    # sort the feature scores in an ascending order according to the feature scores\n",
    "    idx = feature_ranking(Weight)\n",
    "\n",
    "    # perform evaluation on clustering task\n",
    "    num_fea = 20    # number of selected features\n",
    "    num_cluster = 20    # number of clusters, it is usually set as the number of classes in the ground truth\n",
    "\n",
    "    # obtain the dataset on the selected features\n",
    "    selected_features = X[:, idx[0:num_fea]]\n",
    "\n",
    "    # perform kmeans clustering based on the selected features and repeats 20 times\n",
    "    nmi_total = 0\n",
    "    acc_total = 0\n",
    "    for i in range(0, 20):\n",
    "        nmi, acc = unsupervised_evaluation.evaluation(X_selected = num_fea, n_clusters = num_cluster, y = y)\n",
    "        nmi_total += nmi\n",
    "        acc_total += acc\n",
    "\n",
    "    # output the average NMI and average ACC\n",
    "    print 'NMI:', float(nmi_total)/20\n",
    "    print 'ACC:', float(acc_total)/20"
   ]
  },
  {
   "cell_type": "markdown",
   "id": "e6a2225f",
   "metadata": {},
   "source": [
    "### method5 (SPEC)"
   ]
  },
  {
   "cell_type": "code",
   "execution_count": null,
   "id": "27f6df25",
   "metadata": {},
   "outputs": [],
   "source": [
    "import scipy.io\n",
    "from skfeature.function.similarity_based import SPEC\n",
    "from skfeature.utility import unsupervised_evaluation\n",
    "\n",
    "\n",
    "def main():\n",
    "\n",
    "    # specify the second ranking function which uses all except the 1st eigenvalue\n",
    "    kwargs = {'style': 0}\n",
    "\n",
    "    # obtain the scores of features\n",
    "    score = SPEC.spec(x, **kwargs)\n",
    "\n",
    "    # sort the feature scores in an descending order according to the feature scores\n",
    "    idx = SPEC.feature_ranking(score, **kwargs)\n",
    "\n",
    "    # perform evaluation on clustering task\n",
    "    num_fea = 20    # number of selected features\n",
    "    num_cluster = 20    # number of clusters, it is usually set as the number of classes in the ground truth\n",
    "\n",
    "    # obtain the dataset on the selected features\n",
    "    selected_features = x[:, idx[0:num_fea]]\n",
    "\n",
    "    # perform kmeans clustering based on the selected features and repeats 20 times\n",
    "    nmi_total = 0\n",
    "    acc_total = 0\n",
    "    for i in range(0, 20):\n",
    "        nmi, acc = unsupervised_evaluation.evaluation(X_selected = num_fea, n_clusters = num_cluster, y = y)\n",
    "        nmi_total += nmi\n",
    "        acc_total += acc\n",
    "\n",
    "    # output the average NMI and average ACC\n",
    "    print 'NMI:', float(nmi_total)/20\n",
    "    print 'ACC:', float(acc_total)/20"
   ]
  },
  {
   "cell_type": "markdown",
   "id": "544a2233",
   "metadata": {},
   "source": [
    "### method6 (Lap-Score)"
   ]
  },
  {
   "cell_type": "code",
   "execution_count": null,
   "id": "aefef5fb",
   "metadata": {},
   "outputs": [],
   "source": [
    "import scipy.io\n",
    "from skfeature.function.similarity_based import lap_score\n",
    "from skfeature.utility import construct_W\n",
    "from skfeature.utility import unsupervised_evaluation\n",
    "\n",
    "\n",
    "def main():\n",
    "\n",
    "    # construct affinity matrix\n",
    "    kwargs_W = {\"metric\": \"euclidean\", \"neighbor_mode\": \"knn\", \"weight_mode\": \"heat_kernel\", \"k\": 5, 't': 1}\n",
    "    W = construct_W.construct_W(X, **kwargs_W)\n",
    "\n",
    "    # obtain the scores of features\n",
    "    score = lap_score.lap_score(x, W = W)\n",
    "\n",
    "    # sort the feature scores in an ascending order according to the feature scores\n",
    "    idx = lap_score.feature_ranking(score)\n",
    "\n",
    "    # perform evaluation on clustering task\n",
    "    num_fea = 20    # number of selected features\n",
    "    num_cluster = 20    # number of clusters, it is usually set as the number of classes in the ground truth\n",
    "\n",
    "    # obtain the dataset on the selected features\n",
    "    selected_features = x[:, idx[0:num_fea]]\n",
    "\n",
    "    # perform kmeans clustering based on the selected features and repeats 20 times\n",
    "    nmi_total = 0\n",
    "    acc_total = 0\n",
    "    for i in range(0, 20):\n",
    "        nmi, acc = unsupervised_evaluation.evaluation(X_selected = num_fea, n_clusters = num_cluster, y = y)\n",
    "        nmi_total += nmi\n",
    "        acc_total += acc\n",
    "\n",
    "    # output the average NMI and average ACC\n",
    "    print 'NMI:', float(nmi_total)/20\n",
    "    print 'ACC:', float(acc_total)/20"
   ]
  },
  {
   "cell_type": "markdown",
   "id": "32c48b11",
   "metadata": {},
   "source": [
    "# Basic Dynamic Pricing"
   ]
  },
  {
   "cell_type": "code",
   "execution_count": null,
   "id": "f51d00bd",
   "metadata": {},
   "outputs": [],
   "source": [
    "import autograd.numpy as np\n",
    "from autograd import value_and_grad\n",
    "from scipy.stats import gamma\n",
    "\n",
    "def model(w,x):\n",
    "    return np.dot(x[0].T,w)\n",
    "\n",
    "def least_squares(w,x,y):    \n",
    "    cost = np.sum((model(w,x) - y)**2)\n",
    "    return cost\n",
    "\n",
    "def gradient_descent(g,alpha,max_its,w,x,y):\n",
    "    gradient = value_and_grad(g)\n",
    "\n",
    "    weight_history = []      \n",
    "    cost_history = []\n",
    "\n",
    "    for k in range(1,max_its+1):\n",
    "        cost_eval,grad_eval = gradient(w,x,y)\n",
    "        \n",
    "        weight_history.append(w)\n",
    "        cost_history.append(cost_eval)\n",
    "\n",
    "        w = w - alpha*grad_eval\n",
    "\n",
    "    weight_history.append(w)\n",
    "    cost_history.append(g(w,x,y))\n",
    "    cost_history = np.asarray(cost_history)/x.shape[2]\n",
    "    \n",
    "    return weight_history,cost_history\n",
    "\n",
    "def generate_sample(sample_size, gen_probs, weights):\n",
    "    sample = np.random.rand(sample_size,len(gen_probs))\n",
    "    for i in range(sample.shape[1]):\n",
    "        sample[:,i] = [1 if x < gen_probs[i] else 0 for x in sample[:,i]]\n",
    "    sample = np.vstack((np.ones((1,sample_size)),sample.T)).T\n",
    "    value = []\n",
    "    for i in range(sample_size):\n",
    "        a = np.dot(weights,sample[i])\n",
    "        val = gamma.ppf(np.random.uniform(),a,scale = 1/np.sqrt(a))\n",
    "        value.append(np.round(val,2))\n",
    "    return sample, value\n",
    "\n",
    "def demand_curve(axis, value):\n",
    "    demand = []\n",
    "    sample_size = len(value)\n",
    "    for price in axis:\n",
    "        demand.append(sum(1 if x>=price else 0 for x in value)/sample_size)\n",
    "    return demand\n",
    "\n",
    "logistic_demand = lambda a,x0,x: 1/(1+np.exp(np.abs(a)*(x-x0)))\n",
    "\n",
    "def APP_s(axis, value, c):\n",
    "    app_s = []\n",
    "    sample_size = len(value)\n",
    "    demand = demand_curve(axis, value)\n",
    "    for i in range(len(axis)):\n",
    "        app_s.append(max(axis[i]-c,0)*demand[i])\n",
    "    return app_s\n",
    "\n",
    "def APP_d(w,x,y,c,d):\n",
    "    est = d*model(w,x)\n",
    "    ind = list(range(len(est)))\n",
    "    rev = sum(max(est[i],c) if y[0][i] >= max(est[i],c) else 0 for i in ind)\n",
    "    return rev/x.shape[2]"
   ]
  },
  {
   "cell_type": "markdown",
   "id": "931c7732",
   "metadata": {},
   "source": [
    "# DRL Algorithms"
   ]
  },
  {
   "cell_type": "markdown",
   "id": "69cb9923",
   "metadata": {},
   "source": [
    "### Deep Deterministic Policy Gradients (DDPG)"
   ]
  },
  {
   "cell_type": "code",
   "execution_count": null,
   "id": "87073a6e",
   "metadata": {},
   "outputs": [],
   "source": [
    "env = gym.make('ride-v0')"
   ]
  },
  {
   "cell_type": "code",
   "execution_count": null,
   "id": "d0a3f1fb",
   "metadata": {},
   "outputs": [],
   "source": [
    "n_actions = env.action_space.shape[-1]"
   ]
  },
  {
   "cell_type": "code",
   "execution_count": null,
   "id": "098917f2",
   "metadata": {},
   "outputs": [],
   "source": [
    "action_noise = OrnsteinUhlenbeckActionNoise(mean = np.zeros(n_actions), sigma = float(0.5) * np.ones(n_actions))"
   ]
  },
  {
   "cell_type": "code",
   "execution_count": null,
   "id": "18af7d73",
   "metadata": {},
   "outputs": [],
   "source": [
    "agent = DDPG(MlpPolicy, env, verbose = 1, param_noise = None, action_noise = action_noise)"
   ]
  },
  {
   "cell_type": "code",
   "execution_count": null,
   "id": "98a17051",
   "metadata": {},
   "outputs": [],
   "source": [
    "agent.learn(total_timesteps = 50000)"
   ]
  },
  {
   "cell_type": "code",
   "execution_count": null,
   "id": "576de215",
   "metadata": {},
   "outputs": [],
   "source": [
    "mean_reward, n_steps = evaluate_policy(agent, agent.get_env(), n_eval_episodes=10)"
   ]
  },
  {
   "cell_type": "markdown",
   "id": "804bb1e9",
   "metadata": {},
   "source": [
    "### Deep SARSA Network (DSN)"
   ]
  },
  {
   "cell_type": "code",
   "execution_count": null,
   "id": "16b745d3",
   "metadata": {},
   "outputs": [],
   "source": [
    "# load the environment\n",
    "env = gym.make('ride-v0')"
   ]
  },
  {
   "cell_type": "code",
   "execution_count": null,
   "id": "7b308f93",
   "metadata": {},
   "outputs": [],
   "source": [
    "states = env.observation_space.shape[0]\n",
    "actions = env.action_space.n"
   ]
  },
  {
   "cell_type": "code",
   "execution_count": null,
   "id": "f2e13da5",
   "metadata": {},
   "outputs": [],
   "source": [
    "# define agent\n",
    "def agent(states, actions):\n",
    "    \n",
    "    model = Sequential()\n",
    "    model.add(Flatten(input_shape=(1,states)))\n",
    "    model.add(Dense(16))\n",
    "    model.add(Activation('relu'))\n",
    "    model.add(Dense(16))\n",
    "    model.add(Activation('relu'))\n",
    "    model.add(Dense(16))\n",
    "    model.add(Activation('relu'))\n",
    "    model.add(Dense(actions))\n",
    "    model.add(Activation('linear'))\n",
    "    return model\n",
    "\n",
    "model = agent(states, actions)"
   ]
  },
  {
   "cell_type": "code",
   "execution_count": null,
   "id": "22ab6071",
   "metadata": {},
   "outputs": [],
   "source": [
    "# Define the policy\n",
    "policy = EpsGreedyQPolicy()\n",
    "\n",
    "# Define SARSA agent by feeding it the policy and the model\n",
    "sarsa = SARSAAgent(model = model, nb_actions = actions, nb_steps_warmup = 20, policy = policy)\n",
    "\n",
    "# compile sarsa with mean squared error loss\n",
    "sarsa.compile('adam', metrics=['mse'])\n",
    "\n",
    "# train the agent for 50000 steps\n",
    "sarsa.fit(env, nb_steps = 50000, visualize = False, verbose = 1)"
   ]
  },
  {
   "cell_type": "code",
   "execution_count": null,
   "id": "4fa77bcc",
   "metadata": {},
   "outputs": [],
   "source": [
    "# Evaluate the agent on 200 new episodes.\n",
    "scores = sarsa.test(env, nb_episodes = 200, visualize = False)"
   ]
  }
 ],
 "metadata": {
  "kernelspec": {
   "display_name": "Python 3",
   "language": "python",
   "name": "python3"
  },
  "language_info": {
   "codemirror_mode": {
    "name": "ipython",
    "version": 3
   },
   "file_extension": ".py",
   "mimetype": "text/x-python",
   "name": "python",
   "nbconvert_exporter": "python",
   "pygments_lexer": "ipython3",
   "version": "3.8.8"
  }
 },
 "nbformat": 4,
 "nbformat_minor": 5
}
