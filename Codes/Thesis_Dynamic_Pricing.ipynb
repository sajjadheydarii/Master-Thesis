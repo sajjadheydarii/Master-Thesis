{
 "cells": [
  {
   "cell_type": "markdown",
   "id": "edbf81db",
   "metadata": {},
   "source": [
    "# Import the Libraries"
   ]
  },
  {
   "cell_type": "code",
   "execution_count": 1,
   "id": "88200f2a",
   "metadata": {},
   "outputs": [],
   "source": [
    "import pandas as pd\n",
    "import numpy as np\n",
    "import matplotlib.pyplot as plt\n",
    "import seaborn as sns\n",
    "import statistics as st\n",
    "from scipy import stats\n",
    "import statsmodels.api as sm\n",
    "from statsmodels.formula.api import ols\n",
    "from scipy.stats import f_oneway\n",
    "from datetime import datetime"
   ]
  },
  {
   "cell_type": "markdown",
   "id": "386bbbd4",
   "metadata": {},
   "source": [
    "# Import the Dataset"
   ]
  },
  {
   "cell_type": "code",
   "execution_count": 2,
   "id": "5aabc638",
   "metadata": {},
   "outputs": [
    {
     "data": {
      "text/html": [
       "<div>\n",
       "<style scoped>\n",
       "    .dataframe tbody tr th:only-of-type {\n",
       "        vertical-align: middle;\n",
       "    }\n",
       "\n",
       "    .dataframe tbody tr th {\n",
       "        vertical-align: top;\n",
       "    }\n",
       "\n",
       "    .dataframe thead th {\n",
       "        text-align: right;\n",
       "    }\n",
       "</style>\n",
       "<table border=\"1\" class=\"dataframe\">\n",
       "  <thead>\n",
       "    <tr style=\"text-align: right;\">\n",
       "      <th></th>\n",
       "      <th>id</th>\n",
       "      <th>timestamp</th>\n",
       "      <th>hour</th>\n",
       "      <th>day</th>\n",
       "      <th>month</th>\n",
       "      <th>datetime</th>\n",
       "      <th>timezone</th>\n",
       "      <th>source</th>\n",
       "      <th>destination</th>\n",
       "      <th>cab_type</th>\n",
       "      <th>...</th>\n",
       "      <th>precipIntensityMax</th>\n",
       "      <th>uvIndexTime</th>\n",
       "      <th>temperatureMin</th>\n",
       "      <th>temperatureMinTime</th>\n",
       "      <th>temperatureMax</th>\n",
       "      <th>temperatureMaxTime</th>\n",
       "      <th>apparentTemperatureMin</th>\n",
       "      <th>apparentTemperatureMinTime</th>\n",
       "      <th>apparentTemperatureMax</th>\n",
       "      <th>apparentTemperatureMaxTime</th>\n",
       "    </tr>\n",
       "  </thead>\n",
       "  <tbody>\n",
       "    <tr>\n",
       "      <th>0</th>\n",
       "      <td>424553bb-7174-41ea-aeb4-fe06d4f4b9d7</td>\n",
       "      <td>1.544953e+09</td>\n",
       "      <td>9</td>\n",
       "      <td>16</td>\n",
       "      <td>12</td>\n",
       "      <td>2018-12-16 09:30:07</td>\n",
       "      <td>America/New_York</td>\n",
       "      <td>Haymarket Square</td>\n",
       "      <td>North Station</td>\n",
       "      <td>Lyft</td>\n",
       "      <td>...</td>\n",
       "      <td>0.1276</td>\n",
       "      <td>1544979600</td>\n",
       "      <td>39.89</td>\n",
       "      <td>1545012000</td>\n",
       "      <td>43.68</td>\n",
       "      <td>1544968800</td>\n",
       "      <td>33.73</td>\n",
       "      <td>1545012000</td>\n",
       "      <td>38.07</td>\n",
       "      <td>1544958000</td>\n",
       "    </tr>\n",
       "    <tr>\n",
       "      <th>1</th>\n",
       "      <td>4bd23055-6827-41c6-b23b-3c491f24e74d</td>\n",
       "      <td>1.543284e+09</td>\n",
       "      <td>2</td>\n",
       "      <td>27</td>\n",
       "      <td>11</td>\n",
       "      <td>2018-11-27 02:00:23</td>\n",
       "      <td>America/New_York</td>\n",
       "      <td>Haymarket Square</td>\n",
       "      <td>North Station</td>\n",
       "      <td>Lyft</td>\n",
       "      <td>...</td>\n",
       "      <td>0.1300</td>\n",
       "      <td>1543251600</td>\n",
       "      <td>40.49</td>\n",
       "      <td>1543233600</td>\n",
       "      <td>47.30</td>\n",
       "      <td>1543251600</td>\n",
       "      <td>36.20</td>\n",
       "      <td>1543291200</td>\n",
       "      <td>43.92</td>\n",
       "      <td>1543251600</td>\n",
       "    </tr>\n",
       "    <tr>\n",
       "      <th>2</th>\n",
       "      <td>981a3613-77af-4620-a42a-0c0866077d1e</td>\n",
       "      <td>1.543367e+09</td>\n",
       "      <td>1</td>\n",
       "      <td>28</td>\n",
       "      <td>11</td>\n",
       "      <td>2018-11-28 01:00:22</td>\n",
       "      <td>America/New_York</td>\n",
       "      <td>Haymarket Square</td>\n",
       "      <td>North Station</td>\n",
       "      <td>Lyft</td>\n",
       "      <td>...</td>\n",
       "      <td>0.1064</td>\n",
       "      <td>1543338000</td>\n",
       "      <td>35.36</td>\n",
       "      <td>1543377600</td>\n",
       "      <td>47.55</td>\n",
       "      <td>1543320000</td>\n",
       "      <td>31.04</td>\n",
       "      <td>1543377600</td>\n",
       "      <td>44.12</td>\n",
       "      <td>1543320000</td>\n",
       "    </tr>\n",
       "    <tr>\n",
       "      <th>3</th>\n",
       "      <td>c2d88af2-d278-4bfd-a8d0-29ca77cc5512</td>\n",
       "      <td>1.543554e+09</td>\n",
       "      <td>4</td>\n",
       "      <td>30</td>\n",
       "      <td>11</td>\n",
       "      <td>2018-11-30 04:53:02</td>\n",
       "      <td>America/New_York</td>\n",
       "      <td>Haymarket Square</td>\n",
       "      <td>North Station</td>\n",
       "      <td>Lyft</td>\n",
       "      <td>...</td>\n",
       "      <td>0.0000</td>\n",
       "      <td>1543507200</td>\n",
       "      <td>34.67</td>\n",
       "      <td>1543550400</td>\n",
       "      <td>45.03</td>\n",
       "      <td>1543510800</td>\n",
       "      <td>30.30</td>\n",
       "      <td>1543550400</td>\n",
       "      <td>38.53</td>\n",
       "      <td>1543510800</td>\n",
       "    </tr>\n",
       "    <tr>\n",
       "      <th>4</th>\n",
       "      <td>e0126e1f-8ca9-4f2e-82b3-50505a09db9a</td>\n",
       "      <td>1.543463e+09</td>\n",
       "      <td>3</td>\n",
       "      <td>29</td>\n",
       "      <td>11</td>\n",
       "      <td>2018-11-29 03:49:20</td>\n",
       "      <td>America/New_York</td>\n",
       "      <td>Haymarket Square</td>\n",
       "      <td>North Station</td>\n",
       "      <td>Lyft</td>\n",
       "      <td>...</td>\n",
       "      <td>0.0001</td>\n",
       "      <td>1543420800</td>\n",
       "      <td>33.10</td>\n",
       "      <td>1543402800</td>\n",
       "      <td>42.18</td>\n",
       "      <td>1543420800</td>\n",
       "      <td>29.11</td>\n",
       "      <td>1543392000</td>\n",
       "      <td>35.75</td>\n",
       "      <td>1543420800</td>\n",
       "    </tr>\n",
       "  </tbody>\n",
       "</table>\n",
       "<p>5 rows × 57 columns</p>\n",
       "</div>"
      ],
      "text/plain": [
       "                                     id     timestamp  hour  day  month  \\\n",
       "0  424553bb-7174-41ea-aeb4-fe06d4f4b9d7  1.544953e+09     9   16     12   \n",
       "1  4bd23055-6827-41c6-b23b-3c491f24e74d  1.543284e+09     2   27     11   \n",
       "2  981a3613-77af-4620-a42a-0c0866077d1e  1.543367e+09     1   28     11   \n",
       "3  c2d88af2-d278-4bfd-a8d0-29ca77cc5512  1.543554e+09     4   30     11   \n",
       "4  e0126e1f-8ca9-4f2e-82b3-50505a09db9a  1.543463e+09     3   29     11   \n",
       "\n",
       "              datetime          timezone            source    destination  \\\n",
       "0  2018-12-16 09:30:07  America/New_York  Haymarket Square  North Station   \n",
       "1  2018-11-27 02:00:23  America/New_York  Haymarket Square  North Station   \n",
       "2  2018-11-28 01:00:22  America/New_York  Haymarket Square  North Station   \n",
       "3  2018-11-30 04:53:02  America/New_York  Haymarket Square  North Station   \n",
       "4  2018-11-29 03:49:20  America/New_York  Haymarket Square  North Station   \n",
       "\n",
       "  cab_type  ... precipIntensityMax uvIndexTime  temperatureMin  \\\n",
       "0     Lyft  ...             0.1276  1544979600           39.89   \n",
       "1     Lyft  ...             0.1300  1543251600           40.49   \n",
       "2     Lyft  ...             0.1064  1543338000           35.36   \n",
       "3     Lyft  ...             0.0000  1543507200           34.67   \n",
       "4     Lyft  ...             0.0001  1543420800           33.10   \n",
       "\n",
       "   temperatureMinTime  temperatureMax  temperatureMaxTime  \\\n",
       "0          1545012000           43.68          1544968800   \n",
       "1          1543233600           47.30          1543251600   \n",
       "2          1543377600           47.55          1543320000   \n",
       "3          1543550400           45.03          1543510800   \n",
       "4          1543402800           42.18          1543420800   \n",
       "\n",
       "   apparentTemperatureMin  apparentTemperatureMinTime  apparentTemperatureMax  \\\n",
       "0                   33.73                  1545012000                   38.07   \n",
       "1                   36.20                  1543291200                   43.92   \n",
       "2                   31.04                  1543377600                   44.12   \n",
       "3                   30.30                  1543550400                   38.53   \n",
       "4                   29.11                  1543392000                   35.75   \n",
       "\n",
       "  apparentTemperatureMaxTime  \n",
       "0                 1544958000  \n",
       "1                 1543251600  \n",
       "2                 1543320000  \n",
       "3                 1543510800  \n",
       "4                 1543420800  \n",
       "\n",
       "[5 rows x 57 columns]"
      ]
     },
     "execution_count": 2,
     "metadata": {},
     "output_type": "execute_result"
    }
   ],
   "source": [
    "data = pd.read_csv(\"rideshare_kaggle.csv\")\n",
    "data.head()"
   ]
  },
  {
   "cell_type": "code",
   "execution_count": 3,
   "id": "221c7e43",
   "metadata": {},
   "outputs": [
    {
     "data": {
      "text/plain": [
       "(693071, 57)"
      ]
     },
     "execution_count": 3,
     "metadata": {},
     "output_type": "execute_result"
    }
   ],
   "source": [
    "data.shape"
   ]
  },
  {
   "cell_type": "code",
   "execution_count": 4,
   "id": "0cc0e6ec",
   "metadata": {},
   "outputs": [
    {
     "data": {
      "text/plain": [
       "Index(['id', 'timestamp', 'hour', 'day', 'month', 'datetime', 'timezone',\n",
       "       'source', 'destination', 'cab_type', 'product_id', 'name', 'price',\n",
       "       'distance', 'surge_multiplier', 'latitude', 'longitude', 'temperature',\n",
       "       'apparentTemperature', 'short_summary', 'long_summary',\n",
       "       'precipIntensity', 'precipProbability', 'humidity', 'windSpeed',\n",
       "       'windGust', 'windGustTime', 'visibility', 'temperatureHigh',\n",
       "       'temperatureHighTime', 'temperatureLow', 'temperatureLowTime',\n",
       "       'apparentTemperatureHigh', 'apparentTemperatureHighTime',\n",
       "       'apparentTemperatureLow', 'apparentTemperatureLowTime', 'icon',\n",
       "       'dewPoint', 'pressure', 'windBearing', 'cloudCover', 'uvIndex',\n",
       "       'visibility.1', 'ozone', 'sunriseTime', 'sunsetTime', 'moonPhase',\n",
       "       'precipIntensityMax', 'uvIndexTime', 'temperatureMin',\n",
       "       'temperatureMinTime', 'temperatureMax', 'temperatureMaxTime',\n",
       "       'apparentTemperatureMin', 'apparentTemperatureMinTime',\n",
       "       'apparentTemperatureMax', 'apparentTemperatureMaxTime'],\n",
       "      dtype='object')"
      ]
     },
     "execution_count": 4,
     "metadata": {},
     "output_type": "execute_result"
    }
   ],
   "source": [
    "data.columns"
   ]
  },
  {
   "cell_type": "markdown",
   "id": "7f0412d4",
   "metadata": {},
   "source": [
    "##### Removing irrelevant features"
   ]
  },
  {
   "cell_type": "code",
   "execution_count": 5,
   "id": "4305c364",
   "metadata": {},
   "outputs": [],
   "source": [
    "data = data.drop(['id', 'timestamp','timezone', 'product_id', 'surge_multiplier'], axis = 1)"
   ]
  },
  {
   "cell_type": "code",
   "execution_count": 6,
   "id": "23c17253",
   "metadata": {},
   "outputs": [],
   "source": [
    "data_x = data.drop(\"price\", axis = 1)\n",
    "data_y = data.iloc[:,8]\n",
    "data = pd.concat([data_x, data_y], axis = 1)"
   ]
  },
  {
   "cell_type": "markdown",
   "id": "264ec4da",
   "metadata": {},
   "source": [
    "##### Sample from data associated with Uber"
   ]
  },
  {
   "cell_type": "code",
   "execution_count": 7,
   "id": "23219b92",
   "metadata": {},
   "outputs": [],
   "source": [
    "data = data[data[\"cab_type\"] == \"Uber\"].reset_index().drop([\"index\", \"cab_type\"], axis = 1)"
   ]
  },
  {
   "cell_type": "code",
   "execution_count": 8,
   "id": "fe7e7c47",
   "metadata": {},
   "outputs": [
    {
     "data": {
      "text/plain": [
       "Index(['hour', 'day', 'month', 'datetime', 'source', 'destination', 'name',\n",
       "       'distance', 'latitude', 'longitude', 'temperature',\n",
       "       'apparentTemperature', 'short_summary', 'long_summary',\n",
       "       'precipIntensity', 'precipProbability', 'humidity', 'windSpeed',\n",
       "       'windGust', 'windGustTime', 'visibility', 'temperatureHigh',\n",
       "       'temperatureHighTime', 'temperatureLow', 'temperatureLowTime',\n",
       "       'apparentTemperatureHigh', 'apparentTemperatureHighTime',\n",
       "       'apparentTemperatureLow', 'apparentTemperatureLowTime', 'icon',\n",
       "       'dewPoint', 'pressure', 'windBearing', 'cloudCover', 'uvIndex',\n",
       "       'visibility.1', 'ozone', 'sunriseTime', 'sunsetTime', 'moonPhase',\n",
       "       'precipIntensityMax', 'uvIndexTime', 'temperatureMin',\n",
       "       'temperatureMinTime', 'temperatureMax', 'temperatureMaxTime',\n",
       "       'apparentTemperatureMin', 'apparentTemperatureMinTime',\n",
       "       'apparentTemperatureMax', 'apparentTemperatureMaxTime', 'price'],\n",
       "      dtype='object')"
      ]
     },
     "execution_count": 8,
     "metadata": {},
     "output_type": "execute_result"
    }
   ],
   "source": [
    "data.columns"
   ]
  },
  {
   "cell_type": "markdown",
   "id": "deee21b6",
   "metadata": {},
   "source": [
    "# EDA"
   ]
  },
  {
   "cell_type": "markdown",
   "id": "976545bc",
   "metadata": {},
   "source": [
    "### Data Visualization"
   ]
  },
  {
   "cell_type": "code",
   "execution_count": 9,
   "id": "1042bf5a",
   "metadata": {},
   "outputs": [
    {
     "data": {
      "text/plain": [
       "<AxesSubplot:xlabel='count', ylabel='icon'>"
      ]
     },
     "execution_count": 9,
     "metadata": {},
     "output_type": "execute_result"
    },
    {
     "data": {
      "image/png": "[encoded data removed]",
      "text/plain": [
       "<Figure size 1440x864 with 1 Axes>"
      ]
     },
     "metadata": {
      "needs_background": "light"
     },
     "output_type": "display_data"
    }
   ],
   "source": [
    "fig = plt.figure(figsize = (20,12))\n",
    "plt.xlim(2000, 150000)\n",
    "sns.countplot(y = \"icon\", data = data)"
   ]
  },
  {
   "cell_type": "code",
   "execution_count": 10,
   "id": "361b5390",
   "metadata": {},
   "outputs": [
    {
     "data": {
      "text/plain": [
       "<seaborn.axisgrid.FacetGrid at 0x2aa0d7c2850>"
      ]
     },
     "execution_count": 10,
     "metadata": {},
     "output_type": "execute_result"
    },
    {
     "data": {
      "image/png": "[encoded data removed]",
      "text/plain": [
       "<Figure size 440.375x360 with 1 Axes>"
      ]
     },
     "metadata": {
      "needs_background": "light"
     },
     "output_type": "display_data"
    }
   ],
   "source": [
    "sns.catplot(x = \"icon\", y = \"distance\", hue = \"name\",kind = \"bar\", data = data[(data[\"name\"] == \"UberXL\") | (data[\"name\"] == \"UberX\") | (data[\"name\"] == \"UberPool\")])"
   ]
  },
  {
   "cell_type": "code",
   "execution_count": 11,
   "id": "49f63098",
   "metadata": {},
   "outputs": [
    {
     "data": {
      "text/plain": [
       "<seaborn.axisgrid.FacetGrid at 0x2aa0d7e8a30>"
      ]
     },
     "execution_count": 11,
     "metadata": {},
     "output_type": "execute_result"
    },
    {
     "data": {
      "image/png": "[encoded data removed]",
      "text/plain": [
       "<Figure size 446.75x360 with 1 Axes>"
      ]
     },
     "metadata": {
      "needs_background": "light"
     },
     "output_type": "display_data"
    }
   ],
   "source": [
    "sns.catplot(x = \"icon\", y = \"distance\", hue = \"name\",kind = \"bar\", data = data[(data[\"name\"] == \"Black\") | (data[\"name\"] == \"Black SUV\")])"
   ]
  },
  {
   "cell_type": "code",
   "execution_count": 12,
   "id": "3d5d4ba7",
   "metadata": {},
   "outputs": [
    {
     "data": {
      "text/plain": [
       "<seaborn.axisgrid.FacetGrid at 0x2aa10af5d90>"
      ]
     },
     "execution_count": 12,
     "metadata": {},
     "output_type": "execute_result"
    },
    {
     "data": {
      "image/png": "[encoded data removed]",
      "text/plain": [
       "<Figure size 418.5x360 with 1 Axes>"
      ]
     },
     "metadata": {
      "needs_background": "light"
     },
     "output_type": "display_data"
    }
   ],
   "source": [
    "sns.catplot(x = \"icon\", y = \"distance\", hue = \"name\",kind = \"bar\", data = data[(data[\"name\"] == \"Taxi\") | (data[\"name\"] == \"WAV\")])"
   ]
  },
  {
   "cell_type": "markdown",
   "id": "1ea2d7fb",
   "metadata": {},
   "source": [
    "### Data manipulation"
   ]
  },
  {
   "cell_type": "code",
   "execution_count": 13,
   "id": "92c82729",
   "metadata": {},
   "outputs": [
    {
     "data": {
      "text/html": [
       "<div>\n",
       "<style scoped>\n",
       "    .dataframe tbody tr th:only-of-type {\n",
       "        vertical-align: middle;\n",
       "    }\n",
       "\n",
       "    .dataframe tbody tr th {\n",
       "        vertical-align: top;\n",
       "    }\n",
       "\n",
       "    .dataframe thead th {\n",
       "        text-align: right;\n",
       "    }\n",
       "</style>\n",
       "<table border=\"1\" class=\"dataframe\">\n",
       "  <thead>\n",
       "    <tr style=\"text-align: right;\">\n",
       "      <th></th>\n",
       "      <th>distance</th>\n",
       "      <th>temperatureMin</th>\n",
       "      <th>temperatureMax</th>\n",
       "    </tr>\n",
       "    <tr>\n",
       "      <th>name</th>\n",
       "      <th></th>\n",
       "      <th></th>\n",
       "      <th></th>\n",
       "    </tr>\n",
       "  </thead>\n",
       "  <tbody>\n",
       "    <tr>\n",
       "      <th>Black</th>\n",
       "      <td>2.191399</td>\n",
       "      <td>33.451900</td>\n",
       "      <td>45.243680</td>\n",
       "    </tr>\n",
       "    <tr>\n",
       "      <th>Black SUV</th>\n",
       "      <td>2.191378</td>\n",
       "      <td>33.475143</td>\n",
       "      <td>45.275384</td>\n",
       "    </tr>\n",
       "    <tr>\n",
       "      <th>Taxi</th>\n",
       "      <td>2.191383</td>\n",
       "      <td>33.476342</td>\n",
       "      <td>45.277155</td>\n",
       "    </tr>\n",
       "    <tr>\n",
       "      <th>UberPool</th>\n",
       "      <td>2.191396</td>\n",
       "      <td>33.453702</td>\n",
       "      <td>45.253569</td>\n",
       "    </tr>\n",
       "    <tr>\n",
       "      <th>UberX</th>\n",
       "      <td>2.191390</td>\n",
       "      <td>33.423663</td>\n",
       "      <td>45.221049</td>\n",
       "    </tr>\n",
       "    <tr>\n",
       "      <th>UberXL</th>\n",
       "      <td>2.191378</td>\n",
       "      <td>33.426031</td>\n",
       "      <td>45.219920</td>\n",
       "    </tr>\n",
       "    <tr>\n",
       "      <th>WAV</th>\n",
       "      <td>2.191378</td>\n",
       "      <td>33.447161</td>\n",
       "      <td>45.237931</td>\n",
       "    </tr>\n",
       "  </tbody>\n",
       "</table>\n",
       "</div>"
      ],
      "text/plain": [
       "           distance  temperatureMin  temperatureMax\n",
       "name                                               \n",
       "Black      2.191399       33.451900       45.243680\n",
       "Black SUV  2.191378       33.475143       45.275384\n",
       "Taxi       2.191383       33.476342       45.277155\n",
       "UberPool   2.191396       33.453702       45.253569\n",
       "UberX      2.191390       33.423663       45.221049\n",
       "UberXL     2.191378       33.426031       45.219920\n",
       "WAV        2.191378       33.447161       45.237931"
      ]
     },
     "execution_count": 13,
     "metadata": {},
     "output_type": "execute_result"
    }
   ],
   "source": [
    "data[[\"name\",\"distance\",\"temperatureMin\", \"temperatureMax\"]].groupby([\"name\"]).mean()"
   ]
  },
  {
   "cell_type": "code",
   "execution_count": 14,
   "id": "7e96d92a",
   "metadata": {},
   "outputs": [
    {
     "data": {
      "text/html": [
       "<div>\n",
       "<style scoped>\n",
       "    .dataframe tbody tr th:only-of-type {\n",
       "        vertical-align: middle;\n",
       "    }\n",
       "\n",
       "    .dataframe tbody tr th {\n",
       "        vertical-align: top;\n",
       "    }\n",
       "\n",
       "    .dataframe thead th {\n",
       "        text-align: right;\n",
       "    }\n",
       "</style>\n",
       "<table border=\"1\" class=\"dataframe\">\n",
       "  <thead>\n",
       "    <tr style=\"text-align: right;\">\n",
       "      <th></th>\n",
       "      <th>precipProbability</th>\n",
       "      <th>precipIntensity</th>\n",
       "    </tr>\n",
       "    <tr>\n",
       "      <th>name</th>\n",
       "      <th></th>\n",
       "      <th></th>\n",
       "    </tr>\n",
       "  </thead>\n",
       "  <tbody>\n",
       "    <tr>\n",
       "      <th>Black</th>\n",
       "      <td>0.148658</td>\n",
       "      <td>0.009139</td>\n",
       "    </tr>\n",
       "    <tr>\n",
       "      <th>Black SUV</th>\n",
       "      <td>0.147089</td>\n",
       "      <td>0.008988</td>\n",
       "    </tr>\n",
       "    <tr>\n",
       "      <th>Taxi</th>\n",
       "      <td>0.147634</td>\n",
       "      <td>0.009071</td>\n",
       "    </tr>\n",
       "    <tr>\n",
       "      <th>UberPool</th>\n",
       "      <td>0.146511</td>\n",
       "      <td>0.008881</td>\n",
       "    </tr>\n",
       "    <tr>\n",
       "      <th>UberX</th>\n",
       "      <td>0.146558</td>\n",
       "      <td>0.008895</td>\n",
       "    </tr>\n",
       "    <tr>\n",
       "      <th>UberXL</th>\n",
       "      <td>0.145548</td>\n",
       "      <td>0.008896</td>\n",
       "    </tr>\n",
       "    <tr>\n",
       "      <th>WAV</th>\n",
       "      <td>0.146176</td>\n",
       "      <td>0.008905</td>\n",
       "    </tr>\n",
       "  </tbody>\n",
       "</table>\n",
       "</div>"
      ],
      "text/plain": [
       "           precipProbability  precipIntensity\n",
       "name                                         \n",
       "Black               0.148658         0.009139\n",
       "Black SUV           0.147089         0.008988\n",
       "Taxi                0.147634         0.009071\n",
       "UberPool            0.146511         0.008881\n",
       "UberX               0.146558         0.008895\n",
       "UberXL              0.145548         0.008896\n",
       "WAV                 0.146176         0.008905"
      ]
     },
     "execution_count": 14,
     "metadata": {},
     "output_type": "execute_result"
    }
   ],
   "source": [
    "data[[\"name\", 'precipProbability', 'precipIntensity']].groupby([\"name\"]).mean()"
   ]
  },
  {
   "cell_type": "code",
   "execution_count": 15,
   "id": "b3b5d227",
   "metadata": {},
   "outputs": [
    {
     "data": {
      "text/html": [
       "<div>\n",
       "<style scoped>\n",
       "    .dataframe tbody tr th:only-of-type {\n",
       "        vertical-align: middle;\n",
       "    }\n",
       "\n",
       "    .dataframe tbody tr th {\n",
       "        vertical-align: top;\n",
       "    }\n",
       "\n",
       "    .dataframe thead th {\n",
       "        text-align: right;\n",
       "    }\n",
       "</style>\n",
       "<table border=\"1\" class=\"dataframe\">\n",
       "  <thead>\n",
       "    <tr style=\"text-align: right;\">\n",
       "      <th></th>\n",
       "      <th></th>\n",
       "      <th>humidity</th>\n",
       "      <th>windSpeed</th>\n",
       "      <th>windGust</th>\n",
       "    </tr>\n",
       "    <tr>\n",
       "      <th>name</th>\n",
       "      <th>month</th>\n",
       "      <th></th>\n",
       "      <th></th>\n",
       "      <th></th>\n",
       "    </tr>\n",
       "  </thead>\n",
       "  <tbody>\n",
       "    <tr>\n",
       "      <th rowspan=\"2\" valign=\"top\">Black</th>\n",
       "      <th>11</th>\n",
       "      <td>0.745498</td>\n",
       "      <td>7.467438</td>\n",
       "      <td>10.207559</td>\n",
       "    </tr>\n",
       "    <tr>\n",
       "      <th>12</th>\n",
       "      <td>0.738597</td>\n",
       "      <td>5.306961</td>\n",
       "      <td>7.276161</td>\n",
       "    </tr>\n",
       "    <tr>\n",
       "      <th rowspan=\"2\" valign=\"top\">Black SUV</th>\n",
       "      <th>11</th>\n",
       "      <td>0.744968</td>\n",
       "      <td>7.477981</td>\n",
       "      <td>10.221739</td>\n",
       "    </tr>\n",
       "    <tr>\n",
       "      <th>12</th>\n",
       "      <td>0.739494</td>\n",
       "      <td>5.311679</td>\n",
       "      <td>7.301344</td>\n",
       "    </tr>\n",
       "    <tr>\n",
       "      <th rowspan=\"2\" valign=\"top\">Taxi</th>\n",
       "      <th>11</th>\n",
       "      <td>0.745884</td>\n",
       "      <td>7.437383</td>\n",
       "      <td>10.169528</td>\n",
       "    </tr>\n",
       "    <tr>\n",
       "      <th>12</th>\n",
       "      <td>0.739022</td>\n",
       "      <td>5.299795</td>\n",
       "      <td>7.265235</td>\n",
       "    </tr>\n",
       "    <tr>\n",
       "      <th rowspan=\"2\" valign=\"top\">UberPool</th>\n",
       "      <th>11</th>\n",
       "      <td>0.743970</td>\n",
       "      <td>7.450539</td>\n",
       "      <td>10.181427</td>\n",
       "    </tr>\n",
       "    <tr>\n",
       "      <th>12</th>\n",
       "      <td>0.739545</td>\n",
       "      <td>5.306338</td>\n",
       "      <td>7.273438</td>\n",
       "    </tr>\n",
       "    <tr>\n",
       "      <th rowspan=\"2\" valign=\"top\">UberX</th>\n",
       "      <th>11</th>\n",
       "      <td>0.744837</td>\n",
       "      <td>7.436100</td>\n",
       "      <td>10.155595</td>\n",
       "    </tr>\n",
       "    <tr>\n",
       "      <th>12</th>\n",
       "      <td>0.738536</td>\n",
       "      <td>5.338477</td>\n",
       "      <td>7.341719</td>\n",
       "    </tr>\n",
       "    <tr>\n",
       "      <th rowspan=\"2\" valign=\"top\">UberXL</th>\n",
       "      <th>11</th>\n",
       "      <td>0.744898</td>\n",
       "      <td>7.436583</td>\n",
       "      <td>10.151311</td>\n",
       "    </tr>\n",
       "    <tr>\n",
       "      <th>12</th>\n",
       "      <td>0.738563</td>\n",
       "      <td>5.296979</td>\n",
       "      <td>7.258975</td>\n",
       "    </tr>\n",
       "    <tr>\n",
       "      <th rowspan=\"2\" valign=\"top\">WAV</th>\n",
       "      <th>11</th>\n",
       "      <td>0.744607</td>\n",
       "      <td>7.428919</td>\n",
       "      <td>10.159479</td>\n",
       "    </tr>\n",
       "    <tr>\n",
       "      <th>12</th>\n",
       "      <td>0.738804</td>\n",
       "      <td>5.314374</td>\n",
       "      <td>7.277432</td>\n",
       "    </tr>\n",
       "  </tbody>\n",
       "</table>\n",
       "</div>"
      ],
      "text/plain": [
       "                 humidity  windSpeed   windGust\n",
       "name      month                                \n",
       "Black     11     0.745498   7.467438  10.207559\n",
       "          12     0.738597   5.306961   7.276161\n",
       "Black SUV 11     0.744968   7.477981  10.221739\n",
       "          12     0.739494   5.311679   7.301344\n",
       "Taxi      11     0.745884   7.437383  10.169528\n",
       "          12     0.739022   5.299795   7.265235\n",
       "UberPool  11     0.743970   7.450539  10.181427\n",
       "          12     0.739545   5.306338   7.273438\n",
       "UberX     11     0.744837   7.436100  10.155595\n",
       "          12     0.738536   5.338477   7.341719\n",
       "UberXL    11     0.744898   7.436583  10.151311\n",
       "          12     0.738563   5.296979   7.258975\n",
       "WAV       11     0.744607   7.428919  10.159479\n",
       "          12     0.738804   5.314374   7.277432"
      ]
     },
     "execution_count": 15,
     "metadata": {},
     "output_type": "execute_result"
    }
   ],
   "source": [
    "data[[\"name\",\"month\",'humidity', 'windSpeed', 'windGust']].groupby([\"name\", 'month']).mean()"
   ]
  },
  {
   "cell_type": "markdown",
   "id": "2f5ae79b",
   "metadata": {},
   "source": [
    "# Data Preparation"
   ]
  },
  {
   "cell_type": "markdown",
   "id": "4809b90a",
   "metadata": {},
   "source": [
    "### Data Integration and Combining"
   ]
  },
  {
   "cell_type": "markdown",
   "id": "7f06531d",
   "metadata": {},
   "source": [
    "##### Convert Datetime values into month, day, hour, and minute features"
   ]
  },
  {
   "cell_type": "code",
   "execution_count": 16,
   "id": "f345751c",
   "metadata": {},
   "outputs": [],
   "source": [
    "data['datetime_'] = pd.to_datetime(data.datetime, format='%Y-%m-%d %H:%M:%S')\n",
    "data = data.drop(\"datetime\", axis = 1)"
   ]
  },
  {
   "cell_type": "code",
   "execution_count": 17,
   "id": "fdd15b22",
   "metadata": {},
   "outputs": [],
   "source": [
    "data[\"minute\"] = data[\"datetime_\"].dt.minute"
   ]
  },
  {
   "cell_type": "code",
   "execution_count": 18,
   "id": "6d1d5bcf",
   "metadata": {},
   "outputs": [],
   "source": [
    "data_min = data.iloc[:,-1]\n",
    "data_xx = data.iloc[:,:-2]\n",
    "data = pd.concat([data_min, data_xx], axis = 1)"
   ]
  },
  {
   "cell_type": "code",
   "execution_count": 19,
   "id": "fda32815",
   "metadata": {},
   "outputs": [
    {
     "data": {
      "text/plain": [
       "Index(['minute', 'hour', 'day', 'month', 'source', 'destination', 'name',\n",
       "       'distance', 'latitude', 'longitude', 'temperature',\n",
       "       'apparentTemperature', 'short_summary', 'long_summary',\n",
       "       'precipIntensity', 'precipProbability', 'humidity', 'windSpeed',\n",
       "       'windGust', 'windGustTime', 'visibility', 'temperatureHigh',\n",
       "       'temperatureHighTime', 'temperatureLow', 'temperatureLowTime',\n",
       "       'apparentTemperatureHigh', 'apparentTemperatureHighTime',\n",
       "       'apparentTemperatureLow', 'apparentTemperatureLowTime', 'icon',\n",
       "       'dewPoint', 'pressure', 'windBearing', 'cloudCover', 'uvIndex',\n",
       "       'visibility.1', 'ozone', 'sunriseTime', 'sunsetTime', 'moonPhase',\n",
       "       'precipIntensityMax', 'uvIndexTime', 'temperatureMin',\n",
       "       'temperatureMinTime', 'temperatureMax', 'temperatureMaxTime',\n",
       "       'apparentTemperatureMin', 'apparentTemperatureMinTime',\n",
       "       'apparentTemperatureMax', 'apparentTemperatureMaxTime', 'price'],\n",
       "      dtype='object')"
      ]
     },
     "execution_count": 19,
     "metadata": {},
     "output_type": "execute_result"
    }
   ],
   "source": [
    "data.columns"
   ]
  },
  {
   "cell_type": "code",
   "execution_count": 20,
   "id": "ce4d2d82",
   "metadata": {},
   "outputs": [],
   "source": [
    "#apparentTemperatureMaxTime\n",
    "list_of_atmaxt = []\n",
    "for i in data.iloc[:,-2]:\n",
    "    j = datetime.fromtimestamp(i).strftime('%d-%m-%y %H:%M')\n",
    "    list_of_atmaxt.append(j)\n",
    "\n",
    "#apparentTemperatureMinTime\n",
    "list_of_atmint = []\n",
    "for k in data.iloc[:,-4]:\n",
    "    l = datetime.fromtimestamp(k).strftime('%d-%m-%y %H:%M')\n",
    "    list_of_atmint.append(l)\n",
    "    \n",
    "#temperatureMaxTime  \n",
    "list_of_tmaxt = []\n",
    "for a in data.iloc[:,-6]:\n",
    "    b = datetime.fromtimestamp(a).strftime('%d-%m-%y %H:%M')\n",
    "    list_of_tmaxt.append(b)\n",
    "\n",
    "#temperatureMinTime\n",
    "list_of_tmint = []\n",
    "for c in data.iloc[:,-8]:\n",
    "    d = datetime.fromtimestamp(c).strftime('%d-%m-%y %H:%M')\n",
    "    list_of_tmint.append(d)\n",
    "\n",
    "\n",
    "#uvIndexTime\n",
    "list_of_uvit = []\n",
    "for e in data.iloc[:,-10]:\n",
    "    f = datetime.fromtimestamp(e).strftime('%d-%m-%y %H:%M')\n",
    "    list_of_uvit.append(f)\n",
    "\n",
    "\n",
    "\n",
    "#sunsetTime\n",
    "list_of_sst = []\n",
    "for g in data.iloc[:,-13]:\n",
    "    h = datetime.fromtimestamp(g).strftime('%d-%m-%y %H:%M')\n",
    "    list_of_sst.append(h)\n",
    "\n",
    "\n",
    "#sunriseTime\n",
    "list_of_srt = []\n",
    "for m in data.iloc[:,-14]:\n",
    "    n = datetime.fromtimestamp(m).strftime('%d-%m-%y %H:%M')\n",
    "    list_of_srt.append(n)\n",
    "\n",
    "\n",
    "#apparentTemperatureLowTime\n",
    "list_of_atlt = []\n",
    "for o in data.iloc[:,-23]:\n",
    "    p = datetime.fromtimestamp(o).strftime('%d-%m-%y %H:%M')\n",
    "    list_of_atlt.append(p)\n",
    "\n",
    "#apparentTemperatureHighTime\n",
    "list_of_atht = []\n",
    "for q in data.iloc[:,-25]:\n",
    "    r = datetime.fromtimestamp(q).strftime('%d-%m-%y %H:%M')\n",
    "    list_of_atht.append(r)\n",
    "\n",
    "\n",
    "#temperatureLowTime\n",
    "list_of_tlt = []\n",
    "for s in data.iloc[:,-27]:\n",
    "    t = datetime.fromtimestamp(s).strftime('%d-%m-%y %H:%M')\n",
    "    list_of_tlt.append(t)\n",
    "\n",
    "\n",
    "#temperatureHighTime\n",
    "list_of_tht = []\n",
    "for u in data.iloc[:,-29]:\n",
    "    v = datetime.fromtimestamp(u).strftime('%d-%m-%y %H:%M')\n",
    "    list_of_tht.append(v)\n",
    "\n",
    "#windGustTime\n",
    "list_of_wgt = []\n",
    "for w in data.iloc[:,-32]:\n",
    "    x = datetime.fromtimestamp(w).strftime('%d-%m-%y %H:%M')\n",
    "    list_of_wgt.append(x)    \n",
    "    \n",
    "data_times = pd.DataFrame({\"apparentTemperatureMaxTime\" : list_of_atmaxt, \n",
    "                           \"apparentTemperatureMinTime\" : list_of_atmint,\n",
    "                           \"temperatureMaxTime\" : list_of_tmaxt,\n",
    "                           \"temperatureMinTime\" : list_of_tmint, \n",
    "                           \"uvIndexTime\" : list_of_uvit, \n",
    "                           \"sunsetTime\" : list_of_sst, \n",
    "                           \"sunriseTime\" : list_of_srt,\n",
    "                           \"apparentTemperatureLowTime\" : list_of_atlt,\n",
    "                           \"apparentTemperatureHighTime\" : list_of_atht, \n",
    "                           \"temperatureLowTime\" : list_of_tlt, \n",
    "                           \"temperatureHighTime\" : list_of_tht,\n",
    "                           \"windGustTime\" : list_of_wgt})\n",
    "\n",
    "data_xxx = data.drop([\"apparentTemperatureMaxTime\",\n",
    "                      \"apparentTemperatureMinTime\",\n",
    "                      \"temperatureMaxTime\", \n",
    "                      \"temperatureMinTime\", \n",
    "                      \"uvIndexTime\", \n",
    "                      \"sunsetTime\", \n",
    "                      \"sunriseTime\", \n",
    "                      \"apparentTemperatureLowTime\", \n",
    "                      \"apparentTemperatureHighTime\", \n",
    "                      \"temperatureLowTime\", \n",
    "                      \"temperatureHighTime\", \n",
    "                      \"windGustTime\"], axis = 1)\n",
    "\n",
    "data1 = pd.concat([data_xxx, data_times], axis = 1)"
   ]
  },
  {
   "cell_type": "code",
   "execution_count": 21,
   "id": "7949be61",
   "metadata": {},
   "outputs": [],
   "source": [
    "data1['apparentTemperatureMaxTime_'] = pd.to_datetime(data1.apparentTemperatureMaxTime, format='%d-%m-%y %H:%M')\n",
    "\n",
    "data1['apparentTemperatureMinTime_'] = pd.to_datetime(data1.apparentTemperatureMinTime, format='%d-%m-%y %H:%M')\n",
    "\n",
    "data1['temperatureMaxTime_'] = pd.to_datetime(data1.temperatureMaxTime, format='%d-%m-%y %H:%M')\n",
    "\n",
    "data1['temperatureMinTime_'] = pd.to_datetime(data1.temperatureMinTime, format='%d-%m-%y %H:%M')\n",
    "\n",
    "data1['uvIndexTime_'] = pd.to_datetime(data1.uvIndexTime, format='%d-%m-%y %H:%M')\n",
    "\n",
    "data1['sunsetTime_'] = pd.to_datetime(data1.sunsetTime, format='%d-%m-%y %H:%M')\n",
    "\n",
    "data1['sunriseTime_'] = pd.to_datetime(data1.sunriseTime, format='%d-%m-%y %H:%M')\n",
    "\n",
    "data1['apparentTemperatureLowTime_'] = pd.to_datetime(data1.apparentTemperatureLowTime, format='%d-%m-%y %H:%M')\n",
    "\n",
    "data1['apparentTemperatureHighTime_'] = pd.to_datetime(data1.apparentTemperatureHighTime, format='%d-%m-%y %H:%M')\n",
    "\n",
    "data1['temperatureLowTime_'] = pd.to_datetime(data1.temperatureLowTime, format='%d-%m-%y %H:%M')\n",
    "\n",
    "data1['temperatureHighTime_'] = pd.to_datetime(data1.temperatureHighTime, format='%d-%m-%y %H:%M')\n",
    "\n",
    "data1['windGustTime_'] = pd.to_datetime(data1.windGustTime, format='%d-%m-%y %H:%M')"
   ]
  },
  {
   "cell_type": "code",
   "execution_count": 22,
   "id": "aa30e387",
   "metadata": {},
   "outputs": [],
   "source": [
    "data1[\"atmaxt_month\"] = data1[\"apparentTemperatureMaxTime_\"].dt.month"
   ]
  },
  {
   "cell_type": "code",
   "execution_count": 23,
   "id": "1c737eaf",
   "metadata": {},
   "outputs": [],
   "source": [
    "#apparentTemperatureMaxTime\n",
    "data1[\"atmaxt_day\"] = data1[\"apparentTemperatureMaxTime_\"].dt.day\n",
    "data1[\"atmaxt_hour\"] = data1[\"apparentTemperatureMaxTime_\"].dt.hour\n",
    "data1[\"atmaxt_minute\"] = data1[\"apparentTemperatureMaxTime_\"].dt.minute\n",
    "\n",
    "#apparentTemperatureMinTime\n",
    "data1[\"atmint_month\"] = data1[\"apparentTemperatureMinTime_\"].dt.month\n",
    "data1[\"atmint_day\"] = data1[\"apparentTemperatureMinTime_\"].dt.day\n",
    "data1[\"atmint_hour\"] = data1[\"apparentTemperatureMinTime_\"].dt.hour\n",
    "data1[\"atmint_minute\"] = data1[\"apparentTemperatureMinTime_\"].dt.minute\n",
    "\n",
    "#temperatureMaxTime\n",
    "data1[\"tmaxt_month\"] = data1[\"temperatureMaxTime_\"].dt.month\n",
    "data1[\"tmaxt_day\"] = data1[\"temperatureMaxTime_\"].dt.day\n",
    "data1[\"tmaxt_hour\"] = data1[\"temperatureMaxTime_\"].dt.hour\n",
    "data1[\"tmaxt_minute\"] = data1[\"temperatureMaxTime_\"].dt.minute\n",
    "\n",
    "#temperatureMinTime\n",
    "data1[\"tmint_month\"] = data1[\"temperatureMinTime_\"].dt.month\n",
    "data1[\"tmint_day\"] = data1[\"temperatureMinTime_\"].dt.day\n",
    "data1[\"tmint_hour\"] = data1[\"temperatureMinTime_\"].dt.hour\n",
    "data1[\"tmint_minute\"] = data1[\"temperatureMinTime_\"].dt.minute\n",
    "\n",
    "#uvIndexTime\n",
    "data1[\"uvit_month\"] = data1[\"uvIndexTime_\"].dt.month\n",
    "data1[\"uvit_day\"] = data1[\"uvIndexTime_\"].dt.day\n",
    "data1[\"uvit_hour\"] = data1[\"uvIndexTime_\"].dt.hour\n",
    "data1[\"uvit_minute\"] = data1[\"uvIndexTime_\"].dt.minute\n",
    "\n",
    "#sunsetTime\n",
    "data1[\"sst_month\"] = data1[\"sunsetTime_\"].dt.month\n",
    "data1[\"sst_day\"] = data1[\"sunsetTime_\"].dt.day\n",
    "data1[\"sst_hour\"] = data1[\"sunsetTime_\"].dt.hour\n",
    "data1[\"sst_minute\"] = data1[\"sunsetTime_\"].dt.minute\n",
    "\n",
    "#sunriseTime\n",
    "data1[\"srt_month\"] = data1[\"sunriseTime_\"].dt.month\n",
    "data1[\"srt_day\"] = data1[\"sunriseTime_\"].dt.day\n",
    "data1[\"srt_hour\"] = data1[\"sunriseTime_\"].dt.hour\n",
    "data1[\"srt_minute\"] = data1[\"sunriseTime_\"].dt.minute\n",
    "\n",
    "#apparentTemperatureLowTime\n",
    "data1[\"atlt_month\"] = data1[\"apparentTemperatureLowTime_\"].dt.month\n",
    "data1[\"atlt_day\"] = data1[\"apparentTemperatureLowTime_\"].dt.day\n",
    "data1[\"atlt_hour\"] = data1[\"apparentTemperatureLowTime_\"].dt.hour\n",
    "data1[\"atlt_minute\"] = data1[\"apparentTemperatureLowTime_\"].dt.minute\n",
    "\n",
    "#apparentTemperatureHighTime\n",
    "data1[\"atht_month\"] = data1[\"apparentTemperatureHighTime_\"].dt.month\n",
    "data1[\"atht_day\"] = data1[\"apparentTemperatureHighTime_\"].dt.day\n",
    "data1[\"atht_hour\"] = data1[\"apparentTemperatureHighTime_\"].dt.hour\n",
    "data1[\"atht_minute\"] = data1[\"apparentTemperatureHighTime_\"].dt.minute\n",
    "\n",
    "#temperatureLowTime\n",
    "data1[\"tlt_month\"] = data1[\"temperatureLowTime_\"].dt.month\n",
    "data1[\"tlt_day\"] = data1[\"temperatureLowTime_\"].dt.day\n",
    "data1[\"tlt_hour\"] = data1[\"temperatureLowTime_\"].dt.hour\n",
    "data1[\"tlt_minute\"] = data1[\"temperatureLowTime_\"].dt.minute\n",
    "\n",
    "#temperatureHighTime\n",
    "data1[\"tht_month\"] = data1[\"temperatureHighTime_\"].dt.month\n",
    "data1[\"tht_day\"] = data1[\"temperatureHighTime_\"].dt.day\n",
    "data1[\"tht_hour\"] = data1[\"temperatureHighTime_\"].dt.hour\n",
    "data1[\"tht_minute\"] = data1[\"temperatureHighTime_\"].dt.minute\n",
    "\n",
    "#WindGustTime\n",
    "data1[\"wgt_month\"] = data1[\"windGustTime_\"].dt.month\n",
    "data1[\"wgt_day\"] = data1[\"windGustTime_\"].dt.day\n",
    "data1[\"wgt_hour\"] = data1[\"windGustTime_\"].dt.hour\n",
    "data1[\"wgt_minute\"] = data1[\"windGustTime_\"].dt.minute\n"
   ]
  },
  {
   "cell_type": "code",
   "execution_count": 24,
   "id": "f5b8293b",
   "metadata": {},
   "outputs": [],
   "source": [
    "data1 = data1.drop([\"apparentTemperatureMaxTime\",\n",
    "                      \"apparentTemperatureMinTime\",\n",
    "                      \"temperatureMaxTime\", \n",
    "                      \"temperatureMinTime\", \n",
    "                      \"uvIndexTime\", \n",
    "                      \"sunsetTime\", \n",
    "                      \"sunriseTime\", \n",
    "                      \"apparentTemperatureLowTime\", \n",
    "                      \"apparentTemperatureHighTime\", \n",
    "                      \"temperatureLowTime\", \n",
    "                      \"temperatureHighTime\",\n",
    "                      \"apparentTemperatureMaxTime_\",\n",
    "                      \"apparentTemperatureMinTime_\",\n",
    "                      \"temperatureMaxTime_\", \n",
    "                      \"temperatureMinTime_\", \n",
    "                      \"uvIndexTime_\", \n",
    "                      \"sunsetTime_\", \n",
    "                      \"sunriseTime_\", \n",
    "                      \"apparentTemperatureLowTime_\", \n",
    "                      \"apparentTemperatureHighTime_\", \n",
    "                      \"temperatureLowTime_\", \n",
    "                      \"temperatureHighTime_\", \n",
    "                      \"windGustTime_\"], axis = 1)"
   ]
  },
  {
   "cell_type": "code",
   "execution_count": 25,
   "id": "e5bcacf8",
   "metadata": {},
   "outputs": [],
   "source": [
    "data1['temperatureMean'] = (data1['temperatureMax'] + data1['temperatureMin']) / 2\n",
    "\n",
    "data1['apparentTemperatureMean'] = (data1['apparentTemperatureMax'] + data1['apparentTemperatureMin']) / 2"
   ]
  },
  {
   "cell_type": "code",
   "execution_count": 26,
   "id": "50cb5c65",
   "metadata": {},
   "outputs": [
    {
     "data": {
      "text/plain": [
       "Index(['minute', 'hour', 'day', 'month', 'source', 'destination', 'name',\n",
       "       'distance', 'latitude', 'longitude', 'temperature',\n",
       "       'apparentTemperature', 'short_summary', 'long_summary',\n",
       "       'precipIntensity', 'precipProbability', 'humidity', 'windSpeed',\n",
       "       'windGust', 'visibility', 'temperatureHigh', 'temperatureLow',\n",
       "       'apparentTemperatureHigh', 'apparentTemperatureLow', 'icon', 'dewPoint',\n",
       "       'pressure', 'windBearing', 'cloudCover', 'uvIndex', 'visibility.1',\n",
       "       'ozone', 'moonPhase', 'precipIntensityMax', 'temperatureMin',\n",
       "       'temperatureMax', 'apparentTemperatureMin', 'apparentTemperatureMax',\n",
       "       'price', 'windGustTime', 'atmaxt_month', 'atmaxt_day', 'atmaxt_hour',\n",
       "       'atmaxt_minute', 'atmint_month', 'atmint_day', 'atmint_hour',\n",
       "       'atmint_minute', 'tmaxt_month', 'tmaxt_day', 'tmaxt_hour',\n",
       "       'tmaxt_minute', 'tmint_month', 'tmint_day', 'tmint_hour',\n",
       "       'tmint_minute', 'uvit_month', 'uvit_day', 'uvit_hour', 'uvit_minute',\n",
       "       'sst_month', 'sst_day', 'sst_hour', 'sst_minute', 'srt_month',\n",
       "       'srt_day', 'srt_hour', 'srt_minute', 'atlt_month', 'atlt_day',\n",
       "       'atlt_hour', 'atlt_minute', 'atht_month', 'atht_day', 'atht_hour',\n",
       "       'atht_minute', 'tlt_month', 'tlt_day', 'tlt_hour', 'tlt_minute',\n",
       "       'tht_month', 'tht_day', 'tht_hour', 'tht_minute', 'wgt_month',\n",
       "       'wgt_day', 'wgt_hour', 'wgt_minute', 'temperatureMean',\n",
       "       'apparentTemperatureMean'],\n",
       "      dtype='object')"
      ]
     },
     "execution_count": 26,
     "metadata": {},
     "output_type": "execute_result"
    }
   ],
   "source": [
    "data1.columns"
   ]
  },
  {
   "cell_type": "markdown",
   "id": "d76a5f97",
   "metadata": {},
   "source": [
    "##### Convert Latitude and Longtitude to cartesian (x, y, z) Scale"
   ]
  },
  {
   "cell_type": "code",
   "execution_count": 27,
   "id": "f27c4771",
   "metadata": {},
   "outputs": [],
   "source": [
    "# Define function of Converting lat/long to cartesian\n",
    "\n",
    "def get_cartesian(lat,long):\n",
    "    \n",
    "    lat, long = np.deg2rad(lat), np.deg2rad(long)\n",
    "    \n",
    "    R = 6371           # radius of the earth\n",
    "    \n",
    "    x = R * np.cos(lat) * np.cos(long)\n",
    "    y = R * np.cos(lat) * np.sin(long)\n",
    "    z = R * np.sin(lat)\n",
    "    \n",
    "    return x,y,z"
   ]
  },
  {
   "cell_type": "code",
   "execution_count": 28,
   "id": "af8d4597",
   "metadata": {},
   "outputs": [],
   "source": [
    "x,y,z = get_cartesian(data1.iloc[:,8].values,data1.iloc[:,9].values)"
   ]
  },
  {
   "cell_type": "code",
   "execution_count": 29,
   "id": "aac1e274",
   "metadata": {},
   "outputs": [],
   "source": [
    "df_x = pd.DataFrame(x, columns = [\"X\"])\n",
    "df_y = pd.DataFrame(y, columns = [\"Y\"])\n",
    "df_z = pd.DataFrame(z, columns = [\"Z\"])"
   ]
  },
  {
   "cell_type": "code",
   "execution_count": 30,
   "id": "b80d9639",
   "metadata": {},
   "outputs": [],
   "source": [
    "data1_xxxx = data1.drop(['latitude', 'longitude'], axis = 1)"
   ]
  },
  {
   "cell_type": "code",
   "execution_count": 31,
   "id": "58c32e29",
   "metadata": {},
   "outputs": [],
   "source": [
    "data2 = pd.concat([data1_xxxx, df_x, df_y, df_z], axis = 1)"
   ]
  },
  {
   "cell_type": "code",
   "execution_count": 32,
   "id": "de0da5ce",
   "metadata": {},
   "outputs": [
    {
     "data": {
      "text/plain": [
       "Index(['minute', 'hour', 'day', 'month', 'source', 'destination', 'name',\n",
       "       'distance', 'temperature', 'apparentTemperature', 'short_summary',\n",
       "       'long_summary', 'precipIntensity', 'precipProbability', 'humidity',\n",
       "       'windSpeed', 'windGust', 'visibility', 'temperatureHigh',\n",
       "       'temperatureLow', 'apparentTemperatureHigh', 'apparentTemperatureLow',\n",
       "       'icon', 'dewPoint', 'pressure', 'windBearing', 'cloudCover', 'uvIndex',\n",
       "       'visibility.1', 'ozone', 'moonPhase', 'precipIntensityMax',\n",
       "       'temperatureMin', 'temperatureMax', 'apparentTemperatureMin',\n",
       "       'apparentTemperatureMax', 'price', 'windGustTime', 'atmaxt_month',\n",
       "       'atmaxt_day', 'atmaxt_hour', 'atmaxt_minute', 'atmint_month',\n",
       "       'atmint_day', 'atmint_hour', 'atmint_minute', 'tmaxt_month',\n",
       "       'tmaxt_day', 'tmaxt_hour', 'tmaxt_minute', 'tmint_month', 'tmint_day',\n",
       "       'tmint_hour', 'tmint_minute', 'uvit_month', 'uvit_day', 'uvit_hour',\n",
       "       'uvit_minute', 'sst_month', 'sst_day', 'sst_hour', 'sst_minute',\n",
       "       'srt_month', 'srt_day', 'srt_hour', 'srt_minute', 'atlt_month',\n",
       "       'atlt_day', 'atlt_hour', 'atlt_minute', 'atht_month', 'atht_day',\n",
       "       'atht_hour', 'atht_minute', 'tlt_month', 'tlt_day', 'tlt_hour',\n",
       "       'tlt_minute', 'tht_month', 'tht_day', 'tht_hour', 'tht_minute',\n",
       "       'wgt_month', 'wgt_day', 'wgt_hour', 'wgt_minute', 'temperatureMean',\n",
       "       'apparentTemperatureMean', 'X', 'Y', 'Z'],\n",
       "      dtype='object')"
      ]
     },
     "execution_count": 32,
     "metadata": {},
     "output_type": "execute_result"
    }
   ],
   "source": [
    "data2.columns"
   ]
  },
  {
   "cell_type": "code",
   "execution_count": 33,
   "id": "32b71235",
   "metadata": {},
   "outputs": [
    {
     "data": {
      "text/plain": [
       "(385663, 91)"
      ]
     },
     "execution_count": 33,
     "metadata": {},
     "output_type": "execute_result"
    }
   ],
   "source": [
    "data2.shape"
   ]
  },
  {
   "cell_type": "code",
   "execution_count": 34,
   "id": "39f7d2a3",
   "metadata": {},
   "outputs": [
    {
     "data": {
      "text/plain": [
       "Financial District         32620\n",
       "Theatre District           32283\n",
       "Boston University          32144\n",
       "North End                  32143\n",
       "Northeastern University    32142\n",
       "Back Bay                   32137\n",
       "Fenway                     32137\n",
       "South Station              32130\n",
       "Haymarket Square           32122\n",
       "West End                   32074\n",
       "Beacon Hill                31939\n",
       "North Station              31792\n",
       "Name: source, dtype: int64"
      ]
     },
     "execution_count": 34,
     "metadata": {},
     "output_type": "execute_result"
    }
   ],
   "source": [
    "data2.source.value_counts()"
   ]
  },
  {
   "cell_type": "code",
   "execution_count": 35,
   "id": "01df6c44",
   "metadata": {},
   "outputs": [
    {
     "data": {
      "text/plain": [
       "Financial District         32613\n",
       "Theatre District           32262\n",
       "Haymarket Square           32151\n",
       "Boston University          32150\n",
       "North End                  32142\n",
       "Fenway                     32137\n",
       "Northeastern University    32136\n",
       "Back Bay                   32130\n",
       "South Station              32129\n",
       "West End                   32081\n",
       "Beacon Hill                31939\n",
       "North Station              31793\n",
       "Name: destination, dtype: int64"
      ]
     },
     "execution_count": 35,
     "metadata": {},
     "output_type": "execute_result"
    }
   ],
   "source": [
    "data2.destination.value_counts()"
   ]
  },
  {
   "cell_type": "code",
   "execution_count": 36,
   "id": "ab5fdef1",
   "metadata": {},
   "outputs": [
    {
     "data": {
      "text/plain": [
       "8     13575\n",
       "5     13853\n",
       "7     13912\n",
       "20    15067\n",
       "19    15094\n",
       "21    15252\n",
       "6     15401\n",
       "3     15591\n",
       "4     15828\n",
       "1     15879\n",
       "2     16000\n",
       "9     16023\n",
       "22    16189\n",
       "17    16531\n",
       "12    16751\n",
       "13    16881\n",
       "18    16980\n",
       "15    16989\n",
       "11    17012\n",
       "16    17035\n",
       "10    17059\n",
       "14    17078\n",
       "0     17756\n",
       "23    17927\n",
       "Name: hour, dtype: int64"
      ]
     },
     "execution_count": 36,
     "metadata": {},
     "output_type": "execute_result"
    }
   ],
   "source": [
    "data2.hour.value_counts(ascending = True)"
   ]
  },
  {
   "cell_type": "markdown",
   "id": "3f760bc7",
   "metadata": {},
   "source": [
    "# MAKING SHIFTS"
   ]
  },
  {
   "cell_type": "code",
   "execution_count": 37,
   "id": "dd0d38ac",
   "metadata": {},
   "outputs": [],
   "source": [
    "data2 = data2[(data2[\"hour\"] != 11) & (data2[\"hour\"] < 20) & (data2[\"hour\"] >= 6)]"
   ]
  },
  {
   "cell_type": "code",
   "execution_count": 38,
   "id": "546e4726",
   "metadata": {},
   "outputs": [
    {
     "data": {
      "text/plain": [
       "14    17078\n",
       "10    17059\n",
       "16    17035\n",
       "15    16989\n",
       "18    16980\n",
       "13    16881\n",
       "12    16751\n",
       "17    16531\n",
       "9     16023\n",
       "6     15401\n",
       "19    15094\n",
       "7     13912\n",
       "8     13575\n",
       "Name: hour, dtype: int64"
      ]
     },
     "execution_count": 38,
     "metadata": {},
     "output_type": "execute_result"
    }
   ],
   "source": [
    "data2.hour.value_counts()"
   ]
  },
  {
   "cell_type": "code",
   "execution_count": 39,
   "id": "bd2c96fc",
   "metadata": {},
   "outputs": [
    {
     "data": {
      "text/plain": [
       "Index(['minute', 'hour', 'day', 'month', 'source', 'destination', 'name',\n",
       "       'distance', 'temperature', 'apparentTemperature', 'short_summary',\n",
       "       'long_summary', 'precipIntensity', 'precipProbability', 'humidity',\n",
       "       'windSpeed', 'windGust', 'visibility', 'temperatureHigh',\n",
       "       'temperatureLow', 'apparentTemperatureHigh', 'apparentTemperatureLow',\n",
       "       'icon', 'dewPoint', 'pressure', 'windBearing', 'cloudCover', 'uvIndex',\n",
       "       'visibility.1', 'ozone', 'moonPhase', 'precipIntensityMax',\n",
       "       'temperatureMin', 'temperatureMax', 'apparentTemperatureMin',\n",
       "       'apparentTemperatureMax', 'price', 'windGustTime', 'atmaxt_month',\n",
       "       'atmaxt_day', 'atmaxt_hour', 'atmaxt_minute', 'atmint_month',\n",
       "       'atmint_day', 'atmint_hour', 'atmint_minute', 'tmaxt_month',\n",
       "       'tmaxt_day', 'tmaxt_hour', 'tmaxt_minute', 'tmint_month', 'tmint_day',\n",
       "       'tmint_hour', 'tmint_minute', 'uvit_month', 'uvit_day', 'uvit_hour',\n",
       "       'uvit_minute', 'sst_month', 'sst_day', 'sst_hour', 'sst_minute',\n",
       "       'srt_month', 'srt_day', 'srt_hour', 'srt_minute', 'atlt_month',\n",
       "       'atlt_day', 'atlt_hour', 'atlt_minute', 'atht_month', 'atht_day',\n",
       "       'atht_hour', 'atht_minute', 'tlt_month', 'tlt_day', 'tlt_hour',\n",
       "       'tlt_minute', 'tht_month', 'tht_day', 'tht_hour', 'tht_minute',\n",
       "       'wgt_month', 'wgt_day', 'wgt_hour', 'wgt_minute', 'temperatureMean',\n",
       "       'apparentTemperatureMean', 'X', 'Y', 'Z'],\n",
       "      dtype='object')"
      ]
     },
     "execution_count": 39,
     "metadata": {},
     "output_type": "execute_result"
    }
   ],
   "source": [
    "data2.columns"
   ]
  },
  {
   "cell_type": "code",
   "execution_count": 40,
   "id": "1ce4ea53",
   "metadata": {},
   "outputs": [],
   "source": [
    "shifts = [6, 10, 12, 14, 15, 19]\n",
    "\n",
    "morning_trips = data2[(data2['hour'] >= shifts[0]) &\n",
    "                               (data2['hour'] < shifts[1])]\n",
    "noon_trips = data2[(data2['hour'] >= shifts[2]) &\n",
    "                           (data2['hour'] < shifts[3])]\n",
    "afterrnoon_trips = data2[(data2['hour'] >= shifts[4]) &\n",
    "                             (data2['hour'] < shifts[5])]\n",
    "\n",
    "data3 = pd.concat([morning_trips, noon_trips, afterrnoon_trips], axis = 0).reset_index().drop(\"index\", axis = 1)\n",
    "\n",
    "\n",
    "data4 = data3.assign(time_cat_rush = pd.cut(data3[\"hour\"], bins = [6,11,15,20], labels = [\"morning\", \"noon\", \"afternoon\"]))"
   ]
  },
  {
   "cell_type": "code",
   "execution_count": 41,
   "id": "f3bde110",
   "metadata": {},
   "outputs": [],
   "source": [
    "data4[\"time_cat_rush\"] = data4[\"time_cat_rush\"].astype(\"object\")"
   ]
  },
  {
   "cell_type": "code",
   "execution_count": 42,
   "id": "9b7c8501",
   "metadata": {},
   "outputs": [
    {
     "data": {
      "text/plain": [
       "(160078, 92)"
      ]
     },
     "execution_count": 42,
     "metadata": {},
     "output_type": "execute_result"
    }
   ],
   "source": [
    "data4.shape"
   ]
  },
  {
   "cell_type": "markdown",
   "id": "f3cace86",
   "metadata": {},
   "source": [
    "### Handle Categorical Data"
   ]
  },
  {
   "cell_type": "code",
   "execution_count": 43,
   "id": "ac309331",
   "metadata": {},
   "outputs": [
    {
     "data": {
      "text/plain": [
       "minute                       int64\n",
       "hour                         int64\n",
       "day                          int64\n",
       "month                        int64\n",
       "source                      object\n",
       "destination                 object\n",
       "name                        object\n",
       "distance                   float64\n",
       "temperature                float64\n",
       "apparentTemperature        float64\n",
       "short_summary               object\n",
       "long_summary                object\n",
       "precipIntensity            float64\n",
       "precipProbability          float64\n",
       "humidity                   float64\n",
       "windSpeed                  float64\n",
       "windGust                   float64\n",
       "visibility                 float64\n",
       "temperatureHigh            float64\n",
       "temperatureLow             float64\n",
       "apparentTemperatureHigh    float64\n",
       "apparentTemperatureLow     float64\n",
       "icon                        object\n",
       "dewPoint                   float64\n",
       "pressure                   float64\n",
       "windBearing                  int64\n",
       "cloudCover                 float64\n",
       "uvIndex                      int64\n",
       "visibility.1               float64\n",
       "ozone                      float64\n",
       "moonPhase                  float64\n",
       "precipIntensityMax         float64\n",
       "temperatureMin             float64\n",
       "temperatureMax             float64\n",
       "apparentTemperatureMin     float64\n",
       "apparentTemperatureMax     float64\n",
       "price                      float64\n",
       "windGustTime                object\n",
       "atmaxt_month                 int64\n",
       "atmaxt_day                   int64\n",
       "atmaxt_hour                  int64\n",
       "atmaxt_minute                int64\n",
       "atmint_month                 int64\n",
       "atmint_day                   int64\n",
       "atmint_hour                  int64\n",
       "atmint_minute                int64\n",
       "tmaxt_month                  int64\n",
       "tmaxt_day                    int64\n",
       "tmaxt_hour                   int64\n",
       "tmaxt_minute                 int64\n",
       "tmint_month                  int64\n",
       "dtype: object"
      ]
     },
     "execution_count": 43,
     "metadata": {},
     "output_type": "execute_result"
    }
   ],
   "source": [
    "data4.iloc[:,0:51].dtypes"
   ]
  },
  {
   "cell_type": "code",
   "execution_count": 44,
   "id": "4d831e49",
   "metadata": {},
   "outputs": [
    {
     "data": {
      "text/plain": [
       "tmint_day                    int64\n",
       "tmint_hour                   int64\n",
       "tmint_minute                 int64\n",
       "uvit_month                   int64\n",
       "uvit_day                     int64\n",
       "uvit_hour                    int64\n",
       "uvit_minute                  int64\n",
       "sst_month                    int64\n",
       "sst_day                      int64\n",
       "sst_hour                     int64\n",
       "sst_minute                   int64\n",
       "srt_month                    int64\n",
       "srt_day                      int64\n",
       "srt_hour                     int64\n",
       "srt_minute                   int64\n",
       "atlt_month                   int64\n",
       "atlt_day                     int64\n",
       "atlt_hour                    int64\n",
       "atlt_minute                  int64\n",
       "atht_month                   int64\n",
       "atht_day                     int64\n",
       "atht_hour                    int64\n",
       "atht_minute                  int64\n",
       "tlt_month                    int64\n",
       "tlt_day                      int64\n",
       "tlt_hour                     int64\n",
       "tlt_minute                   int64\n",
       "tht_month                    int64\n",
       "tht_day                      int64\n",
       "tht_hour                     int64\n",
       "tht_minute                   int64\n",
       "wgt_month                    int64\n",
       "wgt_day                      int64\n",
       "wgt_hour                     int64\n",
       "wgt_minute                   int64\n",
       "temperatureMean            float64\n",
       "apparentTemperatureMean    float64\n",
       "X                          float64\n",
       "Y                          float64\n",
       "Z                          float64\n",
       "time_cat_rush               object\n",
       "dtype: object"
      ]
     },
     "execution_count": 44,
     "metadata": {},
     "output_type": "execute_result"
    }
   ],
   "source": [
    "data4.iloc[:,51:92].dtypes"
   ]
  },
  {
   "cell_type": "code",
   "execution_count": 45,
   "id": "a083e2cd",
   "metadata": {},
   "outputs": [],
   "source": [
    "data5_1 = data4.drop([\"source\", \"destination\", \"short_summary\", \"long_summary\", \"windGustTime\"], axis = 1)\n",
    "data5 = pd.get_dummies(data5_1)"
   ]
  },
  {
   "cell_type": "markdown",
   "id": "1ffd92cd",
   "metadata": {},
   "source": [
    "### Handle Missing Values"
   ]
  },
  {
   "cell_type": "code",
   "execution_count": 46,
   "id": "cc07a2a6",
   "metadata": {},
   "outputs": [
    {
     "data": {
      "text/plain": [
       "minute                         0\n",
       "hour                           0\n",
       "day                            0\n",
       "month                          0\n",
       "distance                       0\n",
       "temperature                    0\n",
       "apparentTemperature            0\n",
       "precipIntensity                0\n",
       "precipProbability              0\n",
       "humidity                       0\n",
       "windSpeed                      0\n",
       "windGust                       0\n",
       "visibility                     0\n",
       "temperatureHigh                0\n",
       "temperatureLow                 0\n",
       "apparentTemperatureHigh        0\n",
       "apparentTemperatureLow         0\n",
       "dewPoint                       0\n",
       "pressure                       0\n",
       "windBearing                    0\n",
       "cloudCover                     0\n",
       "uvIndex                        0\n",
       "visibility.1                   0\n",
       "ozone                          0\n",
       "moonPhase                      0\n",
       "precipIntensityMax             0\n",
       "temperatureMin                 0\n",
       "temperatureMax                 0\n",
       "apparentTemperatureMin         0\n",
       "apparentTemperatureMax         0\n",
       "price                      22867\n",
       "atmaxt_month                   0\n",
       "atmaxt_day                     0\n",
       "atmaxt_hour                    0\n",
       "atmaxt_minute                  0\n",
       "atmint_month                   0\n",
       "atmint_day                     0\n",
       "atmint_hour                    0\n",
       "atmint_minute                  0\n",
       "tmaxt_month                    0\n",
       "tmaxt_day                      0\n",
       "tmaxt_hour                     0\n",
       "tmaxt_minute                   0\n",
       "tmint_month                    0\n",
       "tmint_day                      0\n",
       "tmint_hour                     0\n",
       "tmint_minute                   0\n",
       "uvit_month                     0\n",
       "uvit_day                       0\n",
       "uvit_hour                      0\n",
       "uvit_minute                    0\n",
       "dtype: int64"
      ]
     },
     "execution_count": 46,
     "metadata": {},
     "output_type": "execute_result"
    }
   ],
   "source": [
    "data5.iloc[:,0:51].isnull().sum()"
   ]
  },
  {
   "cell_type": "code",
   "execution_count": 47,
   "id": "b6f8547d",
   "metadata": {},
   "outputs": [
    {
     "data": {
      "text/plain": [
       "sst_month                     0\n",
       "sst_day                       0\n",
       "sst_hour                      0\n",
       "sst_minute                    0\n",
       "srt_month                     0\n",
       "srt_day                       0\n",
       "srt_hour                      0\n",
       "srt_minute                    0\n",
       "atlt_month                    0\n",
       "atlt_day                      0\n",
       "atlt_hour                     0\n",
       "atlt_minute                   0\n",
       "atht_month                    0\n",
       "atht_day                      0\n",
       "atht_hour                     0\n",
       "atht_minute                   0\n",
       "tlt_month                     0\n",
       "tlt_day                       0\n",
       "tlt_hour                      0\n",
       "tlt_minute                    0\n",
       "tht_month                     0\n",
       "tht_day                       0\n",
       "tht_hour                      0\n",
       "tht_minute                    0\n",
       "wgt_month                     0\n",
       "wgt_day                       0\n",
       "wgt_hour                      0\n",
       "wgt_minute                    0\n",
       "temperatureMean               0\n",
       "apparentTemperatureMean       0\n",
       "X                             0\n",
       "Y                             0\n",
       "Z                             0\n",
       "name_Black                    0\n",
       "name_Black SUV                0\n",
       "name_Taxi                     0\n",
       "name_UberPool                 0\n",
       "name_UberX                    0\n",
       "name_UberXL                   0\n",
       "name_WAV                      0\n",
       "icon_ clear-day               0\n",
       "icon_ clear-night             0\n",
       "icon_ cloudy                  0\n",
       "icon_ fog                     0\n",
       "icon_ partly-cloudy-day       0\n",
       "icon_ partly-cloudy-night     0\n",
       "icon_ rain                    0\n",
       "time_cat_rush_afternoon       0\n",
       "time_cat_rush_morning         0\n",
       "time_cat_rush_noon            0\n",
       "dtype: int64"
      ]
     },
     "execution_count": 47,
     "metadata": {},
     "output_type": "execute_result"
    }
   ],
   "source": [
    "data5.iloc[:,51:].isnull().sum()"
   ]
  },
  {
   "cell_type": "code",
   "execution_count": 48,
   "id": "024ddc88",
   "metadata": {},
   "outputs": [],
   "source": [
    "data6 = data5.dropna().reset_index().drop([\"index\", \"visibility.1\"], axis = 1)"
   ]
  },
  {
   "cell_type": "code",
   "execution_count": 49,
   "id": "9317ca5e",
   "metadata": {},
   "outputs": [
    {
     "data": {
      "text/plain": [
       "Index(['minute', 'hour', 'day', 'month', 'distance', 'temperature',\n",
       "       'apparentTemperature', 'precipIntensity', 'precipProbability',\n",
       "       'humidity', 'windSpeed', 'windGust', 'visibility', 'temperatureHigh',\n",
       "       'temperatureLow', 'apparentTemperatureHigh', 'apparentTemperatureLow',\n",
       "       'dewPoint', 'pressure', 'windBearing', 'cloudCover', 'uvIndex', 'ozone',\n",
       "       'moonPhase', 'precipIntensityMax', 'temperatureMin', 'temperatureMax',\n",
       "       'apparentTemperatureMin', 'apparentTemperatureMax', 'price',\n",
       "       'atmaxt_month', 'atmaxt_day', 'atmaxt_hour', 'atmaxt_minute',\n",
       "       'atmint_month', 'atmint_day', 'atmint_hour', 'atmint_minute',\n",
       "       'tmaxt_month', 'tmaxt_day', 'tmaxt_hour', 'tmaxt_minute', 'tmint_month',\n",
       "       'tmint_day', 'tmint_hour', 'tmint_minute', 'uvit_month', 'uvit_day',\n",
       "       'uvit_hour', 'uvit_minute', 'sst_month', 'sst_day', 'sst_hour',\n",
       "       'sst_minute', 'srt_month', 'srt_day', 'srt_hour', 'srt_minute',\n",
       "       'atlt_month', 'atlt_day', 'atlt_hour', 'atlt_minute', 'atht_month',\n",
       "       'atht_day', 'atht_hour', 'atht_minute', 'tlt_month', 'tlt_day',\n",
       "       'tlt_hour', 'tlt_minute', 'tht_month', 'tht_day', 'tht_hour',\n",
       "       'tht_minute', 'wgt_month', 'wgt_day', 'wgt_hour', 'wgt_minute',\n",
       "       'temperatureMean', 'apparentTemperatureMean', 'X', 'Y', 'Z',\n",
       "       'name_Black', 'name_Black SUV', 'name_Taxi', 'name_UberPool',\n",
       "       'name_UberX', 'name_UberXL', 'name_WAV', 'icon_ clear-day ',\n",
       "       'icon_ clear-night ', 'icon_ cloudy ', 'icon_ fog ',\n",
       "       'icon_ partly-cloudy-day ', 'icon_ partly-cloudy-night ', 'icon_ rain ',\n",
       "       'time_cat_rush_afternoon', 'time_cat_rush_morning',\n",
       "       'time_cat_rush_noon'],\n",
       "      dtype='object')"
      ]
     },
     "execution_count": 49,
     "metadata": {},
     "output_type": "execute_result"
    }
   ],
   "source": [
    "data6.columns"
   ]
  },
  {
   "cell_type": "code",
   "execution_count": null,
   "id": "259ed084",
   "metadata": {},
   "outputs": [],
   "source": []
  },
  {
   "cell_type": "markdown",
   "id": "b9de6382",
   "metadata": {},
   "source": [
    "### Handle Outliers"
   ]
  },
  {
   "cell_type": "code",
   "execution_count": 50,
   "id": "082392e7",
   "metadata": {},
   "outputs": [],
   "source": [
    "data_outliers = data[['distance', 'temperature',\n",
    "       'apparentTemperature', 'precipIntensity',\n",
    "       'humidity', 'windSpeed', 'windGust', 'visibility', 'temperatureHigh',\n",
    "       'temperatureLow', 'apparentTemperatureHigh', 'apparentTemperatureLow',\n",
    "       'dewPoint', 'pressure', 'windBearing', 'cloudCover', 'uvIndex', 'ozone',\n",
    "       'moonPhase', 'precipIntensityMax', 'temperatureMin', 'temperatureMax',\n",
    "       'apparentTemperatureMin', 'apparentTemperatureMax']]"
   ]
  },
  {
   "cell_type": "code",
   "execution_count": 51,
   "id": "147a371c",
   "metadata": {},
   "outputs": [
    {
     "data": {
      "text/plain": [
       "<AxesSubplot:>"
      ]
     },
     "execution_count": 51,
     "metadata": {},
     "output_type": "execute_result"
    },
    {
     "data": {
      "image/png": "[encoded data removed]",
      "text/plain": [
       "<Figure size 3600x1080 with 1 Axes>"
      ]
     },
     "metadata": {
      "needs_background": "light"
     },
     "output_type": "display_data"
    }
   ],
   "source": [
    "fig = plt.figure(figsize = (50,15))\n",
    "data_outliers.boxplot()"
   ]
  },
  {
   "cell_type": "code",
   "execution_count": 52,
   "id": "50fb58cf",
   "metadata": {},
   "outputs": [
    {
     "data": {
      "text/plain": [
       "<AxesSubplot:>"
      ]
     },
     "execution_count": 52,
     "metadata": {},
     "output_type": "execute_result"
    },
    {
     "data": {
      "image/png": "[encoded data removed]",
      "text/plain": [
       "<Figure size 1440x1080 with 1 Axes>"
      ]
     },
     "metadata": {
      "needs_background": "light"
     },
     "output_type": "display_data"
    }
   ],
   "source": [
    "fig = plt.figure(figsize = (20,15))\n",
    "data_outliers.iloc[:,[0,1,2,3,6,7,8,10,11,12,16,20,21,22,23]].boxplot()"
   ]
  },
  {
   "cell_type": "code",
   "execution_count": 53,
   "id": "c901e25f",
   "metadata": {
    "scrolled": true
   },
   "outputs": [
    {
     "data": {
      "text/plain": [
       "<AxesSubplot:>"
      ]
     },
     "execution_count": 53,
     "metadata": {},
     "output_type": "execute_result"
    },
    {
     "data": {
      "image/png": "[encoded data removed]",
      "text/plain": [
       "<Figure size 432x288 with 1 Axes>"
      ]
     },
     "metadata": {
      "needs_background": "light"
     },
     "output_type": "display_data"
    }
   ],
   "source": [
    "data_outliers.iloc[:,[0,7,11]].boxplot()"
   ]
  },
  {
   "cell_type": "code",
   "execution_count": 54,
   "id": "212b8ff1",
   "metadata": {},
   "outputs": [],
   "source": [
    "def outlier_bound(data):\n",
    "    Q1 = data.quantile(0.25)\n",
    "    Q3 = data.quantile(0.75)\n",
    "    LB = Q1 - 1.5 * (Q3 - Q1)\n",
    "    UB = Q3 + 1.5 * (Q3 - Q1)\n",
    "    print(LB, \"\\n\", UB)"
   ]
  },
  {
   "cell_type": "code",
   "execution_count": 55,
   "id": "1cd23e65",
   "metadata": {},
   "outputs": [
    {
     "name": "stdout",
     "output_type": "stream",
     "text": [
      "distance                   -1.010\n",
      "temperature                25.880\n",
      "apparentTemperature        19.760\n",
      "precipIntensity             0.000\n",
      "windGust                   -7.460\n",
      "visibility                  6.086\n",
      "temperatureHigh            36.060\n",
      "apparentTemperatureHigh    25.290\n",
      "apparentTemperatureLow     16.120\n",
      "dewPoint                   11.515\n",
      "uvIndex                     0.000\n",
      "temperatureMin             17.105\n",
      "temperatureMax             36.060\n",
      "apparentTemperatureMin     15.835\n",
      "apparentTemperatureMax     25.290\n",
      "dtype: float64 \n",
      " distance                    5.150\n",
      "temperature                54.200\n",
      "apparentTemperature        52.160\n",
      "precipIntensity             0.000\n",
      "windGust                   23.260\n",
      "visibility                 12.342\n",
      "temperatureHigh            53.420\n",
      "apparentTemperatureHigh    55.370\n",
      "apparentTemperatureLow     46.840\n",
      "dewPoint                   54.115\n",
      "uvIndex                     0.000\n",
      "temperatureMin             51.945\n",
      "temperatureMax             53.420\n",
      "apparentTemperatureMin     47.635\n",
      "apparentTemperatureMax     55.370\n",
      "dtype: float64\n"
     ]
    }
   ],
   "source": [
    "outlier_bound(data_outliers.iloc[:,[0,1,2,3,6,7,8,10,11,12,16,20,21,22,23]])"
   ]
  },
  {
   "cell_type": "code",
   "execution_count": 56,
   "id": "684d6594",
   "metadata": {},
   "outputs": [
    {
     "data": {
      "text/plain": [
       "Int64Index([ 2095,  2608,  2935,  2946,  3333,  3544,  3762,  3882,  4125,\n",
       "             4147,\n",
       "            ...\n",
       "            42019, 42020, 42021, 43165, 43166, 48186, 50309, 50310, 50311,\n",
       "            50312],\n",
       "           dtype='int64', length=110)"
      ]
     },
     "execution_count": 56,
     "metadata": {},
     "output_type": "execute_result"
    }
   ],
   "source": [
    "data6[(data6[\"distance\"] > 5.15) & (data6[\"visibility\"] < 6.086) & (data6[\"apparentTemperatureLow\"] < 16.12)].index"
   ]
  },
  {
   "cell_type": "code",
   "execution_count": 57,
   "id": "6a004963",
   "metadata": {},
   "outputs": [
    {
     "data": {
      "text/plain": [
       "Int64Index([], dtype='int64')"
      ]
     },
     "execution_count": 57,
     "metadata": {},
     "output_type": "execute_result"
    }
   ],
   "source": [
    "data6[(data6[\"distance\"] > 5.15) & (data6[\"windGust\"] > 23.26) & (data6[\"visibility\"] < 6.086) & (data6[\"dewPoint\"] < 11.515)\n",
    "      & (data6[\"temperatureMin\"] < 17.105) & (data6[\"apparentTemperatureMin\"] < 15.835)\n",
    "      & (data6[\"apparentTemperatureMax\"] > 55.37)].index"
   ]
  },
  {
   "cell_type": "code",
   "execution_count": 60,
   "id": "af4b1f93",
   "metadata": {},
   "outputs": [
    {
     "data": {
      "text/plain": [
       "Int64Index([], dtype='int64')"
      ]
     },
     "execution_count": 60,
     "metadata": {},
     "output_type": "execute_result"
    }
   ],
   "source": [
    "data6[(data6[\"distance\"] > 5.15) & (data6[\"visibility\"] > 6.086) & (data6[\"visibility\"] < 6.086)\n",
    "      & (data6[\"dewPoint\"] < 11.515)].index"
   ]
  },
  {
   "cell_type": "code",
   "execution_count": 63,
   "id": "2b4250e8",
   "metadata": {},
   "outputs": [],
   "source": [
    "from sklearn.ensemble import IsolationForest\n",
    "clf = IsolationForest(max_samples = 100, random_state = 1, contamination= 'auto')\n",
    "preds = clf.fit_predict(data_outliers)"
   ]
  },
  {
   "cell_type": "code",
   "execution_count": 71,
   "id": "7554113e",
   "metadata": {},
   "outputs": [],
   "source": [
    "data6[\"anomaly\"] = pd.Series(preds)\n",
    "data7 = data6[data6[\"anomaly\"] != -1].drop(\"anomaly\", axis = 1).reset_index().drop(\"index\", axis = 1)"
   ]
  },
  {
   "cell_type": "markdown",
   "id": "f7fc6515",
   "metadata": {},
   "source": [
    "### Handle Duplicate Data"
   ]
  },
  {
   "cell_type": "code",
   "execution_count": 73,
   "id": "6f9983af",
   "metadata": {},
   "outputs": [
    {
     "data": {
      "text/plain": [
       "582"
      ]
     },
     "execution_count": 73,
     "metadata": {},
     "output_type": "execute_result"
    }
   ],
   "source": [
    "data7.duplicated().sum()"
   ]
  },
  {
   "cell_type": "code",
   "execution_count": 74,
   "id": "6345a09f",
   "metadata": {},
   "outputs": [],
   "source": [
    "data8 = data7.drop_duplicates().reset_index().drop(\"index\", axis = 1)"
   ]
  },
  {
   "cell_type": "code",
   "execution_count": 77,
   "id": "7321de8e",
   "metadata": {},
   "outputs": [],
   "source": [
    "data8_1 = data8.drop(\"price\", axis = 1)\n",
    "data8_2 = data8.iloc[:,29]\n",
    "data9 = pd.concat([data8_1, data8_2], axis = 1)"
   ]
  },
  {
   "cell_type": "markdown",
   "id": "98d0eb42",
   "metadata": {},
   "source": [
    "### Statistical Analysis"
   ]
  },
  {
   "cell_type": "code",
   "execution_count": 82,
   "id": "6dbf059e",
   "metadata": {},
   "outputs": [
    {
     "data": {
      "text/plain": [
       "<AxesSubplot:>"
      ]
     },
     "execution_count": 82,
     "metadata": {},
     "output_type": "execute_result"
    },
    {
     "data": {
      "image/png": "[encoded data removed]",
      "text/plain": [
       "<Figure size 1512x1512 with 2 Axes>"
      ]
     },
     "metadata": {
      "needs_background": "light"
     },
     "output_type": "display_data"
    }
   ],
   "source": [
    "fig = plt.figure(figsize = (21,21))\n",
    "datafc = data9.iloc[:,[i for i in range(4,27) if i != 8]]\n",
    "datafc1 = data9.iloc[:,-1]\n",
    "datafc_t = pd.concat([datafc, datafc1], axis = 1)\n",
    "sns.heatmap(datafc_t.corr(), vmin = -1, vmax = 1, annot = True, cmap = \"plasma\")  #cmap = \"BuPu\""
   ]
  },
  {
   "cell_type": "code",
   "execution_count": 83,
   "id": "4a595171",
   "metadata": {},
   "outputs": [
    {
     "data": {
      "text/plain": [
       "Index(['minute', 'hour', 'day', 'month', 'distance', 'temperature',\n",
       "       'apparentTemperature', 'precipIntensity', 'precipProbability',\n",
       "       'humidity', 'windSpeed', 'windGust', 'visibility', 'temperatureHigh',\n",
       "       'temperatureLow', 'apparentTemperatureHigh', 'apparentTemperatureLow',\n",
       "       'dewPoint', 'pressure', 'windBearing', 'cloudCover', 'uvIndex', 'ozone',\n",
       "       'moonPhase', 'precipIntensityMax', 'temperatureMin', 'temperatureMax',\n",
       "       'apparentTemperatureMin', 'apparentTemperatureMax', 'atmaxt_month',\n",
       "       'atmaxt_day', 'atmaxt_hour', 'atmaxt_minute', 'atmint_month',\n",
       "       'atmint_day', 'atmint_hour', 'atmint_minute', 'tmaxt_month',\n",
       "       'tmaxt_day', 'tmaxt_hour', 'tmaxt_minute', 'tmint_month', 'tmint_day',\n",
       "       'tmint_hour', 'tmint_minute', 'uvit_month', 'uvit_day', 'uvit_hour',\n",
       "       'uvit_minute', 'sst_month', 'sst_day', 'sst_hour', 'sst_minute',\n",
       "       'srt_month', 'srt_day', 'srt_hour', 'srt_minute', 'atlt_month',\n",
       "       'atlt_day', 'atlt_hour', 'atlt_minute', 'atht_month', 'atht_day',\n",
       "       'atht_hour', 'atht_minute', 'tlt_month', 'tlt_day', 'tlt_hour',\n",
       "       'tlt_minute', 'tht_month', 'tht_day', 'tht_hour', 'tht_minute',\n",
       "       'wgt_month', 'wgt_day', 'wgt_hour', 'wgt_minute', 'temperatureMean',\n",
       "       'apparentTemperatureMean', 'X', 'Y', 'Z', 'name_Black',\n",
       "       'name_Black SUV', 'name_Taxi', 'name_UberPool', 'name_UberX',\n",
       "       'name_UberXL', 'name_WAV', 'icon_ clear-day ', 'icon_ clear-night ',\n",
       "       'icon_ cloudy ', 'icon_ fog ', 'icon_ partly-cloudy-day ',\n",
       "       'icon_ partly-cloudy-night ', 'icon_ rain ', 'time_cat_rush_afternoon',\n",
       "       'time_cat_rush_morning', 'time_cat_rush_noon', 'price'],\n",
       "      dtype='object')"
      ]
     },
     "execution_count": 83,
     "metadata": {},
     "output_type": "execute_result"
    }
   ],
   "source": [
    "data9.columns"
   ]
  },
  {
   "cell_type": "code",
   "execution_count": 89,
   "id": "308b0218",
   "metadata": {},
   "outputs": [],
   "source": [
    "from scipy import stats\n",
    "rho, pvalue = stats.spearmanr(data9.iloc[:,[-18,-17,-15,-14,-13,-12,-11,-10,-9,-8,-7,-6,-5,-4,-3,-2]], data9.iloc[:,-1])"
   ]
  },
  {
   "cell_type": "code",
   "execution_count": 91,
   "id": "31833c2d",
   "metadata": {},
   "outputs": [
    {
     "data": {
      "text/plain": [
       "<AxesSubplot:>"
      ]
     },
     "execution_count": 91,
     "metadata": {},
     "output_type": "execute_result"
    },
    {
     "data": {
      "image/png": "[encoded data removed]",
      "text/plain": [
       "<Figure size 1296x1296 with 2 Axes>"
      ]
     },
     "metadata": {
      "needs_background": "light"
     },
     "output_type": "display_data"
    }
   ],
   "source": [
    "fig = plt.figure(figsize = (18,18))\n",
    "sns.heatmap(rho, annot = True, vmin = -1, vmax = 1)"
   ]
  },
  {
   "cell_type": "code",
   "execution_count": 92,
   "id": "9dacf28c",
   "metadata": {},
   "outputs": [
    {
     "data": {
      "text/html": [
       "<div>\n",
       "<style scoped>\n",
       "    .dataframe tbody tr th:only-of-type {\n",
       "        vertical-align: middle;\n",
       "    }\n",
       "\n",
       "    .dataframe tbody tr th {\n",
       "        vertical-align: top;\n",
       "    }\n",
       "\n",
       "    .dataframe thead th {\n",
       "        text-align: right;\n",
       "    }\n",
       "</style>\n",
       "<table border=\"1\" class=\"dataframe\">\n",
       "  <thead>\n",
       "    <tr style=\"text-align: right;\">\n",
       "      <th></th>\n",
       "      <th>distance</th>\n",
       "      <th>temperature</th>\n",
       "      <th>apparentTemperature</th>\n",
       "      <th>precipIntensity</th>\n",
       "      <th>humidity</th>\n",
       "      <th>windSpeed</th>\n",
       "      <th>windGust</th>\n",
       "      <th>visibility</th>\n",
       "      <th>temperatureHigh</th>\n",
       "      <th>temperatureLow</th>\n",
       "    </tr>\n",
       "  </thead>\n",
       "  <tbody>\n",
       "    <tr>\n",
       "      <th>mean</th>\n",
       "      <td>2.201048</td>\n",
       "      <td>39.092105</td>\n",
       "      <td>35.241186</td>\n",
       "      <td>0.006658</td>\n",
       "      <td>0.747715</td>\n",
       "      <td>6.365633</td>\n",
       "      <td>8.951914</td>\n",
       "      <td>8.304290</td>\n",
       "      <td>44.815943</td>\n",
       "      <td>33.672734</td>\n",
       "    </tr>\n",
       "    <tr>\n",
       "      <th>std</th>\n",
       "      <td>1.185006</td>\n",
       "      <td>7.486789</td>\n",
       "      <td>8.887432</td>\n",
       "      <td>0.019295</td>\n",
       "      <td>0.146608</td>\n",
       "      <td>3.436850</td>\n",
       "      <td>6.078965</td>\n",
       "      <td>2.738676</td>\n",
       "      <td>6.257922</td>\n",
       "      <td>6.498504</td>\n",
       "    </tr>\n",
       "    <tr>\n",
       "      <th>min</th>\n",
       "      <td>0.020000</td>\n",
       "      <td>18.910000</td>\n",
       "      <td>12.130000</td>\n",
       "      <td>0.000000</td>\n",
       "      <td>0.400000</td>\n",
       "      <td>1.030000</td>\n",
       "      <td>1.050000</td>\n",
       "      <td>0.717000</td>\n",
       "      <td>32.680000</td>\n",
       "      <td>19.630000</td>\n",
       "    </tr>\n",
       "    <tr>\n",
       "      <th>50%</th>\n",
       "      <td>2.170000</td>\n",
       "      <td>40.770000</td>\n",
       "      <td>35.840000</td>\n",
       "      <td>0.000000</td>\n",
       "      <td>0.750000</td>\n",
       "      <td>5.890000</td>\n",
       "      <td>7.010000</td>\n",
       "      <td>9.868000</td>\n",
       "      <td>44.660000</td>\n",
       "      <td>33.850000</td>\n",
       "    </tr>\n",
       "    <tr>\n",
       "      <th>max</th>\n",
       "      <td>7.860000</td>\n",
       "      <td>57.220000</td>\n",
       "      <td>57.220000</td>\n",
       "      <td>0.092300</td>\n",
       "      <td>0.960000</td>\n",
       "      <td>14.950000</td>\n",
       "      <td>27.250000</td>\n",
       "      <td>10.000000</td>\n",
       "      <td>57.870000</td>\n",
       "      <td>46.600000</td>\n",
       "    </tr>\n",
       "  </tbody>\n",
       "</table>\n",
       "</div>"
      ],
      "text/plain": [
       "      distance  temperature  apparentTemperature  precipIntensity  humidity  \\\n",
       "mean  2.201048    39.092105            35.241186         0.006658  0.747715   \n",
       "std   1.185006     7.486789             8.887432         0.019295  0.146608   \n",
       "min   0.020000    18.910000            12.130000         0.000000  0.400000   \n",
       "50%   2.170000    40.770000            35.840000         0.000000  0.750000   \n",
       "max   7.860000    57.220000            57.220000         0.092300  0.960000   \n",
       "\n",
       "      windSpeed   windGust  visibility  temperatureHigh  temperatureLow  \n",
       "mean   6.365633   8.951914    8.304290        44.815943       33.672734  \n",
       "std    3.436850   6.078965    2.738676         6.257922        6.498504  \n",
       "min    1.030000   1.050000    0.717000        32.680000       19.630000  \n",
       "50%    5.890000   7.010000    9.868000        44.660000       33.850000  \n",
       "max   14.950000  27.250000   10.000000        57.870000       46.600000  "
      ]
     },
     "execution_count": 92,
     "metadata": {},
     "output_type": "execute_result"
    }
   ],
   "source": [
    "data9.iloc[:,[i for i in range(4,15) if i != 8]].describe().drop([\"count\", \"25%\", \"75%\"], axis = 0)"
   ]
  },
  {
   "cell_type": "code",
   "execution_count": 93,
   "id": "9ac8445e",
   "metadata": {},
   "outputs": [
    {
     "data": {
      "text/html": [
       "<div>\n",
       "<style scoped>\n",
       "    .dataframe tbody tr th:only-of-type {\n",
       "        vertical-align: middle;\n",
       "    }\n",
       "\n",
       "    .dataframe tbody tr th {\n",
       "        vertical-align: top;\n",
       "    }\n",
       "\n",
       "    .dataframe thead th {\n",
       "        text-align: right;\n",
       "    }\n",
       "</style>\n",
       "<table border=\"1\" class=\"dataframe\">\n",
       "  <thead>\n",
       "    <tr style=\"text-align: right;\">\n",
       "      <th></th>\n",
       "      <th>apparentTemperatureHigh</th>\n",
       "      <th>apparentTemperatureLow</th>\n",
       "      <th>dewPoint</th>\n",
       "      <th>pressure</th>\n",
       "      <th>windBearing</th>\n",
       "      <th>cloudCover</th>\n",
       "      <th>uvIndex</th>\n",
       "      <th>ozone</th>\n",
       "      <th>moonPhase</th>\n",
       "      <th>precipIntensityMax</th>\n",
       "      <th>temperatureMin</th>\n",
       "      <th>temperatureMax</th>\n",
       "    </tr>\n",
       "  </thead>\n",
       "  <tbody>\n",
       "    <tr>\n",
       "      <th>mean</th>\n",
       "      <td>41.269028</td>\n",
       "      <td>29.668217</td>\n",
       "      <td>31.362695</td>\n",
       "      <td>1010.085036</td>\n",
       "      <td>226.391145</td>\n",
       "      <td>0.694679</td>\n",
       "      <td>0.476508</td>\n",
       "      <td>313.762396</td>\n",
       "      <td>0.577062</td>\n",
       "      <td>0.037449</td>\n",
       "      <td>33.261621</td>\n",
       "      <td>45.178708</td>\n",
       "    </tr>\n",
       "    <tr>\n",
       "      <th>std</th>\n",
       "      <td>8.132731</td>\n",
       "      <td>8.279439</td>\n",
       "      <td>10.061491</td>\n",
       "      <td>13.863373</td>\n",
       "      <td>100.053301</td>\n",
       "      <td>0.356443</td>\n",
       "      <td>0.581078</td>\n",
       "      <td>28.504231</td>\n",
       "      <td>0.242376</td>\n",
       "      <td>0.055076</td>\n",
       "      <td>6.438235</td>\n",
       "      <td>5.696521</td>\n",
       "    </tr>\n",
       "    <tr>\n",
       "      <th>min</th>\n",
       "      <td>22.620000</td>\n",
       "      <td>11.810000</td>\n",
       "      <td>6.460000</td>\n",
       "      <td>988.090000</td>\n",
       "      <td>13.000000</td>\n",
       "      <td>0.000000</td>\n",
       "      <td>0.000000</td>\n",
       "      <td>269.400000</td>\n",
       "      <td>0.210000</td>\n",
       "      <td>0.000000</td>\n",
       "      <td>17.850000</td>\n",
       "      <td>33.510000</td>\n",
       "    </tr>\n",
       "    <tr>\n",
       "      <th>50%</th>\n",
       "      <td>40.690000</td>\n",
       "      <td>29.880000</td>\n",
       "      <td>29.570000</td>\n",
       "      <td>1010.580000</td>\n",
       "      <td>261.000000</td>\n",
       "      <td>0.890000</td>\n",
       "      <td>0.000000</td>\n",
       "      <td>309.100000</td>\n",
       "      <td>0.680000</td>\n",
       "      <td>0.000700</td>\n",
       "      <td>34.240000</td>\n",
       "      <td>44.660000</td>\n",
       "    </tr>\n",
       "    <tr>\n",
       "      <th>max</th>\n",
       "      <td>57.200000</td>\n",
       "      <td>47.250000</td>\n",
       "      <td>49.270000</td>\n",
       "      <td>1035.550000</td>\n",
       "      <td>356.000000</td>\n",
       "      <td>1.000000</td>\n",
       "      <td>2.000000</td>\n",
       "      <td>378.700000</td>\n",
       "      <td>0.930000</td>\n",
       "      <td>0.143300</td>\n",
       "      <td>43.100000</td>\n",
       "      <td>57.870000</td>\n",
       "    </tr>\n",
       "  </tbody>\n",
       "</table>\n",
       "</div>"
      ],
      "text/plain": [
       "      apparentTemperatureHigh  apparentTemperatureLow   dewPoint     pressure  \\\n",
       "mean                41.269028               29.668217  31.362695  1010.085036   \n",
       "std                  8.132731                8.279439  10.061491    13.863373   \n",
       "min                 22.620000               11.810000   6.460000   988.090000   \n",
       "50%                 40.690000               29.880000  29.570000  1010.580000   \n",
       "max                 57.200000               47.250000  49.270000  1035.550000   \n",
       "\n",
       "      windBearing  cloudCover   uvIndex       ozone  moonPhase  \\\n",
       "mean   226.391145    0.694679  0.476508  313.762396   0.577062   \n",
       "std    100.053301    0.356443  0.581078   28.504231   0.242376   \n",
       "min     13.000000    0.000000  0.000000  269.400000   0.210000   \n",
       "50%    261.000000    0.890000  0.000000  309.100000   0.680000   \n",
       "max    356.000000    1.000000  2.000000  378.700000   0.930000   \n",
       "\n",
       "      precipIntensityMax  temperatureMin  temperatureMax  \n",
       "mean            0.037449       33.261621       45.178708  \n",
       "std             0.055076        6.438235        5.696521  \n",
       "min             0.000000       17.850000       33.510000  \n",
       "50%             0.000700       34.240000       44.660000  \n",
       "max             0.143300       43.100000       57.870000  "
      ]
     },
     "execution_count": 93,
     "metadata": {},
     "output_type": "execute_result"
    }
   ],
   "source": [
    "data9.iloc[:,[i for i in range(15,27) if i != 8]].describe().drop([\"count\", \"25%\", \"75%\"], axis = 0)"
   ]
  },
  {
   "cell_type": "code",
   "execution_count": 94,
   "id": "9c858831",
   "metadata": {},
   "outputs": [
    {
     "data": {
      "text/html": [
       "<div>\n",
       "<style scoped>\n",
       "    .dataframe tbody tr th:only-of-type {\n",
       "        vertical-align: middle;\n",
       "    }\n",
       "\n",
       "    .dataframe tbody tr th {\n",
       "        vertical-align: top;\n",
       "    }\n",
       "\n",
       "    .dataframe thead th {\n",
       "        text-align: right;\n",
       "    }\n",
       "</style>\n",
       "<table border=\"1\" class=\"dataframe\">\n",
       "  <thead>\n",
       "    <tr style=\"text-align: right;\">\n",
       "      <th></th>\n",
       "      <th>temperature</th>\n",
       "      <th>apparentTemperature</th>\n",
       "      <th>precipIntensity</th>\n",
       "      <th>humidity</th>\n",
       "      <th>windSpeed</th>\n",
       "      <th>windGust</th>\n",
       "      <th>visibility</th>\n",
       "      <th>temperatureHigh</th>\n",
       "      <th>temperatureLow</th>\n",
       "      <th>apparentTemperatureHigh</th>\n",
       "      <th>...</th>\n",
       "      <th>dewPoint</th>\n",
       "      <th>pressure</th>\n",
       "      <th>windBearing</th>\n",
       "      <th>cloudCover</th>\n",
       "      <th>uvIndex</th>\n",
       "      <th>ozone</th>\n",
       "      <th>moonPhase</th>\n",
       "      <th>precipIntensityMax</th>\n",
       "      <th>temperatureMin</th>\n",
       "      <th>temperatureMax</th>\n",
       "    </tr>\n",
       "  </thead>\n",
       "  <tbody>\n",
       "    <tr>\n",
       "      <th>0</th>\n",
       "      <td>37.343298</td>\n",
       "      <td>32.188688</td>\n",
       "      <td>0.0</td>\n",
       "      <td>0.715961</td>\n",
       "      <td>4.396883</td>\n",
       "      <td>5.63627</td>\n",
       "      <td>6.25268</td>\n",
       "      <td>43.903924</td>\n",
       "      <td>32.268144</td>\n",
       "      <td>39.450143</td>\n",
       "      <td>...</td>\n",
       "      <td>26.024677</td>\n",
       "      <td>1009.894927</td>\n",
       "      <td>132.399999</td>\n",
       "      <td>0.0</td>\n",
       "      <td>0.0</td>\n",
       "      <td>311.234379</td>\n",
       "      <td>0.45086</td>\n",
       "      <td>0.0</td>\n",
       "      <td>31.681015</td>\n",
       "      <td>44.462909</td>\n",
       "    </tr>\n",
       "  </tbody>\n",
       "</table>\n",
       "<p>1 rows × 21 columns</p>\n",
       "</div>"
      ],
      "text/plain": [
       "   temperature  apparentTemperature  precipIntensity  humidity  windSpeed  \\\n",
       "0    37.343298            32.188688              0.0  0.715961   4.396883   \n",
       "\n",
       "   windGust  visibility  temperatureHigh  temperatureLow  \\\n",
       "0   5.63627     6.25268        43.903924       32.268144   \n",
       "\n",
       "   apparentTemperatureHigh  ...   dewPoint     pressure  windBearing  \\\n",
       "0                39.450143  ...  26.024677  1009.894927   132.399999   \n",
       "\n",
       "   cloudCover  uvIndex       ozone  moonPhase  precipIntensityMax  \\\n",
       "0         0.0      0.0  311.234379    0.45086                 0.0   \n",
       "\n",
       "   temperatureMin  temperatureMax  \n",
       "0       31.681015       44.462909  \n",
       "\n",
       "[1 rows x 21 columns]"
      ]
     },
     "execution_count": 94,
     "metadata": {},
     "output_type": "execute_result"
    }
   ],
   "source": [
    "# Harmonic Mean of the  column in dataframe\n",
    "hmean = stats.hmean(data8.iloc[:,[i for i in range(5,27) if i != 8]],axis=0)\n",
    "hmean_df = pd.DataFrame(hmean.reshape(1,-1), columns = data9.iloc[:,[i for i in range(5,27) if i != 8]].columns)\n",
    "hmean_df"
   ]
  },
  {
   "cell_type": "code",
   "execution_count": 95,
   "id": "4c817a96",
   "metadata": {},
   "outputs": [
    {
     "data": {
      "text/html": [
       "<div>\n",
       "<style scoped>\n",
       "    .dataframe tbody tr th:only-of-type {\n",
       "        vertical-align: middle;\n",
       "    }\n",
       "\n",
       "    .dataframe tbody tr th {\n",
       "        vertical-align: top;\n",
       "    }\n",
       "\n",
       "    .dataframe thead th {\n",
       "        text-align: right;\n",
       "    }\n",
       "</style>\n",
       "<table border=\"1\" class=\"dataframe\">\n",
       "  <thead>\n",
       "    <tr style=\"text-align: right;\">\n",
       "      <th></th>\n",
       "      <th>kurtosis</th>\n",
       "      <th>skew</th>\n",
       "    </tr>\n",
       "  </thead>\n",
       "  <tbody>\n",
       "    <tr>\n",
       "      <th>temperature</th>\n",
       "      <td>0.332026</td>\n",
       "      <td>-0.490141</td>\n",
       "    </tr>\n",
       "    <tr>\n",
       "      <th>apparentTemperature</th>\n",
       "      <td>0.578180</td>\n",
       "      <td>-0.340122</td>\n",
       "    </tr>\n",
       "    <tr>\n",
       "      <th>precipIntensity</th>\n",
       "      <td>8.746393</td>\n",
       "      <td>3.158192</td>\n",
       "    </tr>\n",
       "    <tr>\n",
       "      <th>humidity</th>\n",
       "      <td>-1.093646</td>\n",
       "      <td>-0.286551</td>\n",
       "    </tr>\n",
       "    <tr>\n",
       "      <th>windSpeed</th>\n",
       "      <td>-0.833456</td>\n",
       "      <td>0.455390</td>\n",
       "    </tr>\n",
       "    <tr>\n",
       "      <th>windGust</th>\n",
       "      <td>0.452778</td>\n",
       "      <td>1.077045</td>\n",
       "    </tr>\n",
       "    <tr>\n",
       "      <th>visibility</th>\n",
       "      <td>0.284481</td>\n",
       "      <td>-1.401091</td>\n",
       "    </tr>\n",
       "    <tr>\n",
       "      <th>temperatureHigh</th>\n",
       "      <td>0.011188</td>\n",
       "      <td>-0.015424</td>\n",
       "    </tr>\n",
       "    <tr>\n",
       "      <th>temperatureLow</th>\n",
       "      <td>-0.503683</td>\n",
       "      <td>-0.268129</td>\n",
       "    </tr>\n",
       "    <tr>\n",
       "      <th>apparentTemperatureHigh</th>\n",
       "      <td>0.153093</td>\n",
       "      <td>-0.112496</td>\n",
       "    </tr>\n",
       "    <tr>\n",
       "      <th>apparentTemperatureLow</th>\n",
       "      <td>0.295383</td>\n",
       "      <td>-0.440552</td>\n",
       "    </tr>\n",
       "    <tr>\n",
       "      <th>dewPoint</th>\n",
       "      <td>-0.099948</td>\n",
       "      <td>-0.521496</td>\n",
       "    </tr>\n",
       "    <tr>\n",
       "      <th>pressure</th>\n",
       "      <td>-1.113697</td>\n",
       "      <td>0.074494</td>\n",
       "    </tr>\n",
       "    <tr>\n",
       "      <th>windBearing</th>\n",
       "      <td>-0.935359</td>\n",
       "      <td>-0.685225</td>\n",
       "    </tr>\n",
       "    <tr>\n",
       "      <th>cloudCover</th>\n",
       "      <td>-0.971209</td>\n",
       "      <td>-0.748141</td>\n",
       "    </tr>\n",
       "    <tr>\n",
       "      <th>uvIndex</th>\n",
       "      <td>-0.403616</td>\n",
       "      <td>0.765745</td>\n",
       "    </tr>\n",
       "    <tr>\n",
       "      <th>ozone</th>\n",
       "      <td>-0.875145</td>\n",
       "      <td>0.355154</td>\n",
       "    </tr>\n",
       "    <tr>\n",
       "      <th>moonPhase</th>\n",
       "      <td>-1.568067</td>\n",
       "      <td>-0.310990</td>\n",
       "    </tr>\n",
       "    <tr>\n",
       "      <th>precipIntensityMax</th>\n",
       "      <td>-0.849591</td>\n",
       "      <td>0.998304</td>\n",
       "    </tr>\n",
       "    <tr>\n",
       "      <th>temperatureMin</th>\n",
       "      <td>0.039130</td>\n",
       "      <td>-0.779009</td>\n",
       "    </tr>\n",
       "    <tr>\n",
       "      <th>temperatureMax</th>\n",
       "      <td>0.121733</td>\n",
       "      <td>0.295310</td>\n",
       "    </tr>\n",
       "  </tbody>\n",
       "</table>\n",
       "</div>"
      ],
      "text/plain": [
       "                         kurtosis      skew\n",
       "temperature              0.332026 -0.490141\n",
       "apparentTemperature      0.578180 -0.340122\n",
       "precipIntensity          8.746393  3.158192\n",
       "humidity                -1.093646 -0.286551\n",
       "windSpeed               -0.833456  0.455390\n",
       "windGust                 0.452778  1.077045\n",
       "visibility               0.284481 -1.401091\n",
       "temperatureHigh          0.011188 -0.015424\n",
       "temperatureLow          -0.503683 -0.268129\n",
       "apparentTemperatureHigh  0.153093 -0.112496\n",
       "apparentTemperatureLow   0.295383 -0.440552\n",
       "dewPoint                -0.099948 -0.521496\n",
       "pressure                -1.113697  0.074494\n",
       "windBearing             -0.935359 -0.685225\n",
       "cloudCover              -0.971209 -0.748141\n",
       "uvIndex                 -0.403616  0.765745\n",
       "ozone                   -0.875145  0.355154\n",
       "moonPhase               -1.568067 -0.310990\n",
       "precipIntensityMax      -0.849591  0.998304\n",
       "temperatureMin           0.039130 -0.779009\n",
       "temperatureMax           0.121733  0.295310"
      ]
     },
     "execution_count": 95,
     "metadata": {},
     "output_type": "execute_result"
    }
   ],
   "source": [
    "kurtosis = pd.DataFrame(data9.iloc[:,[i for i in range(5,27) if i != 8]].kurtosis(), columns = [\"kurtosis\"])\n",
    "skew = pd.DataFrame(data9.iloc[:,[i for i in range(5,27) if i != 8]].skew(), columns = [\"skew\"])\n",
    "dist_st = pd.concat([kurtosis, skew], axis = 1)\n",
    "dist_st"
   ]
  },
  {
   "cell_type": "code",
   "execution_count": 96,
   "id": "7fceba2f",
   "metadata": {},
   "outputs": [
    {
     "data": {
      "text/plain": [
       "Text(0.5, 1.0, 'windGust')"
      ]
     },
     "execution_count": 96,
     "metadata": {},
     "output_type": "execute_result"
    },
    {
     "data": {
      "image/png": "[encoded data removed]",
      "text/plain": [
       "<Figure size 1080x720 with 4 Axes>"
      ]
     },
     "metadata": {
      "needs_background": "light"
     },
     "output_type": "display_data"
    }
   ],
   "source": [
    "fig = plt.figure(figsize = (15,10))\n",
    "\n",
    "#temperature\n",
    "plt.subplot(2,2,1)\n",
    "\n",
    "samples = data9.iloc[:,5]\n",
    "shape, loc, scale= stats.lognorm.fit(samples, floc=0)\n",
    "num_bins = 50\n",
    "clr = \"#EFEFEF\"\n",
    "counts,edges,patches = plt.hist(samples, bins = num_bins, color = clr)\n",
    "centers = 0.5 * (edges[:-1] + edges[1:])\n",
    "cdf = stats.lognorm.cdf(edges, shape, loc = loc, scale = scale)\n",
    "prob = np.diff(cdf)\n",
    "plt.plot(centers, samples.size * prob, 'k-', linewidth=2)\n",
    "plt.title(\"temperature\")\n",
    "\n",
    "\n",
    "#apparentTemperature\n",
    "plt.subplot(2,2,2)\n",
    "\n",
    "samples = data9.iloc[:,6]\n",
    "shape,loc,scale = stats.lognorm.fit(samples, floc = 0)\n",
    "num_bins = 50\n",
    "clr = \"#EFEFEF\"\n",
    "counts,edges,patches = plt.hist(samples,bins = num_bins, color = clr)\n",
    "centers = 0.5 * (edges[:-1] + edges[1:])\n",
    "cdf = stats.lognorm.cdf(edges, shape,loc = loc, scale = scale)\n",
    "prob = np.diff(cdf)\n",
    "plt.plot(centers, samples.size * prob,'k-', linewidth = 2)\n",
    "plt.title(\"apparentTemperature\")\n",
    "\n",
    "\n",
    "#windSpeed\n",
    "plt.subplot(2,2,3)\n",
    "\n",
    "samples = data9.iloc[:,10]\n",
    "shape,loc,scale = stats.lognorm.fit(samples, floc = 0)\n",
    "num_bins = 50\n",
    "clr=\"#EFEFEF\"\n",
    "counts,edges,patches = plt.hist(samples,bins = num_bins, color = clr)\n",
    "centers = 0.5 * (edges[:-1] + edges[1:])\n",
    "cdf = stats.lognorm.cdf(edges,shape, loc = loc,scale = scale)\n",
    "prob = np.diff(cdf)\n",
    "plt.plot(centers, samples.size * prob, 'k-', linewidth = 2)\n",
    "plt.title(\"windSpeed\")\n",
    "\n",
    "\n",
    "#windGust\n",
    "plt.subplot(2,2,4)\n",
    "\n",
    "samples = data9.iloc[:,11]\n",
    "shape,loc,scale = stats.lognorm.fit(samples, floc = 0)\n",
    "num_bins = 50\n",
    "clr = \"#EFEFEF\"\n",
    "counts,edges,patches = plt.hist(samples, bins = num_bins, color = clr)\n",
    "centers = 0.5 * (edges[:-1] + edges[1:])\n",
    "cdf = stats.lognorm.cdf(edges,shape,loc = loc, scale = scale)\n",
    "prob = np.diff(cdf)\n",
    "plt.plot(centers, samples.size * prob, 'k-', linewidth = 2)\n",
    "plt.title(\"windGust\")"
   ]
  },
  {
   "cell_type": "code",
   "execution_count": 97,
   "id": "c0fe3cb2",
   "metadata": {},
   "outputs": [
    {
     "data": {
      "text/plain": [
       "F_onewayResult(statistic=3445088.2879465516, pvalue=0.0)"
      ]
     },
     "execution_count": 97,
     "metadata": {},
     "output_type": "execute_result"
    }
   ],
   "source": [
    "f_oneway(data9[\"temperatureMean\"], data9[\"distance\"])"
   ]
  },
  {
   "cell_type": "code",
   "execution_count": 98,
   "id": "4f8de4c6",
   "metadata": {},
   "outputs": [
    {
     "name": "stdout",
     "output_type": "stream",
     "text": [
      "ANOVA table\n",
      "----------------------\n",
      "                sum_sq       df         F    PR(>F)\n",
      "distance  2.343178e+00      1.0  0.070814  0.790156\n",
      "Residual  2.869157e+06  86710.0       NaN       NaN\n",
      "\n"
     ]
    }
   ],
   "source": [
    "mod = ols('temperatureMean ~ distance', data = data9).fit()\n",
    "\n",
    "# do type 2 anova\n",
    "aov_table = sm.stats.anova_lm(mod, typ=2)\n",
    "print('ANOVA table')\n",
    "print('----------------------')\n",
    "print(aov_table)\n",
    "print()"
   ]
  },
  {
   "cell_type": "markdown",
   "id": "6bf310d0",
   "metadata": {},
   "source": [
    "# Feature Selection"
   ]
  },
  {
   "cell_type": "markdown",
   "id": "1094caf9",
   "metadata": {},
   "source": [
    "### method2 (PFA)"
   ]
  },
  {
   "cell_type": "code",
   "execution_count": null,
   "id": "1f3ae053",
   "metadata": {},
   "outputs": [],
   "source": [
    "from sklearn.decomposition import PCA\n",
    "from sklearn.cluster import KMeans\n",
    "from collections import defaultdict\n",
    "from sklearn.metrics.pairwise import euclidean_distances\n",
    "from sklearn.preprocessing import StandardScaler\n",
    "\n",
    "class PFA(object):\n",
    "    def __init__(self, n_features, q=None):\n",
    "        self.q = q\n",
    "        self.n_features = n_features\n",
    "\n",
    "    def fit(self, X):\n",
    "        if not self.q:\n",
    "            self.q = X.shape[1]\n",
    "\n",
    "        sc = StandardScaler()\n",
    "        X = sc.fit_transform(X)\n",
    "\n",
    "        pca = PCA(n_components=self.q).fit(X)\n",
    "        A_q = pca.components_.T\n",
    "\n",
    "        kmeans = KMeans(n_clusters=self.n_features).fit(A_q)\n",
    "        clusters = kmeans.predict(A_q)\n",
    "        cluster_centers = kmeans.cluster_centers_\n",
    "\n",
    "        dists = defaultdict(list)\n",
    "        for i, c in enumerate(clusters):\n",
    "            dist = euclidean_distances([A_q[i, :]], [cluster_centers[c, :]])[0][0]\n",
    "            dists[c].append((i, dist))\n",
    "\n",
    "        self.indices_ = [sorted(f, key=lambda x: x[1])[0][0] for f in dists.values()]\n",
    "        self.features_ = X[:, self.indices_]"
   ]
  },
  {
   "cell_type": "code",
   "execution_count": null,
   "id": "b6dbee27",
   "metadata": {},
   "outputs": [],
   "source": [
    "pfa = PFA(n_features=15)\n",
    "pfa.fit(x)\n",
    "\n",
    "# To get the transformed matrix\n",
    "x = pfa.features_\n",
    "\n",
    "# To get the column indices of the kept features\n",
    "column_indices = pfa.indices_"
   ]
  },
  {
   "cell_type": "markdown",
   "id": "59b8a333",
   "metadata": {},
   "source": [
    "### method3 (HillClimbSearch)"
   ]
  },
  {
   "cell_type": "code",
   "execution_count": null,
   "id": "29ffc6d3",
   "metadata": {},
   "outputs": [],
   "source": [
    "hc = HillClimbSearch(x, scoring_method = BicScore(x))\n",
    "best_model = hc.estimate()\n",
    "print(best_model.edges())"
   ]
  },
  {
   "cell_type": "code",
   "execution_count": 71,
   "id": "62ae8477",
   "metadata": {},
   "outputs": [
    {
     "data": {
      "text/plain": [
       "Index(['distance', 'temperature', 'apparentTemperature', 'precipIntensity',\n",
       "       'precipProbability', 'humidity', 'windSpeed', 'windGust', 'visibility',\n",
       "       'temperatureHigh', 'temperatureLow', 'apparentTemperatureHigh',\n",
       "       'apparentTemperatureLow', 'dewPoint', 'pressure', 'windBearing',\n",
       "       'cloudCover', 'uvIndex', 'ozone', 'moonPhase', 'precipIntensityMax',\n",
       "       'temperatureMin', 'temperatureMax', 'apparentTemperatureMin',\n",
       "       'apparentTemperatureMax', 'temperatureMean', 'apparentTemperatureMean'],\n",
       "      dtype='object')"
      ]
     },
     "execution_count": 71,
     "metadata": {},
     "output_type": "execute_result"
    }
   ],
   "source": [
    "x.columns"
   ]
  },
  {
   "cell_type": "markdown",
   "id": "097c3f86",
   "metadata": {},
   "source": [
    "### method4 (Eliminate low variance features)"
   ]
  },
  {
   "cell_type": "code",
   "execution_count": null,
   "id": "d36a5cb5",
   "metadata": {},
   "outputs": [],
   "source": [
    "## Define the variance threhold and fit the threshold to the feature array. \n",
    "sel = fs.VarianceThreshold(threshold=(.8 * (1 - .8)))\n",
    "Features_reduced = sel.fit_transform(Features)\n",
    "\n",
    "## Print the support and shape for the transformed features\n",
    "print(sel.get_support())\n",
    "print(Features_reduced.shape)"
   ]
  },
  {
   "cell_type": "markdown",
   "id": "8eb67fe5",
   "metadata": {},
   "source": [
    "### method5 (MDP)"
   ]
  },
  {
   "cell_type": "code",
   "execution_count": null,
   "id": "1ef80420",
   "metadata": {},
   "outputs": [],
   "source": [
    "def generate_MDP_input2(original_data, features):\n",
    "\n",
    "    students_variables = ['student', 'priorTutorAction', 'reward']\n",
    "\n",
    "    # generate distinct state based on feature\n",
    "    #original_data['state'] = original_data[features].apply(lambda x: ':'.join(str(v) for v in x), axis=1)\n",
    "    original_data['state'] = original_data[features].apply(tuple, axis=1)\n",
    "    students_variables = students_variables + ['state']\n",
    "    data = original_data[students_variables]\n",
    "\n",
    "    # quantify actions\n",
    "    distinct_acts = list(data['priorTutorAction'].unique())\n",
    "    Nx = len(distinct_acts)\n",
    "    i = 0\n",
    "    for act in distinct_acts:\n",
    "        data.loc[data['priorTutorAction'] == act, 'priorTutorAction'] = i\n",
    "        i += 1\n",
    "\n",
    "    # initialize state transition table, expected reward table, starting state table\n",
    "    # distinct_states didn't contain terminal state\n",
    "    student_list = list(data['student'].unique())\n",
    "    distinct_states = list()\n",
    "    for student in student_list:\n",
    "        student_data = data.loc[data['student'] == student,]\n",
    "        # don't consider last row\n",
    "        temp_states = list(student_data['state'])[0:-1]\n",
    "        distinct_states = distinct_states + temp_states\n",
    "    distinct_states = list(set(distinct_states))\n",
    "\n",
    "    Ns = len(distinct_states)\n",
    "\n",
    "    # we include terminal state\n",
    "    start_states = np.zeros(Ns + 1)\n",
    "    A = np.zeros((Nx, Ns+1, Ns+1))\n",
    "    expectR = np.zeros((Nx, Ns+1, Ns+1))\n",
    "\n",
    "    # update table values episode by episode\n",
    "    # each episode is a student data set\n",
    "    for student in student_list:\n",
    "        student_data = data.loc[data['student'] == student,]\n",
    "        row_list = student_data.index.tolist()\n",
    "\n",
    "        # count the number of start state\n",
    "        start_states[distinct_states.index(student_data.loc[row_list[0], 'state'])] += 1\n",
    "\n",
    "        # count the number of transition among states without terminal state\n",
    "        for i in range(1, (len(row_list)-1)):\n",
    "            state1 = distinct_states.index(student_data.loc[row_list[i - 1], 'state'])\n",
    "            state2 = distinct_states.index(student_data.loc[row_list[i], 'state'])\n",
    "            act = student_data.loc[row_list[i], 'priorTutorAction']\n",
    "\n",
    "            # count the state transition\n",
    "            A[act, state1, state2] += 1\n",
    "            expectR[act, state1, state2] += float(student_data.loc[row_list[i], 'reward'])\n",
    "\n",
    "        # count the number of transition from state to terminal\n",
    "        state1 = distinct_states.index(student_data.loc[row_list[-2], 'state'])\n",
    "        act = student_data.loc[row_list[-1], 'priorTutorAction']\n",
    "        A[act, state1, Ns] += 1\n",
    "        expectR[act, state1, Ns] += float(student_data.loc[row_list[-1], 'reward'])\n",
    "\n",
    "    # normalization\n",
    "    start_states = start_states / np.sum(start_states)\n",
    "\n",
    "    for act in range(Nx):\n",
    "        A[act, Ns, Ns] = 1\n",
    "        # generate expected reward\n",
    "        with np.errstate(divide='ignore', invalid='ignore'):\n",
    "            expectR[act] = np.divide(expectR[act], A[act])\n",
    "            expectR[np.isnan(expectR)] = 0\n",
    "\n",
    "        # each column will sum to 1 for each row, obtain the state transition table\n",
    "        for l in np.where(np.sum(A[act], axis=1) == 0)[0]:\n",
    "            A[act][l][l] = 1\n",
    "        A[act] = np.divide(A[act].transpose(), np.sum(A[act], axis=1))\n",
    "        A[act] = A[act].transpose()\n",
    "\n",
    "    return [start_states, A, expectR, distinct_acts, distinct_states]\n",
    "\n",
    "\n",
    "def calcuate_ECR(start_states, expectV):\n",
    "    ECR_value = start_states.dot(np.array(expectV))\n",
    "    return ECR_value\n",
    "\n",
    "\n",
    "def output_policy(distinct_acts, distinct_states, vi):\n",
    "    Ns = len(distinct_states)\n",
    "    print('Policy: ')\n",
    "    print('state -> action, value-function')\n",
    "    countwe = 0\n",
    "    countps = 0\n",
    "    for s in range(Ns):\n",
    "        if (str(distinct_acts[vi.policy[s]]) == 'WE'):\n",
    "            countwe += 1\n",
    "        elif (str(distinct_acts[vi.policy[s]]) == 'PS'):\n",
    "            countps += 1\n",
    "        print(str(distinct_states[s]) + \" -> \" + str(distinct_acts[vi.policy[s]]) + \", \" + str(vi.V[s]))\n",
    "    print countwe\n",
    "    print countps\n",
    "    print Ns\n",
    "\n",
    "def checkFeatures(original_data):\n",
    "    cols = list(original_data.columns)\n",
    "\n",
    "    max_ecr = 0.0\n",
    "    max_selected_features = []\n",
    "    for i in range(7, len(cols)):\n",
    "        if (original_data[cols[i]].dtype == 'int64' and cols[i] != 'cumul_Interaction'):# and len(set(original_data[cols[i]])) <= 10):\n",
    "            selected_features = ['cumul_Interaction', cols[i]]\n",
    "            #print selected_features\n",
    "            #selected_features = ['Level', 'probDiff']\n",
    "            ecr = induce_policy_MDP2(original_data, selected_features)\n",
    "            if (ecr > max_ecr):\n",
    "                max_ecr = ecr\n",
    "                max_selected_features = selected_features\n",
    "    print max_selected_features\n",
    "    return max_ecr\n",
    "\n",
    "\n",
    "def induce_policy_MDP2(original_data, selected_features):\n",
    "\n",
    "    print(selected_features)\n",
    "    [start_states, A, expectR, distinct_acts, distinct_states] = generate_MDP_input2(original_data, selected_features)\n",
    "\n",
    "    # apply Value Iteration to run the MDP\n",
    "    vi = mdptoolbox.mdp.ValueIteration(A, expectR, 0.9)\n",
    "    vi.run()\n",
    "\n",
    "    # output policy\n",
    "    output_policy(distinct_acts, distinct_states, vi)\n",
    "\n",
    "    # evaluate policy using ECR\n",
    "    ECR_value = calcuate_ECR(start_states, vi.V)\n",
    "    print('ECR value: ' + str(ECR_value))\n",
    "    return ECR_value\n",
    "\n",
    "if __name__ == \"__main__\":\n",
    "\n",
    "    original_data = pandas.read_csv('data/MDP_Original_data2.csv')\n",
    "    famd_data = pandas.read_csv('data/famd/FAMD_features.csv')\n",
    "    x = pandas.cut(famd_data['Dim.6'], 2, labels=False)\n",
    "    two_features = original_data[['Level', 'cumul_Interaction']]\n",
    "\n",
    "    nn_data = pandas.read_csv('data/nn/nn_scrap/nn_discreitized_data.csv')\n",
    "    selected_features = ['Level', 'cumul_Interaction', 'Dim.6']\n",
    "    total_data = pandas.concat([original_data.iloc[:,0:6], two_features, x], axis=1)\n",
    "    #selected_features = ['symbolicRepresentationCount']\n",
    "    ECR_value = induce_policy_MDP2(total_data, selected_features)\n",
    "    #print checkFeatures(original_data)"
   ]
  },
  {
   "cell_type": "markdown",
   "id": "7ca90f01",
   "metadata": {},
   "source": [
    "### method6 (NDFS)"
   ]
  },
  {
   "cell_type": "code",
   "execution_count": null,
   "id": "423cb6f6",
   "metadata": {},
   "outputs": [],
   "source": [
    "import scipy.io\n",
    "from skfeature.function.sparse_learning_based import NDFS\n",
    "from skfeature.utility import construct_W\n",
    "from skfeature.utility.sparse_learning import feature_ranking\n",
    "from skfeature.utility import unsupervised_evaluation\n",
    "\n",
    "\n",
    "def main():\n",
    "    # load data\n",
    "    mat = scipy.io.loadmat('../data/COIL20.mat')\n",
    "    X = mat['X']    # data\n",
    "    X = X.astype(float)\n",
    "    y = mat['Y']    # label\n",
    "    y = y[:, 0]\n",
    "\n",
    "    # construct affinity matrix\n",
    "    kwargs = {\"metric\": \"euclidean\", \"neighborMode\": \"knn\", \"weightMode\": \"heatKernel\", \"k\": 5, 't': 1}\n",
    "    W = construct_W.construct_W(X, **kwargs)\n",
    "\n",
    "    # obtain the feature weight matrix\n",
    "    Weight = NDFS.ndfs(X, W=W, n_clusters=20)\n",
    "\n",
    "    # sort the feature scores in an ascending order according to the feature scores\n",
    "    idx = feature_ranking(Weight)\n",
    "\n",
    "    # perform evaluation on clustering task\n",
    "    num_fea = 100    # number of selected features\n",
    "    num_cluster = 20    # number of clusters, it is usually set as the number of classes in the ground truth\n",
    "\n",
    "    # obtain the dataset on the selected features\n",
    "    selected_features = X[:, idx[0:num_fea]]\n",
    "\n",
    "    # perform kmeans clustering based on the selected features and repeats 20 times\n",
    "    nmi_total = 0\n",
    "    acc_total = 0\n",
    "    for i in range(0, 20):\n",
    "        nmi, acc = unsupervised_evaluation.evaluation(X_selected=selected_features, n_clusters=num_cluster, y=y)\n",
    "        nmi_total += nmi\n",
    "        acc_total += acc\n",
    "\n",
    "    # output the average NMI and average ACC\n",
    "    print 'NMI:', float(nmi_total)/20\n",
    "    print 'ACC:', float(acc_total)/20"
   ]
  },
  {
   "cell_type": "markdown",
   "id": "166c4837",
   "metadata": {},
   "source": [
    "### method7 (SPEC)"
   ]
  },
  {
   "cell_type": "code",
   "execution_count": null,
   "id": "0267b8df",
   "metadata": {},
   "outputs": [],
   "source": [
    "import scipy.io\n",
    "from skfeature.function.similarity_based import SPEC\n",
    "from skfeature.utility import unsupervised_evaluation\n",
    "\n",
    "\n",
    "def main():\n",
    "    # load data\n",
    "    mat = scipy.io.loadmat('../data/COIL20.mat')\n",
    "    X = mat['X']    # data\n",
    "    X = X.astype(float)\n",
    "    y = mat['Y']    # label\n",
    "    y = y[:, 0]\n",
    "\n",
    "    # specify the second ranking function which uses all except the 1st eigenvalue\n",
    "    kwargs = {'style': 0}\n",
    "\n",
    "    # obtain the scores of features\n",
    "    score = SPEC.spec(X, **kwargs)\n",
    "\n",
    "    # sort the feature scores in an descending order according to the feature scores\n",
    "    idx = SPEC.feature_ranking(score, **kwargs)\n",
    "\n",
    "    # perform evaluation on clustering task\n",
    "    num_fea = 100    # number of selected features\n",
    "    num_cluster = 20    # number of clusters, it is usually set as the number of classes in the ground truth\n",
    "\n",
    "    # obtain the dataset on the selected features\n",
    "    selected_features = X[:, idx[0:num_fea]]\n",
    "\n",
    "    # perform kmeans clustering based on the selected features and repeats 20 times\n",
    "    nmi_total = 0\n",
    "    acc_total = 0\n",
    "    for i in range(0, 20):\n",
    "        nmi, acc = unsupervised_evaluation.evaluation(X_selected=selected_features, n_clusters=num_cluster, y=y)\n",
    "        nmi_total += nmi\n",
    "        acc_total += acc\n",
    "\n",
    "    # output the average NMI and average ACC\n",
    "    print 'NMI:', float(nmi_total)/20\n",
    "    print 'ACC:', float(acc_total)/20"
   ]
  },
  {
   "cell_type": "markdown",
   "id": "68edde23",
   "metadata": {},
   "source": [
    "### method8 (UDFS)"
   ]
  },
  {
   "cell_type": "code",
   "execution_count": null,
   "id": "c2e4b002",
   "metadata": {},
   "outputs": [],
   "source": [
    "import scipy.io\n",
    "from skfeature.function.sparse_learning_based import UDFS\n",
    "from skfeature.utility import unsupervised_evaluation\n",
    "from skfeature.utility.sparse_learning import feature_ranking\n",
    "\n",
    "\n",
    "def main():\n",
    "    # load data\n",
    "    mat = scipy.io.loadmat('../data/COIL20.mat')\n",
    "    X = mat['X']    # data\n",
    "    X = X.astype(float)\n",
    "    y = mat['Y']    # label\n",
    "    y = y[:, 0]\n",
    "\n",
    "    # perform evaluation on clustering task\n",
    "    num_fea = 100    # number of selected features\n",
    "    num_cluster = 20    # number of clusters, it is usually set as the number of classes in the ground truth\n",
    "\n",
    "    # obtain the feature weight matrix\n",
    "    Weight = UDFS.udfs(X, gamma=0.1, n_clusters=num_cluster)\n",
    "\n",
    "    # sort the feature scores in an ascending order according to the feature scores\n",
    "    idx = feature_ranking(Weight)\n",
    "\n",
    "    # obtain the dataset on the selected features\n",
    "    selected_features = X[:, idx[0:num_fea]]\n",
    "\n",
    "    # perform kmeans clustering based on the selected features and repeats 20 times\n",
    "    nmi_total = 0\n",
    "    acc_total = 0\n",
    "    for i in range(0, 20):\n",
    "        nmi, acc = unsupervised_evaluation.evaluation(X_selected=selected_features, n_clusters=num_cluster, y=y)\n",
    "        nmi_total += nmi\n",
    "        acc_total += acc\n",
    "\n",
    "    # output the average NMI and average ACC\n",
    "    print 'NMI:', float(nmi_total)/20\n",
    "    print 'ACC:', float(acc_total)/20"
   ]
  },
  {
   "cell_type": "markdown",
   "id": "51cfdfa4",
   "metadata": {},
   "source": [
    "### method9 (Lap-Score)"
   ]
  },
  {
   "cell_type": "code",
   "execution_count": null,
   "id": "750a993d",
   "metadata": {},
   "outputs": [],
   "source": [
    "import scipy.io\n",
    "from skfeature.function.similarity_based import lap_score\n",
    "from skfeature.utility import construct_W\n",
    "from skfeature.utility import unsupervised_evaluation\n",
    "\n",
    "\n",
    "def main():\n",
    "    # load data\n",
    "    mat = scipy.io.loadmat('../data/COIL20.mat')\n",
    "    X = mat['X']    # data\n",
    "    X = X.astype(float)\n",
    "    y = mat['Y']    # label\n",
    "    y = y[:, 0]\n",
    "\n",
    "    # construct affinity matrix\n",
    "    kwargs_W = {\"metric\": \"euclidean\", \"neighbor_mode\": \"knn\", \"weight_mode\": \"heat_kernel\", \"k\": 5, 't': 1}\n",
    "    W = construct_W.construct_W(X, **kwargs_W)\n",
    "\n",
    "    # obtain the scores of features\n",
    "    score = lap_score.lap_score(X, W=W)\n",
    "\n",
    "    # sort the feature scores in an ascending order according to the feature scores\n",
    "    idx = lap_score.feature_ranking(score)\n",
    "\n",
    "    # perform evaluation on clustering task\n",
    "    num_fea = 100    # number of selected features\n",
    "    num_cluster = 20    # number of clusters, it is usually set as the number of classes in the ground truth\n",
    "\n",
    "    # obtain the dataset on the selected features\n",
    "    selected_features = X[:, idx[0:num_fea]]\n",
    "\n",
    "    # perform kmeans clustering based on the selected features and repeats 20 times\n",
    "    nmi_total = 0\n",
    "    acc_total = 0\n",
    "    for i in range(0, 20):\n",
    "        nmi, acc = unsupervised_evaluation.evaluation(X_selected=selected_features, n_clusters=num_cluster, y=y)\n",
    "        nmi_total += nmi\n",
    "        acc_total += acc\n",
    "\n",
    "    # output the average NMI and average ACC\n",
    "    print 'NMI:', float(nmi_total)/20\n",
    "    print 'ACC:', float(acc_total)/20"
   ]
  },
  {
   "cell_type": "markdown",
   "id": "4851e650",
   "metadata": {},
   "source": [
    "### method10 (MCFS)"
   ]
  },
  {
   "cell_type": "code",
   "execution_count": null,
   "id": "53528a26",
   "metadata": {},
   "outputs": [],
   "source": [
    "import scipy.io\n",
    "from skfeature.function.sparse_learning_based import MCFS\n",
    "from skfeature.utility import construct_W\n",
    "from skfeature.utility import unsupervised_evaluation\n",
    "\n",
    "\n",
    "def main():\n",
    "    # load data\n",
    "    mat = scipy.io.loadmat('../data/COIL20.mat')\n",
    "    X = mat['X']    # data\n",
    "    X = X.astype(float)\n",
    "    y = mat['Y']    # label\n",
    "    y = y[:, 0]\n",
    "\n",
    "    # construct affinity matrix\n",
    "    kwargs = {\"metric\": \"euclidean\", \"neighborMode\": \"knn\", \"weightMode\": \"heatKernel\", \"k\": 5, 't': 1}\n",
    "    W = construct_W.construct_W(X, **kwargs)\n",
    "\n",
    "    num_fea = 100    # specify the number of selected features\n",
    "    num_cluster = 20    # specify the number of clusters, it is usually set as the number of classes in the ground truth\n",
    "\n",
    "    # obtain the feature weight matrix\n",
    "    Weight = MCFS.mcfs(X, n_selected_features=num_fea, W=W, n_clusters=20)\n",
    "\n",
    "    # sort the feature scores in an ascending order according to the feature scores\n",
    "    idx = MCFS.feature_ranking(Weight)\n",
    "\n",
    "    # obtain the dataset on the selected features\n",
    "    selected_features = X[:, idx[0:num_fea]]\n",
    "\n",
    "    # perform kmeans clustering based on the selected features and repeats 20 times\n",
    "    nmi_total = 0\n",
    "    acc_total = 0\n",
    "    for i in range(0, 20):\n",
    "        nmi, acc = unsupervised_evaluation.evaluation(X_selected=selected_features, n_clusters=num_cluster, y=y)\n",
    "        nmi_total += nmi\n",
    "        acc_total += acc\n",
    "\n",
    "    # output the average NMI and average ACC\n",
    "    print 'NMI:', float(nmi_total)/20\n",
    "    print 'ACC:', float(acc_total)/20"
   ]
  },
  {
   "cell_type": "markdown",
   "id": "7c14ff06",
   "metadata": {},
   "source": [
    "# Basic Dynamic Pricing"
   ]
  },
  {
   "cell_type": "code",
   "execution_count": null,
   "id": "6e479d17",
   "metadata": {},
   "outputs": [],
   "source": [
    "import autograd.numpy as np\n",
    "from autograd import value_and_grad\n",
    "from scipy.stats import gamma\n",
    "\n",
    "def model(w,x):\n",
    "    return np.dot(x[0].T,w)\n",
    "\n",
    "def least_squares(w,x,y):    \n",
    "    cost = np.sum((model(w,x) - y)**2)\n",
    "    return cost\n",
    "\n",
    "def gradient_descent(g,alpha,max_its,w,x,y):\n",
    "    gradient = value_and_grad(g)\n",
    "\n",
    "    weight_history = []      \n",
    "    cost_history = []\n",
    "\n",
    "    for k in range(1,max_its+1):\n",
    "        cost_eval,grad_eval = gradient(w,x,y)\n",
    "        \n",
    "        weight_history.append(w)\n",
    "        cost_history.append(cost_eval)\n",
    "\n",
    "        w = w - alpha*grad_eval\n",
    "\n",
    "    weight_history.append(w)\n",
    "    cost_history.append(g(w,x,y))\n",
    "    cost_history = np.asarray(cost_history)/x.shape[2]\n",
    "    \n",
    "    return weight_history,cost_history\n",
    "\n",
    "def generate_sample(sample_size, gen_probs, weights):\n",
    "    sample = np.random.rand(sample_size,len(gen_probs))\n",
    "    for i in range(sample.shape[1]):\n",
    "        sample[:,i] = [1 if x < gen_probs[i] else 0 for x in sample[:,i]]\n",
    "    sample = np.vstack((np.ones((1,sample_size)),sample.T)).T\n",
    "    value = []\n",
    "    for i in range(sample_size):\n",
    "        a = np.dot(weights,sample[i])\n",
    "        val = gamma.ppf(np.random.uniform(),a,scale = 1/np.sqrt(a))\n",
    "        value.append(np.round(val,2))\n",
    "    return sample, value\n",
    "\n",
    "def demand_curve(axis, value):\n",
    "    demand = []\n",
    "    sample_size = len(value)\n",
    "    for price in axis:\n",
    "        demand.append(sum(1 if x>=price else 0 for x in value)/sample_size)\n",
    "    return demand\n",
    "\n",
    "logistic_demand = lambda a,x0,x: 1/(1+np.exp(np.abs(a)*(x-x0)))\n",
    "\n",
    "def APP_s(axis, value, c):\n",
    "    app_s = []\n",
    "    sample_size = len(value)\n",
    "    demand = demand_curve(axis, value)\n",
    "    for i in range(len(axis)):\n",
    "        app_s.append(max(axis[i]-c,0)*demand[i])\n",
    "    return app_s\n",
    "\n",
    "def APP_d(w,x,y,c,d):\n",
    "    est = d*model(w,x)\n",
    "    ind = list(range(len(est)))\n",
    "    rev = sum(max(est[i],c) if y[0][i] >= max(est[i],c) else 0 for i in ind)\n",
    "    return rev/x.shape[2]"
   ]
  },
  {
   "cell_type": "markdown",
   "id": "9ae45f60",
   "metadata": {},
   "source": [
    "# Static Price Profit Maximization"
   ]
  },
  {
   "cell_type": "code",
   "execution_count": null,
   "id": "0fa9e417",
   "metadata": {},
   "outputs": [],
   "source": [
    "app_s_train = dp.APP_s(axis_2, y_train, c)\n",
    "index = np.argmax(app_s_train)\n",
    "app_s_test = dp.APP_s(axis_2, y_test, c)\n",
    "app_s_star = app_s_test[index]\n",
    "\n",
    "plt.figure()\n",
    "plt.plot(axis_2, app_s_train)\n",
    "plt.xlabel('Price of Good')\n",
    "plt.ylabel('APP')\n",
    "plt.title('Static Price Profit Maximization')\n",
    "plt.show()\n",
    "print('Optimized Static APP: {:.2f}'.format(app_s_star))\n",
    "print('Optimized Price:', axis_2[index])"
   ]
  },
  {
   "cell_type": "markdown",
   "id": "20c96065",
   "metadata": {},
   "source": [
    "# Dynamic Price Profit Maximization"
   ]
  },
  {
   "cell_type": "code",
   "execution_count": null,
   "id": "327338b6",
   "metadata": {},
   "outputs": [],
   "source": [
    "x_train = x_train[np.newaxis, :]\n",
    "y_train = y_train[np.newaxis, :]\n",
    "x_test = x_test[np.newaxis, :]\n",
    "y_test = y_test[np.newaxis, :]\n",
    "wh, ch = dp.gradient_descent(dp.least_squares,rate,max_it,np.random.rand(5),x_train,y_train)\n",
    "\n",
    "index = np.argmin(ch)\n",
    "w_star = wh[index]\n",
    "cost_train = ch[index]\n",
    "cost_test = dp.least_squares(w_star,x_test,y_test)/x_test.shape[2]\n",
    "app_d_1 = dp.APP_d(w_star,x_test,y_test,c,1)"
   ]
  },
  {
   "cell_type": "code",
   "execution_count": null,
   "id": "bb3b2cbb",
   "metadata": {},
   "outputs": [],
   "source": [
    "axis = range(max_it+1)\n",
    "plt.figure()\n",
    "plt.plot(axis,ch)\n",
    "plt.xlabel('Iteration')\n",
    "plt.ylabel('Cost')\n",
    "plt.title('Controller Training')\n",
    "plt.show()\n",
    "\n",
    "\n",
    "print('Optimized Weights: ', np.round(w_star,1))\n",
    "print('Optimized Cost: {:.2f}'.format(cost_train))\n",
    "print('Test Cost: {:.2f}'.format(cost_test))\n",
    "print('Dynamic APP: {:.2f}'.format(app_d_1))"
   ]
  },
  {
   "cell_type": "code",
   "execution_count": null,
   "id": "9b4552a9",
   "metadata": {},
   "outputs": [],
   "source": [
    "axis_d = np.linspace(0.7,1,16)\n",
    "app_d = []\n",
    "for d in axis_d:\n",
    "    app_d.append(dp.APP_d(w_star,x_test,y_test,c,d))\n",
    "\n",
    "d_star = axis_d[np.argmax(app_d)]\n",
    "app_d_star = dp.APP_d(w_star,x_train,y_train,c,d_star)\n",
    "\n",
    "plt.figure()\n",
    "plt.plot(axis_d,app_d)\n",
    "plt.xlabel('Discount')\n",
    "plt.ylabel('APP')\n",
    "plt.title('Dynamic Price Profit Maximization')\n",
    "plt.show()\n",
    "print('Optimized Discount: {:.2f}'.format(d_star))\n",
    "print('Test Dynamic APP: {:.2f}'.format(app_d_star))"
   ]
  },
  {
   "cell_type": "markdown",
   "id": "c0989da2",
   "metadata": {},
   "source": [
    "# RL and DRL Algorithms"
   ]
  },
  {
   "cell_type": "markdown",
   "id": "e25a4686",
   "metadata": {},
   "source": [
    "### Q-Learning"
   ]
  },
  {
   "cell_type": "code",
   "execution_count": null,
   "id": "f2e2580a",
   "metadata": {},
   "outputs": [],
   "source": [
    "\n",
    "import scipy\n",
    "import scipy.stats\n",
    "import numpy as np\n",
    "import random\n",
    "import pylab\n",
    "from keras.layers import Dense\n",
    "from keras.models import Sequential\n",
    "from collections import defaultdict\n",
    "\n",
    "MINPRICE = 3000\n",
    "MAXPRICE = 4600\n",
    "INITIALPRICE = 3800\n",
    "\n",
    "\n",
    "\n",
    "class Env:\n",
    "    def __init__(self):\n",
    "        self.action_space = ['u', 'l', 'c', 'r', 'd']\n",
    "        self.n_actions = len(self.action_space)  # 5 actions\n",
    "        self.marketPrice = INITIALPRICE            # InitialPrice\n",
    "        self.p_array = np.random.normal(self.marketPrice, 190, 500) #Passenger\n",
    "        self.p_count = len(self.p_array)                              \n",
    "        self.d_array = np.random.normal(self.marketPrice, 190, 500) #Driver\n",
    "        self.d_count = len(self.d_array)                                \n",
    "\n",
    "        \n",
    "\n",
    "    def acceptP(self, offer, preferred):\n",
    "        num = 0\n",
    "        for i in preferred:\n",
    "            x = (-offer + i) / 1600 \n",
    "        \n",
    "            if np.random.rand() <= scipy.stats.norm(0, 1).cdf(x):\n",
    "                num += 1\n",
    "        return num\n",
    "        \n",
    "\n",
    "    def acceptD(self, offer, preferred):\n",
    "        num = 0\n",
    "        for i in preferred:\n",
    "            x = (offer - i) / 1600\n",
    "\n",
    "            if np.random.rand() <= scipy.stats.norm(0, 1).cdf(x):\n",
    "                num += 1\n",
    "        return num\n",
    "        \n",
    "        \n",
    "    def step(self, action, count):\n",
    "        \n",
    "        if   action == 0:   # up : price-=80\n",
    "            count=0\n",
    "            self.marketPrice-=80\n",
    "            \n",
    "        elif action == 1:   # left : price-=20\n",
    "            count=0\n",
    "            self.marketPrice-=20\n",
    "            \n",
    "        elif action == 2:   # center : Nothing happen\n",
    "            count+=1\n",
    "            \n",
    "        elif action == 3:   # right : price+=20\n",
    "            count=0\n",
    "            self.marketPrice+=20\n",
    "\n",
    "        elif action == 4:   # down : price+=80\n",
    "            count=0\n",
    "            self.marketPrice+=80\n",
    "\n",
    "\n",
    "        next_state = self.marketPrice\n",
    "        reward = 0\n",
    "\n",
    "\n",
    "        p_ok = self.acceptP(next_state, self.p_array)\n",
    "        d_ok = self.acceptD(next_state, self.d_array)\n",
    "        match = min([p_ok, d_ok])\n",
    "        reward = match * (next_state/1000)\n",
    "        \n",
    "\n",
    "        if next_state < MINPRICE or next_state > MAXPRICE:\n",
    "            reward = -100\n",
    "        \n",
    "\n",
    "        done = False\n",
    "        if count==10:\n",
    "            done = True\n",
    "        \n",
    "        \n",
    "        return next_state, reward, done\n",
    "        \n",
    "            \n",
    "    def reset(self):\n",
    "        self.marketPrice = INITIALPRICE\n",
    "        self.p_array = np.random.normal(self.marketPrice, 190, 500) #Passenger\n",
    "        self.d_array = np.random.normal(self.marketPrice, 190, 500) #Driver\n",
    "\n",
    "        return self.marketPrice\n",
    "        \n",
    "#Agent\n",
    "class priceActionModel:\n",
    "    def __init__(self, actions):\n",
    "\n",
    "        self.actions = actions\n",
    "        self.learning_rate = 0.01\n",
    "        self.discount_factor = 0.9\n",
    "        self.epsilon = 1.  # exploration\n",
    "        self.epsilon_decay = .9999\n",
    "        self.epsilon_min = 0.01\n",
    "        self.q_table = defaultdict(lambda: [0.0, 0.0, 0.0, 0.0, 0.0])\n",
    "        \n",
    "\n",
    "    def learn(self, state, action, reward, next_state):\n",
    "        if self.epsilon > self.epsilon_min:\n",
    "            self.epsilon *= self.epsilon_decay\n",
    "            \n",
    "        q_1 = self.q_table[state][action]\n",
    "\n",
    "        q_2 = reward + self.discount_factor * max(self.q_table[next_state])\n",
    "        self.q_table[state][action] += self.learning_rate * (q_2 - q_1)\n",
    "    \n",
    "\n",
    "    def get_action(self, state):\n",
    "        if np.random.rand() < self.epsilon:\n",
    "            action = np.random.choice(self.actions)\n",
    "        else:\n",
    "\n",
    "            print(state, self.q_table[state])\n",
    "            state_action = self.q_table[state]\n",
    "            action = self.arg_max(state_action)\n",
    "        return action\n",
    "        \n",
    "    #staticmethod\n",
    "    def arg_max(state_action):\n",
    "        max_index_list = []\n",
    "        max_value = state_action[0]\n",
    "        for index, value in enumerate(state_action):\n",
    "            if value > max_value:\n",
    "                max_index_list.clear()\n",
    "                max_value = value\n",
    "                max_index_list.append(index)\n",
    "            elif value == max_value:\n",
    "                max_index_list.append(index)\n",
    "        return random.choice(max_index_list)\n",
    "    \n",
    "if __name__ == \"__main__\":\n",
    "    \n",
    "    env = Env()\n",
    "    agent = priceActionModel(actions=list(range(env.n_actions)))  \n",
    "    \n",
    "    global_step = 0\n",
    "    scores, episodes = [], []\n",
    "    \n",
    "    \n",
    "    for episode in range(20):\n",
    "        state = env.reset()\n",
    "        count = 0\n",
    "        \n",
    "        for i in range(50000):\n",
    "            global_step += 1\n",
    "\n",
    "\n",
    "            action = agent.get_action(str(state))\n",
    "            \n",
    "\n",
    "            next_state, reward, done = env.step(action, count)\n",
    "\n",
    "\n",
    "            agent.learn(str(state), action, reward, str(next_state))\n",
    "            state = next_state\n",
    "\n",
    "           \n",
    "            scores.append(state)"
   ]
  },
  {
   "cell_type": "markdown",
   "id": "5adb2c60",
   "metadata": {},
   "source": [
    "### Deep Q-Network (DQN)"
   ]
  },
  {
   "cell_type": "code",
   "execution_count": null,
   "id": "b02c14ff",
   "metadata": {},
   "outputs": [],
   "source": [
    "import random\n",
    "import numpy as np\n",
    "import matplotlib.pyplot as plt\n",
    "from keras.layers import Dense, Dropout, Activation\n",
    "from keras.models import Sequential\n",
    "from keras.optimizers import Adam\n",
    "from keras import backend as k\n",
    "from collections import deque\n",
    "import gym"
   ]
  },
  {
   "cell_type": "code",
   "execution_count": null,
   "id": "ea75c96d",
   "metadata": {},
   "outputs": [],
   "source": [
    "env = gym.make('Transport')"
   ]
  },
  {
   "cell_type": "code",
   "execution_count": null,
   "id": "e1b7ddbf",
   "metadata": {},
   "outputs": [],
   "source": [
    "# Set seed for reproducibility\n",
    "seed_val = 456\n",
    "np.random.seed(seed_val)\n",
    "env.seed(seed_val)\n",
    "random.seed(seed_val)"
   ]
  },
  {
   "cell_type": "code",
   "execution_count": null,
   "id": "4bc65c35",
   "metadata": {},
   "outputs": [],
   "source": [
    "states = env.observation_space.shape[0]"
   ]
  },
  {
   "cell_type": "code",
   "execution_count": null,
   "id": "c033818a",
   "metadata": {},
   "outputs": [],
   "source": [
    "actions = env.action_space.n\n"
   ]
  },
  {
   "cell_type": "code",
   "execution_count": null,
   "id": "4ccf1faa",
   "metadata": {},
   "outputs": [],
   "source": [
    "state = env.reset()"
   ]
  },
  {
   "cell_type": "code",
   "execution_count": null,
   "id": "1f1a2db5",
   "metadata": {},
   "outputs": [],
   "source": [
    "action = 0\n",
    "new_state, reward, done, info = env.step(action)\n",
    "print((new_state, reward, done, info))"
   ]
  },
  {
   "cell_type": "code",
   "execution_count": null,
   "id": "10c8e302",
   "metadata": {},
   "outputs": [],
   "source": [
    "def random_actions(episodes):\n",
    "    for episode in range(episodes):\n",
    "        state = env.reset() # reset environment\n",
    "        done = False # set done to False\n",
    "        score = 0\n",
    "        while not done:\n",
    "            action = random.choice([0,1]) # Choose between 0 or 1\n",
    "            new_state, reward, done, info = env.step(action) # perform the action\n",
    "            score+=1\n",
    "        print('Episode: {} Score: {}'.format(episode+1, score))"
   ]
  },
  {
   "cell_type": "code",
   "execution_count": null,
   "id": "4e2ba42b",
   "metadata": {},
   "outputs": [],
   "source": [
    "# Discount in Bellman Equation\n",
    "gamma = 0.95\n",
    "# Epsilon\n",
    "epsilon = 1.0\n",
    "# Minimum Epsilon\n",
    "epsilon_min = 0.01\n",
    "# Decay multiplier for epsilon\n",
    "epsilon_decay = 0.99\n",
    "# Size of deque container\n",
    "deque_len = 20000\n",
    "# Average score needed over 100 epochs\n",
    "target_score = 200\n",
    "# Number of games\n",
    "episodes = 2000\n",
    "# Data points per episode used to train the agent\n",
    "batch_size = 64\n",
    "# Optimizer for training the agent\n",
    "optimizer = 'adam'\n",
    "# Loss for training the agent\n",
    "loss = 'mse'"
   ]
  },
  {
   "cell_type": "code",
   "execution_count": null,
   "id": "ac13acc1",
   "metadata": {},
   "outputs": [],
   "source": [
    "def agent(states, actions):\n",
    "    model = Sequential()\n",
    "    model.add(Dense(16, input_dim=states))\n",
    "    model.add(Activation('relu'))\n",
    "    model.add(Dense(16))\n",
    "    model.add(Activation('relu'))\n",
    "    model.add(Dense(16))\n",
    "    model.add(Activation('relu'))\n",
    "    model.add(Dense(actions))\n",
    "    model.add(Activation('linear'))\n",
    "    return model\n",
    "\n",
    "# print summary of the agent\n",
    "print(agent(states, actions).summary())"
   ]
  },
  {
   "cell_type": "code",
   "execution_count": null,
   "id": "33fa8739",
   "metadata": {},
   "outputs": [],
   "source": [
    "def agent_action(model, epsilon, state, actions):\n",
    "    \"\"\"Define action to be taken.\"\"\"\n",
    "    if np.random.rand() <= epsilon:\n",
    "        act = random.randrange(actions)\n",
    "    else:\n",
    "        act = np.argmax(model.predict(state)[0])\n",
    "    return act"
   ]
  },
  {
   "cell_type": "code",
   "execution_count": null,
   "id": "780b996a",
   "metadata": {},
   "outputs": [],
   "source": [
    "def memory(state, new_state, reward, done, action):\n",
    "    \"\"\"Function to store data points in the deque container.\"\"\"\n",
    "    training_data.append((state, new_state, reward, done, action))"
   ]
  },
  {
   "cell_type": "code",
   "execution_count": null,
   "id": "75a9a3cd",
   "metadata": {},
   "outputs": [],
   "source": [
    "def train(target_score, batch_size, episodes,\n",
    "          optimizer, loss, epsilon,\n",
    "          gamma, epsilon_min, epsilon_decay, actions, render=False):\n",
    "    \"\"\".\"\"\"\n",
    "    print('----Training----')\n",
    "    k.clear_session()\n",
    "\n",
    "    # define empty list to store the score at the end of each episode\n",
    "    scores = []\n",
    "    \n",
    "    # load the agent\n",
    "    model = agent(states, actions)\n",
    "    \n",
    "    # compile the agent with mean squared error loss\n",
    "    model.compile(loss=loss, optimizer=optimizer)\n",
    "\n",
    "    for episode in range(1, (episodes+1)):\n",
    "        \n",
    "        # reset environment at the end of each episode\n",
    "        state = env.reset()\n",
    "        \n",
    "        # reshape state to shape 1*4\n",
    "        state = state.reshape(1, states)\n",
    "        \n",
    "        # set done value to False\n",
    "        done = False\n",
    "        \n",
    "        # counter to keep track of actions taken in each episode\n",
    "        time_step = 0\n",
    "        \n",
    "        # play until done value changes to True\n",
    "        while not done:\n",
    "            if render:\n",
    "                env.render()\n",
    "\n",
    "            # call the agent_action function to decide on an action\n",
    "            action = agent_action(model, epsilon, state, actions)\n",
    "            \n",
    "            # take the action\n",
    "            new_state, reward, done, info = env.step(action)\n",
    "            reward = reward if not done else -10\n",
    "            \n",
    "            # reshape new_state to shape 1*4\n",
    "            new_state = new_state.reshape(1, states)\n",
    "            \n",
    "            # call memory function to store info in the deque container\n",
    "            memory(state, new_state, reward, done, action)\n",
    "            \n",
    "            # set state to new state\n",
    "            state = new_state\n",
    "            \n",
    "            # increment timestep\n",
    "            time_step += 1\n",
    "\n",
    "        # call the replay function to train the agent\n",
    "        epsilon = replay(epsilon, gamma, epsilon_min, epsilon_decay, model,\n",
    "                         training_data)\n",
    "    return model"
   ]
  },
  {
   "cell_type": "code",
   "execution_count": null,
   "id": "8d30c32b",
   "metadata": {},
   "outputs": [],
   "source": [
    "model = train(target_score=target_score, batch_size=batch_size,\n",
    "              episodes=episodes, optimizer=optimizer, loss=loss,\n",
    "              epsilon=epsilon, gamma=gamma, epsilon_min=epsilon_min,\n",
    "              epsilon_decay=epsilon_decay, actions=actions, render=False)"
   ]
  },
  {
   "cell_type": "code",
   "execution_count": null,
   "id": "a2a2a27e",
   "metadata": {},
   "outputs": [],
   "source": [
    "def test(env, model, states, episodes=100, render=False):\n",
    "    \"\"\"Test the performance of the DQN agent.\"\"\"\n",
    "    scores_test = []\n",
    "    for episode in range(1, (episodes+1)):\n",
    "        state = env.reset()\n",
    "        state = state.reshape(1, states)\n",
    "\n",
    "        done = False\n",
    "        time_step = 0\n",
    "\n",
    "        while not done:\n",
    "            if render:\n",
    "                env.render()\n",
    "            action = np.argmax(model.predict(state)[0])\n",
    "            new_state, reward, done, info = env.step(action)\n",
    "            new_state = new_state.reshape(1, states)\n",
    "            state = new_state\n",
    "            time_step += 1\n",
    "        scores_test.append(time_step)\n",
    "        if episode % 10 == 0:\n",
    "            print('episode {}, score {} '.format(episode, time_step))\n",
    "    print('Average score over 100 test games: {}'.format(np.mean(scores_test)))\n",
    "\n",
    "    \n",
    "test(env, model, states, render=False)"
   ]
  },
  {
   "cell_type": "markdown",
   "id": "ab2f0d86",
   "metadata": {},
   "source": [
    "### Deep Deterministic Policy Gradients (DDPG)"
   ]
  },
  {
   "cell_type": "code",
   "execution_count": null,
   "id": "a5110f75",
   "metadata": {},
   "outputs": [],
   "source": [
    "import gym\n",
    "import numpy as np\n",
    "\n",
    "from stable_baselines.ddpg.policies import MlpPolicy\n",
    "from stable_baselines.common.evaluation import evaluate_policy\n",
    "from stable_baselines.common.noise import NormalActionNoise, OrnsteinUhlenbeckActionNoise, AdaptiveParamNoiseSpec\n",
    "from stable_baselines import DDPG"
   ]
  },
  {
   "cell_type": "code",
   "execution_count": null,
   "id": "bd99296e",
   "metadata": {},
   "outputs": [],
   "source": [
    "env = gym.make('Transport')"
   ]
  },
  {
   "cell_type": "code",
   "execution_count": null,
   "id": "37e68cd9",
   "metadata": {},
   "outputs": [],
   "source": [
    "n_actions = env.action_space.shape[-1]"
   ]
  },
  {
   "cell_type": "code",
   "execution_count": null,
   "id": "3ddd8263",
   "metadata": {},
   "outputs": [],
   "source": [
    "action_noise = OrnsteinUhlenbeckActionNoise(mean=np.zeros(n_actions), sigma=float(0.5) * np.ones(n_actions))"
   ]
  },
  {
   "cell_type": "code",
   "execution_count": null,
   "id": "2560d0e3",
   "metadata": {},
   "outputs": [],
   "source": [
    "agent = DDPG(MlpPolicy, env, verbose=1, param_noise=None, action_noise=action_noise)"
   ]
  },
  {
   "cell_type": "code",
   "execution_count": null,
   "id": "08489675",
   "metadata": {},
   "outputs": [],
   "source": [
    "agent.learn(total_timesteps=25000)"
   ]
  },
  {
   "cell_type": "code",
   "execution_count": null,
   "id": "fe560af4",
   "metadata": {},
   "outputs": [],
   "source": [
    "mean_reward, n_steps = evaluate_policy(agent, agent.get_env(),\n",
    "n_eval_episodes=10)"
   ]
  },
  {
   "cell_type": "markdown",
   "id": "141bd09d",
   "metadata": {},
   "source": [
    "### Proximal Policy Optimization (PPO)"
   ]
  },
  {
   "cell_type": "code",
   "execution_count": null,
   "id": "93beee91",
   "metadata": {},
   "outputs": [],
   "source": [
    "import torch as th\n",
    "from torch import nn\n",
    "from torch.optim import Adam, RMSprop\n",
    "\n",
    "import numpy as np\n",
    "from copy import deepcopy\n",
    "\n",
    "from common.Agent import Agent\n",
    "from common.Model import ActorNetwork, CriticNetwork\n",
    "from common.utils import index_to_one_hot, to_tensor_var\n",
    "\n",
    "\n",
    "class PPO(Agent):\n",
    "\n",
    "    def __init__(self, env, state_dim, action_dim,\n",
    "                 memory_capacity=10000, max_steps=None,\n",
    "                 roll_out_n_steps=1, target_tau=1.,\n",
    "                 target_update_steps=5, clip_param=0.2,\n",
    "                 reward_gamma=0.99, reward_scale=1., done_penalty=None,\n",
    "                 actor_hidden_size=32, critic_hidden_size=32,\n",
    "                 actor_output_act=nn.functional.log_softmax, critic_loss=\"mse\",\n",
    "                 actor_lr=0.001, critic_lr=0.001,\n",
    "                 optimizer_type=\"adam\", entropy_reg=0.01,\n",
    "                 max_grad_norm=0.5, batch_size=100, episodes_before_train=100,\n",
    "                 epsilon_start=0.9, epsilon_end=0.01, epsilon_decay=200,\n",
    "                 use_cuda=True):\n",
    "        super(PPO, self).__init__(env, state_dim, action_dim,\n",
    "                 memory_capacity, max_steps,\n",
    "                 reward_gamma, reward_scale, done_penalty,\n",
    "                 actor_hidden_size, critic_hidden_size,\n",
    "                 actor_output_act, critic_loss,\n",
    "                 actor_lr, critic_lr,\n",
    "                 optimizer_type, entropy_reg,\n",
    "                 max_grad_norm, batch_size, episodes_before_train,\n",
    "                 epsilon_start, epsilon_end, epsilon_decay,\n",
    "                 use_cuda)\n",
    "\n",
    "        self.roll_out_n_steps = roll_out_n_steps\n",
    "        self.target_tau = target_tau\n",
    "        self.target_update_steps = target_update_steps\n",
    "        self.clip_param = clip_param\n",
    "\n",
    "        self.actor = ActorNetwork(self.state_dim, self.actor_hidden_size,\n",
    "                                  self.action_dim, self.actor_output_act)\n",
    "        self.critic = CriticNetwork(self.state_dim, self.action_dim, self.critic_hidden_size, 1)\n",
    "        \n",
    "        # to ensure target network and learning network has the same weights\n",
    "        self.actor_target = deepcopy(self.actor)\n",
    "        self.critic_target = deepcopy(self.critic)\n",
    "\n",
    "        if self.optimizer_type == \"adam\":\n",
    "            self.actor_optimizer = Adam(self.actor.parameters(), lr=self.actor_lr)\n",
    "            self.critic_optimizer = Adam(self.critic.parameters(), lr=self.critic_lr)\n",
    "        elif self.optimizer_type == \"rmsprop\":\n",
    "            self.actor_optimizer = RMSprop(self.actor.parameters(), lr=self.actor_lr)\n",
    "            self.critic_optimizer = RMSprop(self.critic.parameters(), lr=self.critic_lr)\n",
    "\n",
    "        if self.use_cuda:\n",
    "            self.actor.cuda()\n",
    "            self.critic.cuda()\n",
    "            self.actor_target.cuda()\n",
    "            self.critic_target.cuda()\n",
    "\n",
    "    # agent interact with the environment to collect experience\n",
    "    def interact(self):\n",
    "        super(PPO, self)._take_n_steps()\n",
    "\n",
    "    # train on a roll out batch\n",
    "    def train(self):\n",
    "        if self.n_episodes <= self.episodes_before_train:\n",
    "            pass\n",
    "\n",
    "        batch = self.memory.sample(self.batch_size)\n",
    "        states_var = to_tensor_var(batch.states, self.use_cuda).view(-1, self.state_dim)\n",
    "        one_hot_actions = index_to_one_hot(batch.actions, self.action_dim)\n",
    "        actions_var = to_tensor_var(one_hot_actions, self.use_cuda).view(-1, self.action_dim)\n",
    "        rewards_var = to_tensor_var(batch.rewards, self.use_cuda).view(-1, 1)\n",
    "\n",
    "        # update actor network\n",
    "        self.actor_optimizer.zero_grad()\n",
    "        values = self.critic_target(states_var, actions_var).detach()\n",
    "        advantages = rewards_var - values\n",
    "        \n",
    "        # # normalizing advantages seems not working correctly here\n",
    "        # advantages = (advantages - advantages.mean()) / (advantages.std() + 1e-5)\n",
    "        action_log_probs = self.actor(states_var)\n",
    "        action_log_probs = th.sum(action_log_probs * actions_var, 1)\n",
    "        old_action_log_probs = self.actor_target(states_var).detach()\n",
    "        old_action_log_probs = th.sum(old_action_log_probs * actions_var, 1)\n",
    "        ratio = th.exp(action_log_probs - old_action_log_probs)\n",
    "        surr1 = ratio * advantages\n",
    "        surr2 = th.clamp(ratio, 1.0 - self.clip_param, 1.0 + self.clip_param) * advantages\n",
    "        # PPO's pessimistic surrogate (L^CLIP)\n",
    "        actor_loss = -th.mean(th.min(surr1, surr2))\n",
    "        actor_loss.backward()\n",
    "        if self.max_grad_norm is not None:\n",
    "            nn.utils.clip_grad_norm(self.actor.parameters(), self.max_grad_norm)\n",
    "        self.actor_optimizer.step()\n",
    "\n",
    "        # update critic network\n",
    "        self.critic_optimizer.zero_grad()\n",
    "        target_values = rewards_var\n",
    "        values = self.critic(states_var, actions_var)\n",
    "        if self.critic_loss == \"huber\":\n",
    "            critic_loss = nn.functional.smooth_l1_loss(values, target_values)\n",
    "        else:\n",
    "            critic_loss = nn.MSELoss()(values, target_values)\n",
    "        critic_loss.backward()\n",
    "        if self.max_grad_norm is not None:\n",
    "            nn.utils.clip_grad_norm(self.critic.parameters(), self.max_grad_norm)\n",
    "        self.critic_optimizer.step()\n",
    "\n",
    "        # update actor target network and critic target network\n",
    "        if self.n_steps % self.target_update_steps == 0 and self.n_steps > 0:\n",
    "            super(PPO, self)._soft_update_target(self.actor_target, self.actor)\n",
    "            super(PPO, self)._soft_update_target(self.critic_target, self.critic)\n",
    "\n",
    "    # predict softmax action based on state\n",
    "    def _softmax_action(self, state):\n",
    "        state_var = to_tensor_var([state], self.use_cuda)\n",
    "        softmax_action_var = th.exp(self.actor(state_var))\n",
    "        if self.use_cuda:\n",
    "            softmax_action = softmax_action_var.data.cpu().numpy()[0]\n",
    "        else:\n",
    "            softmax_action = softmax_action_var.data.numpy()[0]\n",
    "        return softmax_action\n",
    "\n",
    "    # choose an action based on state with random noise added for exploration in training\n",
    "    def exploration_action(self, state):\n",
    "        softmax_action = self._softmax_action(state)\n",
    "        epsilon = self.epsilon_end + (self.epsilon_start - self.epsilon_end) * \\\n",
    "                                  np.exp(-1. * self.n_steps / self.epsilon_decay)\n",
    "        if np.random.rand() < epsilon:\n",
    "            action = np.random.choice(self.action_dim)\n",
    "        else:\n",
    "            action = np.argmax(softmax_action)\n",
    "        return action\n",
    "\n",
    "    # choose an action based on state for execution\n",
    "    def action(self, state):\n",
    "        softmax_action = self._softmax_action(state)\n",
    "        action = np.argmax(softmax_action)\n",
    "        return action\n",
    "\n",
    "    # evaluate value for a state-action pair\n",
    "    def value(self, state, action):\n",
    "        state_var = to_tensor_var([state], self.use_cuda)\n",
    "        action = index_to_one_hot(action, self.action_dim)\n",
    "        action_var = to_tensor_var([action], self.use_cuda)\n",
    "        value_var = self.critic(state_var, action_var)\n",
    "        if self.use_cuda:\n",
    "            value = value_var.data.cpu().numpy()[0]\n",
    "        else:\n",
    "            value = value_var.data.numpy()[0]\n",
    "        return "
   ]
  },
  {
   "cell_type": "markdown",
   "id": "51d2bdaa",
   "metadata": {},
   "source": [
    "### Deep SARSA Network (DSN)"
   ]
  },
  {
   "cell_type": "code",
   "execution_count": null,
   "id": "70382b7a",
   "metadata": {},
   "outputs": [],
   "source": [
    "\n",
    "import numpy as np\n",
    "import gym\n",
    "from keras.models import Sequential\n",
    "from keras.layers import Dense, Activation, Flatten\n",
    "from keras.optimizers import Adam\n",
    "from rl.agents import SARSAAgent\n",
    "from rl.policy import EpsGreedyQPolicy"
   ]
  },
  {
   "cell_type": "code",
   "execution_count": null,
   "id": "6c920b33",
   "metadata": {},
   "outputs": [],
   "source": [
    "# load the environment\n",
    "env = gym.make('Transport')"
   ]
  },
  {
   "cell_type": "code",
   "execution_count": null,
   "id": "d231012c",
   "metadata": {},
   "outputs": [],
   "source": [
    "# set seed \n",
    "seed_val = 456\n",
    "env.seed(seed_val)\n",
    "np.random.seed(seed_val)"
   ]
  },
  {
   "cell_type": "code",
   "execution_count": null,
   "id": "315f3b90",
   "metadata": {},
   "outputs": [],
   "source": [
    "\n",
    "states = env.observation_space.shape[0]\n",
    "actions = env.action_space.n"
   ]
  },
  {
   "cell_type": "code",
   "execution_count": null,
   "id": "b79692c3",
   "metadata": {},
   "outputs": [],
   "source": [
    "# define agent\n",
    "def agent(states, actions):\n",
    "    \"\"\"Simple Deep Neural Network.\"\"\"\n",
    "    model = Sequential()\n",
    "    model.add(Flatten(input_shape=(1,states)))\n",
    "    model.add(Dense(16))\n",
    "    model.add(Activation('relu'))\n",
    "    model.add(Dense(16))\n",
    "    model.add(Activation('relu'))\n",
    "    model.add(Dense(16))\n",
    "    model.add(Activation('relu'))\n",
    "    model.add(Dense(actions))\n",
    "    model.add(Activation('linear'))\n",
    "    return model\n",
    "\n",
    "model = agent(states, actions)"
   ]
  },
  {
   "cell_type": "code",
   "execution_count": null,
   "id": "1e8e346a",
   "metadata": {},
   "outputs": [],
   "source": [
    "\n",
    "# Define the policy\n",
    "policy = EpsGreedyQPolicy()\n",
    "\n",
    "# Define SARSA agent by feeding it the policy and the model\n",
    "sarsa = SARSAAgent(model=model, nb_actions=actions, nb_steps_warmup=10, policy=policy)\n",
    "\n",
    "# compile sarsa with mean squared error loss\n",
    "sarsa.compile('adam', metrics=['mse'])\n",
    "\n",
    "# train the agent for 50000 steps\n",
    "sarsa.fit(env, nb_steps=50000, visualize=False, verbose=1)"
   ]
  },
  {
   "cell_type": "markdown",
   "id": "09ac0336",
   "metadata": {},
   "source": [
    "### Soft Actor-Critic (SAC)"
   ]
  },
  {
   "cell_type": "code",
   "execution_count": null,
   "id": "9ea98f90",
   "metadata": {},
   "outputs": [],
   "source": [
    "from numbers import Number\n",
    "\n",
    "import numpy as np\n",
    "import tensorflow as tf\n",
    "\n",
    "from rllab.core.serializable import Serializable\n",
    "from rllab.misc import logger\n",
    "from rllab.misc.overrides import overrides\n",
    "\n",
    "from .base import RLAlgorithm\n",
    "\n",
    "\n",
    "class SAC(RLAlgorithm, Serializable):\n",
    "\n",
    "    def __init__(\n",
    "            self,\n",
    "            base_kwargs,\n",
    "\n",
    "            env,\n",
    "            policy,\n",
    "            initial_exploration_policy,\n",
    "            qf1,\n",
    "            qf2,\n",
    "            vf,\n",
    "            pool,\n",
    "            plotter=None,\n",
    "\n",
    "            lr=3e-3,\n",
    "            scale_reward=1,\n",
    "            discount=0.99,\n",
    "            tau=0.01,\n",
    "            target_update_interval=1,\n",
    "            action_prior='uniform',\n",
    "            reparameterize=False,\n",
    "\n",
    "            save_full_state=False,\n",
    "    ):\n",
    "        \n",
    "\n",
    "        Serializable.quick_init(self, locals())\n",
    "        super(SAC, self).__init__(**base_kwargs)\n",
    "\n",
    "        self._env = env\n",
    "        self._policy = policy\n",
    "        self._initial_exploration_policy = initial_exploration_policy\n",
    "        self._qf1 = qf1\n",
    "        self._qf2 = qf2\n",
    "        self._vf = vf\n",
    "        self._pool = pool\n",
    "        self._plotter = plotter\n",
    "\n",
    "        self._policy_lr = lr\n",
    "        self._qf_lr = lr\n",
    "        self._vf_lr = lr\n",
    "        self._scale_reward = scale_reward\n",
    "        self._discount = discount\n",
    "        self._tau = tau\n",
    "        self._target_update_interval = target_update_interval\n",
    "        self._action_prior = action_prior\n",
    "\n",
    "        # Reparameterize parameter must match between the algorithm and the\n",
    "        # policy actions are sampled from.\n",
    "        assert reparameterize == self._policy._reparameterize\n",
    "        self._reparameterize = reparameterize\n",
    "\n",
    "        self._save_full_state = save_full_state\n",
    "\n",
    "        self._Da = self._env.action_space.flat_dim\n",
    "        self._Do = self._env.observation_space.flat_dim\n",
    "\n",
    "        self._training_ops = list()\n",
    "\n",
    "        self._init_placeholders()\n",
    "        self._init_actor_update()\n",
    "        self._init_critic_update()\n",
    "        self._init_target_ops()\n",
    "\n",
    "        # Initialize all uninitialized variables. This prevents initializing\n",
    "        # pre-trained policy and qf and vf variables.\n",
    "        uninit_vars = []\n",
    "        for var in tf.global_variables():\n",
    "            try:\n",
    "                self._sess.run(var)\n",
    "            except tf.errors.FailedPreconditionError:\n",
    "                uninit_vars.append(var)\n",
    "        self._sess.run(tf.variables_initializer(uninit_vars))\n",
    "\n",
    "\n",
    "    def train(self):\n",
    "        \"\"\"Initiate training of the SAC instance.\"\"\"\n",
    "\n",
    "        self._train(self._env, self._policy, self._initial_exploration_policy, self._pool)\n",
    "\n",
    "    def _init_placeholders(self):\n",
    "        \"\"\"Create input placeholders for the SAC algorithm.\n",
    "        Creates `tf.placeholder`s for:\n",
    "            - observation\n",
    "            - next observation\n",
    "            - action\n",
    "            - reward\n",
    "            - terminals\n",
    "        \"\"\"\n",
    "        self._iteration_pl = tf.placeholder(\n",
    "            tf.int64, shape=None, name='iteration')\n",
    "\n",
    "        self._observations_ph = tf.placeholder(\n",
    "            tf.float32,\n",
    "            shape=(None, self._Do),\n",
    "            name='observation',\n",
    "        )\n",
    "\n",
    "        self._next_observations_ph = tf.placeholder(\n",
    "            tf.float32,\n",
    "            shape=(None, self._Do),\n",
    "            name='next_observation',\n",
    "        )\n",
    "        self._actions_ph = tf.placeholder(\n",
    "            tf.float32,\n",
    "            shape=(None, self._Da),\n",
    "            name='actions',\n",
    "        )\n",
    "\n",
    "        self._rewards_ph = tf.placeholder(\n",
    "            tf.float32,\n",
    "            shape=(None, ),\n",
    "            name='rewards',\n",
    "        )\n",
    "\n",
    "        self._terminals_ph = tf.placeholder(\n",
    "            tf.float32,\n",
    "            shape=(None, ),\n",
    "            name='terminals',\n",
    "        )\n",
    "\n",
    "    def scale_reward(self):\n",
    "        if callable(self._scale_reward):\n",
    "            return self._scale_reward(self._iteration_pl)\n",
    "        elif isinstance(self._scale_reward, Number):\n",
    "            return self._scale_reward\n",
    "\n",
    "        raise ValueError(\n",
    "            'scale_reward must be either callable or scalar')\n",
    "\n",
    "    def _init_critic_update(self):\n",
    "        \"\"\"Create minimization operation for critic Q-function.\n",
    "        Creates a `tf.optimizer.minimize` operation for updating\n",
    "        critic Q-function with gradient descent, and appends it to\n",
    "        `self._training_ops` attribute.\n",
    "        See Equation (10) in [1], for further information of the\n",
    "        Q-function update rule.\n",
    "        \"\"\"\n",
    "\n",
    "        self._qf1_t = self._qf1.get_output_for(\n",
    "            self._observations_ph, self._actions_ph, reuse=True)  # N\n",
    "        self._qf2_t = self._qf2.get_output_for(\n",
    "            self._observations_ph, self._actions_ph, reuse=True)  # N\n",
    "\n",
    "        with tf.variable_scope('target'):\n",
    "            vf_next_target_t = self._vf.get_output_for(self._next_observations_ph)  # N\n",
    "            self._vf_target_params = self._vf.get_params_internal()\n",
    "\n",
    "        ys = tf.stop_gradient(\n",
    "            self.scale_reward * self._rewards_ph +\n",
    "            (1 - self._terminals_ph) * self._discount * vf_next_target_t\n",
    "        )  # N\n",
    "\n",
    "        self._td_loss1_t = 0.5 * tf.reduce_mean((ys - self._qf1_t)**2)\n",
    "        self._td_loss2_t = 0.5 * tf.reduce_mean((ys - self._qf2_t)**2)\n",
    "\n",
    "        qf1_train_op = tf.train.AdamOptimizer(self._qf_lr).minimize(\n",
    "            loss=self._td_loss1_t,\n",
    "            var_list=self._qf1.get_params_internal()\n",
    "        )\n",
    "        qf2_train_op = tf.train.AdamOptimizer(self._qf_lr).minimize(\n",
    "            loss=self._td_loss2_t,\n",
    "            var_list=self._qf2.get_params_internal()\n",
    "        )\n",
    "\n",
    "        self._training_ops.append(qf1_train_op)\n",
    "        self._training_ops.append(qf2_train_op)\n",
    "\n",
    "    def _init_actor_update(self):\n",
    "        \"\"\"Create minimization operations for policy and state value functions.\n",
    "        Creates a `tf.optimizer.minimize` operations for updating\n",
    "        policy and value functions with gradient descent, and appends them to\n",
    "        `self._training_ops` attribute.\n",
    "        In principle, there is no need for a separate state value function\n",
    "        approximator, since it could be evaluated using the Q-function and\n",
    "        policy. However, in practice, the separate function approximator\n",
    "        stabilizes training.\n",
    "        See Equations (8, 13) in [1], for further information\n",
    "        of the value function and policy function update rules.\n",
    "        \"\"\"\n",
    "\n",
    "        actions, log_pi = self._policy.actions_for(observations=self._observations_ph,\n",
    "                                                   with_log_pis=True)\n",
    "\n",
    "        self._vf_t = self._vf.get_output_for(self._observations_ph, reuse=True)  # N\n",
    "        self._vf_params = self._vf.get_params_internal()\n",
    "\n",
    "        if self._action_prior == 'normal':\n",
    "            D_s = actions.shape.as_list()[-1]\n",
    "            policy_prior = tf.contrib.distributions.MultivariateNormalDiag(\n",
    "                loc=tf.zeros(D_s), scale_diag=tf.ones(D_s))\n",
    "            policy_prior_log_probs = policy_prior.log_prob(actions)\n",
    "        elif self._action_prior == 'uniform':\n",
    "            policy_prior_log_probs = 0.0\n",
    "\n",
    "        log_target1 = self._qf1.get_output_for(\n",
    "            self._observations_ph, actions, reuse=True)  # N\n",
    "        log_target2 = self._qf2.get_output_for(\n",
    "            self._observations_ph, actions, reuse=True)  # N\n",
    "        min_log_target = tf.minimum(log_target1, log_target2)\n",
    "\n",
    "        if self._reparameterize:\n",
    "            policy_kl_loss = tf.reduce_mean(log_pi - log_target1)\n",
    "        else:\n",
    "            policy_kl_loss = tf.reduce_mean(log_pi * tf.stop_gradient(\n",
    "                log_pi - log_target1 + self._vf_t - policy_prior_log_probs))\n",
    "\n",
    "        policy_regularization_losses = tf.get_collection(\n",
    "            tf.GraphKeys.REGULARIZATION_LOSSES,\n",
    "            scope=self._policy.name)\n",
    "        policy_regularization_loss = tf.reduce_sum(\n",
    "            policy_regularization_losses)\n",
    "\n",
    "        policy_loss = (policy_kl_loss\n",
    "                       + policy_regularization_loss)\n",
    "\n",
    "        # We update the vf towards the min of two Q-functions in order to\n",
    "        # reduce overestimation bias from function approximation error.\n",
    "        self._vf_loss_t = 0.5 * tf.reduce_mean((\n",
    "          self._vf_t\n",
    "          - tf.stop_gradient(min_log_target - log_pi + policy_prior_log_probs)\n",
    "        )**2)\n",
    "\n",
    "        policy_train_op = tf.train.AdamOptimizer(self._policy_lr).minimize(\n",
    "            loss=policy_loss,\n",
    "            var_list=self._policy.get_params_internal()\n",
    "        )\n",
    "\n",
    "        vf_train_op = tf.train.AdamOptimizer(self._vf_lr).minimize(\n",
    "            loss=self._vf_loss_t,\n",
    "            var_list=self._vf_params\n",
    "        )\n",
    "\n",
    "        self._training_ops.append(policy_train_op)\n",
    "        self._training_ops.append(vf_train_op)\n",
    "\n",
    "    def _init_target_ops(self):\n",
    "        \"\"\"Create tensorflow operations for updating target value function.\"\"\"\n",
    "\n",
    "        source_params = self._vf_params\n",
    "        target_params = self._vf_target_params\n",
    "\n",
    "        self._target_ops = [\n",
    "            tf.assign(target, (1 - self._tau) * target + self._tau * source)\n",
    "            for target, source in zip(target_params, source_params)\n",
    "        ]\n",
    "\n",
    "\n",
    "    def _init_training(self, env, policy, pool):\n",
    "        super(SAC, self)._init_training(env, policy, pool)\n",
    "        self._sess.run(self._target_ops)\n",
    "\n",
    "\n",
    "    def _do_training(self, iteration, batch):\n",
    "        \"\"\"Runs the operations for updating training and target ops.\"\"\"\n",
    "\n",
    "        feed_dict = self._get_feed_dict(iteration, batch)\n",
    "        self._sess.run(self._training_ops, feed_dict)\n",
    "\n",
    "        if iteration % self._target_update_interval == 0:\n",
    "            # Run target ops here.\n",
    "            self._sess.run(self._target_ops)\n",
    "\n",
    "    def _get_feed_dict(self, iteration, batch):\n",
    "        \"\"\"Construct TensorFlow feed_dict from sample batch.\"\"\"\n",
    "\n",
    "        feed_dict = {\n",
    "            self._observations_ph: batch['observations'],\n",
    "            self._actions_ph: batch['actions'],\n",
    "            self._next_observations_ph: batch['next_observations'],\n",
    "            self._rewards_ph: batch['rewards'],\n",
    "            self._terminals_ph: batch['terminals'],\n",
    "        }\n",
    "\n",
    "        if iteration is not None:\n",
    "            feed_dict[self._iteration_pl] = iteration\n",
    "\n",
    "        return feed_dict\n",
    "\n",
    "\n",
    "    def log_diagnostics(self, iteration, batch):\n",
    "        \"\"\"Record diagnostic information to the logger.\n",
    "        Records mean and standard deviation of Q-function and state\n",
    "        value function, and TD-loss (mean squared Bellman error)\n",
    "        for the sample batch.\n",
    "        Also calls the `draw` method of the plotter, if plotter defined.\n",
    "        \"\"\"\n",
    "\n",
    "        feed_dict = self._get_feed_dict(iteration, batch)\n",
    "        qf1, qf2, vf, td_loss1, td_loss2 = self._sess.run(\n",
    "            (self._qf1_t, self._qf2_t, self._vf_t, self._td_loss1_t, self._td_loss2_t), feed_dict)\n",
    "\n",
    "        logger.record_tabular('qf1-avg', np.mean(qf1))\n",
    "        logger.record_tabular('qf1-std', np.std(qf1))\n",
    "        logger.record_tabular('qf2-avg', np.mean(qf1))\n",
    "        logger.record_tabular('qf2-std', np.std(qf1))\n",
    "        logger.record_tabular('mean-qf-diff', np.mean(np.abs(qf1-qf2)))\n",
    "        logger.record_tabular('vf-avg', np.mean(vf))\n",
    "        logger.record_tabular('vf-std', np.std(vf))\n",
    "        logger.record_tabular('mean-sq-bellman-error1', td_loss1)\n",
    "        logger.record_tabular('mean-sq-bellman-error2', td_loss2)\n",
    "\n",
    "        self._policy.log_diagnostics(iteration, batch)\n",
    "        if self._plotter:\n",
    "            self._plotter.draw()\n",
    "\n",
    "\n",
    "    def get_snapshot(self, epoch):\n",
    "        \"\"\"Return loggable snapshot of the SAC algorithm.\n",
    "        If `self._save_full_state == True`, returns snapshot of the complete\n",
    "        SAC instance. If `self._save_full_state == False`, returns snapshot\n",
    "        of policy, Q-function, state value function, and environment instances.\n",
    "        \"\"\"\n",
    "\n",
    "        if self._save_full_state:\n",
    "            snapshot = {\n",
    "                'epoch': epoch,\n",
    "                'algo': self\n",
    "            }\n",
    "        else:\n",
    "            snapshot = {\n",
    "                'epoch': epoch,\n",
    "                'policy': self._policy,\n",
    "                'qf1': self._qf1,\n",
    "                'qf2': self._qf2,\n",
    "                'vf': self._vf,\n",
    "                'env': self._env,\n",
    "            }\n",
    "\n",
    "        return snapshot\n",
    "\n",
    "    def __getstate__(self):\n",
    "        \"\"\"Get Serializable state of the RLALgorithm instance.\"\"\"\n",
    "\n",
    "        d = Serializable.__getstate__(self)\n",
    "        d.update({\n",
    "            'qf1-params': self._qf1.get_param_values(),\n",
    "            'qf2-params': self._qf2.get_param_values(),\n",
    "            'vf-params': self._vf.get_param_values(),\n",
    "            'policy-params': self._policy.get_param_values(),\n",
    "            'pool': self._pool.__getstate__(),\n",
    "            'env': self._env.__getstate__(),\n",
    "        })\n",
    "        return d\n",
    "\n",
    "    def __setstate__(self, d):\n",
    "        \"\"\"Set Serializable state fo the RLAlgorithm instance.\"\"\"\n",
    "\n",
    "        Serializable.__setstate__(self, d)\n",
    "        self._qf1.set_param_values(d['qf1-params'])\n",
    "        self._qf2.set_param_values(d['qf2-params'])\n",
    "        self._vf.set_param_values(d['vf-params'])\n",
    "        self._policy.set_param_values(d['policy-params'])\n",
    "        self._pool.__setstate__(d['pool'])\n",
    "        self._env.__setstate__(d['env'])"
   ]
  },
  {
   "cell_type": "markdown",
   "id": "e7e754bb",
   "metadata": {},
   "source": [
    "# MCDM for ranking methods of ML"
   ]
  },
  {
   "cell_type": "markdown",
   "id": "d5458b7b",
   "metadata": {},
   "source": [
    "### MCDM Methods"
   ]
  },
  {
   "cell_type": "markdown",
   "id": "1174159f",
   "metadata": {},
   "source": [
    "##### Marcos"
   ]
  },
  {
   "cell_type": "code",
   "execution_count": null,
   "id": "000064b7",
   "metadata": {},
   "outputs": [],
   "source": [
    "# Related Libraries\n",
    "from pymcdm.methods import MARCOS\n",
    "from pymcdm.helpers import rrankdata\n",
    "###from pymcdm import normalizations\n",
    "\n",
    "# Define decision matrix (n criteria, m alternative)\n",
    "alts = decision_table11\n",
    "\n",
    "# Define weights and types\n",
    "\n",
    "##weights\n",
    "weights = entropy_measure(alts)\n",
    "\n",
    "types = np.array([-1, -1, -1,-1,-1,-1,1])\n",
    "\n",
    "normalization = MinMaxScaler(alts)\n",
    "\n",
    "# Create object of the method\n",
    "marcos = MARCOS()\n",
    "\n",
    "# Determine preferences and ranking for alternatives\n",
    "pref = marcos(alts, weights, types, normalization)\n",
    "ranking = rrankdata(pref)\n",
    "\n",
    "r1 = []\n",
    "# Finalization\n",
    "for r, p in zip(ranking, pref):\n",
    "    print(r, p)\n",
    "    r1.append(r)"
   ]
  },
  {
   "cell_type": "markdown",
   "id": "76ab6db8",
   "metadata": {},
   "source": [
    "# Clustering for Anomaly Detection"
   ]
  },
  {
   "cell_type": "code",
   "execution_count": 56,
   "id": "cc62d68f",
   "metadata": {},
   "outputs": [],
   "source": [
    "#Build model\n",
    "model = PCA(n_components = 2).fit(data5.iloc[:,:-1].values)\n",
    "X_pca = model.transform(data5.iloc[:,:-1].values)"
   ]
  },
  {
   "cell_type": "code",
   "execution_count": 57,
   "id": "5c7badea",
   "metadata": {},
   "outputs": [],
   "source": [
    "# number of components\n",
    "n_pcs= model.components_.shape[0]\n",
    "\n",
    "# get the index of the most important feature on EACH component\n",
    "# LIST COMPREHENSION HERE\n",
    "most_important = [np.abs(model.components_[i]).argmax() for i in range(n_pcs)]\n",
    "\n",
    "initial_feature_names = data5.columns\n",
    "# get the names\n",
    "most_important_names = [initial_feature_names[most_important[i]] for i in range(n_pcs)]\n",
    "\n",
    "# LIST COMPREHENSION HERE AGAIN\n",
    "dic = {'PC{}'.format(i): most_important_names[i] for i in range(n_pcs)}\n",
    "\n",
    "# build the dataframe\n",
    "df = pd.DataFrame(dic.items())"
   ]
  },
  {
   "cell_type": "code",
   "execution_count": 58,
   "id": "3c7dac3f",
   "metadata": {},
   "outputs": [
    {
     "data": {
      "text/html": [
       "<div>\n",
       "<style scoped>\n",
       "    .dataframe tbody tr th:only-of-type {\n",
       "        vertical-align: middle;\n",
       "    }\n",
       "\n",
       "    .dataframe tbody tr th {\n",
       "        vertical-align: top;\n",
       "    }\n",
       "\n",
       "    .dataframe thead th {\n",
       "        text-align: right;\n",
       "    }\n",
       "</style>\n",
       "<table border=\"1\" class=\"dataframe\">\n",
       "  <thead>\n",
       "    <tr style=\"text-align: right;\">\n",
       "      <th></th>\n",
       "      <th>0</th>\n",
       "      <th>1</th>\n",
       "    </tr>\n",
       "  </thead>\n",
       "  <tbody>\n",
       "    <tr>\n",
       "      <th>0</th>\n",
       "      <td>PC0</td>\n",
       "      <td>windBearing</td>\n",
       "    </tr>\n",
       "    <tr>\n",
       "      <th>1</th>\n",
       "      <td>PC1</td>\n",
       "      <td>ozone</td>\n",
       "    </tr>\n",
       "  </tbody>\n",
       "</table>\n",
       "</div>"
      ],
      "text/plain": [
       "     0            1\n",
       "0  PC0  windBearing\n",
       "1  PC1        ozone"
      ]
     },
     "execution_count": 58,
     "metadata": {},
     "output_type": "execute_result"
    }
   ],
   "source": [
    "df"
   ]
  },
  {
   "cell_type": "code",
   "execution_count": 33,
   "id": "405d75e7",
   "metadata": {},
   "outputs": [
    {
     "data": {
      "image/png": "[encoded data removed]",
      "text/plain": [
       "<Figure size 2160x720 with 1 Axes>"
      ]
     },
     "metadata": {
      "needs_background": "light"
     },
     "output_type": "display_data"
    }
   ],
   "source": [
    "wcss = []\n",
    "for i in range(1,60):\n",
    "    kmeans = KMeans(n_clusters = i)\n",
    "    kmeans.fit(X_pca)\n",
    "    wcss.append(kmeans.inertia_)\n",
    "\n",
    "\n",
    "fig = plt.figure(figsize = (30,10))\n",
    "plt.plot(range(1,60),wcss)\n",
    "plt.title(\"Elbow Method\")\n",
    "plt.xlabel(\"Number of cluster\")\n",
    "plt.ylabel(\"WCSS\")\n",
    "plt.xticks([j for j in range(1,60,2)])\n",
    "plt.grid()\n",
    "plt.show()"
   ]
  },
  {
   "cell_type": "code",
   "execution_count": 36,
   "id": "cf06e443",
   "metadata": {},
   "outputs": [],
   "source": [
    "kmeans_cluster = KMeans(n_clusters = 4, max_iter = 250)\n",
    "y_kmeans = kmeans_cluster.fit_predict(X_pca)          "
   ]
  },
  {
   "cell_type": "code",
   "execution_count": 37,
   "id": "b8597914",
   "metadata": {},
   "outputs": [
    {
     "data": {
      "image/png": "[encoded data removed]",
      "text/plain": [
       "<Figure size 1440x1440 with 1 Axes>"
      ]
     },
     "metadata": {
      "needs_background": "light"
     },
     "output_type": "display_data"
    }
   ],
   "source": [
    "fig = plt.figure(figsize=(20, 20))\n",
    "plt.scatter(X_pca[:,0], X_pca[:,1], c = y_kmeans, s = 30, cmap='rainbow')\n",
    "plt.xlabel('1st Principal Component')\n",
    "plt.ylabel('2nd Principal Component')\n",
    "plt.title('Scatter Plot of the 2 Principal Component')\n",
    "plt.show()"
   ]
  },
  {
   "cell_type": "code",
   "execution_count": 43,
   "id": "8d9fa0c2",
   "metadata": {},
   "outputs": [
    {
     "data": {
      "text/plain": [
       "0.7170687752489848"
      ]
     },
     "execution_count": 43,
     "metadata": {},
     "output_type": "execute_result"
    }
   ],
   "source": [
    "davies_bouldin_score(X_pca, y_kmeans)"
   ]
  },
  {
   "cell_type": "code",
   "execution_count": 45,
   "id": "b60e68a9",
   "metadata": {},
   "outputs": [],
   "source": [
    "def diameter(points):\n",
    "    if points.shape[0] <= 1:\n",
    "        return 0\n",
    "    if points.shape[0] == 2:\n",
    "        return ((points[0] - points[1]) ** 2).sum()\n",
    "    hull = spatial.ConvexHull(points)\n",
    "    candidates = points[spatial.ConvexHull(points).vertices]\n",
    "    return spatial.distance_matrix(candidates, candidates).max()"
   ]
  },
  {
   "cell_type": "code",
   "execution_count": 46,
   "id": "fbb62116",
   "metadata": {},
   "outputs": [],
   "source": [
    "def dunn_index(points, labels, centroids):\n",
    "    max_dist = max(diameter(points[labels == i]) for i in np.unique(labels))\n",
    "    cluster_dmat = spatial.distance_matrix(centroids, centroids)\n",
    "    return max_dist"
   ]
  },
  {
   "cell_type": "code",
   "execution_count": 47,
   "id": "5f9e6059",
   "metadata": {},
   "outputs": [
    {
     "data": {
      "text/plain": [
       "139.69745866685943"
      ]
     },
     "execution_count": 47,
     "metadata": {},
     "output_type": "execute_result"
    }
   ],
   "source": [
    "dunn_index(X_pca, y_kmeans, kmeans_cluster.cluster_centers_)"
   ]
  }
 ],
 "metadata": {
  "kernelspec": {
   "display_name": "Python 3 (ipykernel)",
   "language": "python",
   "name": "python3"
  },
  "language_info": {
   "codemirror_mode": {
    "name": "ipython",
    "version": 3
   },
   "file_extension": ".py",
   "mimetype": "text/x-python",
   "name": "python",
   "nbconvert_exporter": "python",
   "pygments_lexer": "ipython3",
   "version": "3.9.12"
  }
 },
 "nbformat": 4,
 "nbformat_minor": 5
}
